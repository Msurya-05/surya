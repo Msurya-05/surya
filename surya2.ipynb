{
 "cells": [
  {
   "cell_type": "code",
   "execution_count": 1,
   "id": "10160129-3c10-43c4-bc3c-a471ca3e0d01",
   "metadata": {},
   "outputs": [
    {
     "name": "stdin",
     "output_type": "stream",
     "text": [
      "enter the value of a: 2\n",
      "enter the value of b: 1\n",
      "enter the value of c: 2\n",
      "enter the value of x: 3\n"
     ]
    },
    {
     "name": "stdout",
     "output_type": "stream",
     "text": [
      "the result of the equation is  23\n"
     ]
    }
   ],
   "source": [
    "a=int(input(\"enter the value of a:\"))\n",
    "b=int(input(\"enter the value of b:\"))\n",
    "c=int(input(\"enter the value of c:\"))\n",
    "x=int(input(\"enter the value of x:\"))\n",
    "result=a*(x**2)+b*x+c\n",
    "print(\"the result of the equation is \",result)\n"
   ]
  },
  {
   "cell_type": "code",
   "execution_count": 3,
   "id": "664ac90e-5690-4a19-9b8a-d80f8ab69af8",
   "metadata": {},
   "outputs": [
    {
     "name": "stdout",
     "output_type": "stream",
     "text": [
      "10 2\n"
     ]
    }
   ],
   "source": [
    "a=10\n",
    "b=2\n",
    "print(a,b)\n",
    "a,b=b,a\n",
    "\n"
   ]
  },
  {
   "cell_type": "code",
   "execution_count": 5,
   "id": "98ab4d13-7fdc-4f9f-9130-417a539d4ce8",
   "metadata": {},
   "outputs": [
    {
     "name": "stdin",
     "output_type": "stream",
     "text": [
      "enter the value of a: 2\n",
      "enter the value of b: 3\n"
     ]
    },
    {
     "name": "stdout",
     "output_type": "stream",
     "text": [
      "2 3\n",
      "3 2\n"
     ]
    }
   ],
   "source": [
    "a=int(input(\"enter the value of a:\"))\n",
    "b=int(input(\"enter the value of b:\"))\n",
    "print(a,b)\n",
    "temp=a\n",
    "a=b\n",
    "b=temp\n",
    "print(a,b)\n",
    "\n"
   ]
  },
  {
   "cell_type": "code",
   "execution_count": 7,
   "id": "76daf129-bf95-42c1-9451-8e9ea76a6ae9",
   "metadata": {},
   "outputs": [
    {
     "name": "stdin",
     "output_type": "stream",
     "text": [
      "enter the value of a: 4\n",
      "enter the value of b: 5\n"
     ]
    },
    {
     "name": "stdout",
     "output_type": "stream",
     "text": [
      "before swap 4 5\n",
      "after swap 5 4\n"
     ]
    }
   ],
   "source": [
    "\n",
    "#swapping using airthemetic operators + -\n",
    "a=int(input(\"enter the value of a:\"))\n",
    "b=int(input(\"enter the value of b:\"))\n",
    "print(\"before swap\",a,b)\n",
    "a=a+b\n",
    "b=a-b\n",
    "a=a-b\n",
    "print(\"after swap\",a,b)\n",
    "\n"
   ]
  },
  {
   "cell_type": "code",
   "execution_count": 9,
   "id": "f0863112-51be-4440-8c1b-25232003ae9e",
   "metadata": {},
   "outputs": [
    {
     "name": "stdin",
     "output_type": "stream",
     "text": [
      "enter the value of a: 7\n",
      "enter the value of b: 9\n"
     ]
    },
    {
     "name": "stdout",
     "output_type": "stream",
     "text": [
      "before swap 7 9\n",
      "after swap 9 7\n"
     ]
    }
   ],
   "source": [
    "#swapping using airthemetic operators * /\n",
    "a=int(input(\"enter the value of a:\"))\n",
    "b=int(input(\"enter the value of b:\"))\n",
    "print(\"before swap\",a,b)\n",
    "a=a*b\n",
    "b=a/b\n",
    "a=a/b\n",
    "print(\"after swap\",round(a),round(b))\n",
    "\n"
   ]
  },
  {
   "cell_type": "code",
   "execution_count": 11,
   "id": "5929b443-2d40-411a-90af-71dff261c160",
   "metadata": {},
   "outputs": [
    {
     "name": "stdin",
     "output_type": "stream",
     "text": [
      "enter the value of a: 7\n",
      "enter the value of b: 6\n"
     ]
    },
    {
     "name": "stdout",
     "output_type": "stream",
     "text": [
      "before swap 7 6\n",
      "after swap 6 7\n"
     ]
    }
   ],
   "source": [
    "#swapping using airthemetic operators xor\n",
    "a=int(input(\"enter the value of a:\"))\n",
    "b=int(input(\"enter the value of b:\"))\n",
    "print(\"before swap\",a,b)\n",
    "a=a^b\n",
    "b=a^b\n",
    "a=a^b\n",
    "print(\"after swap\",round(a),round(b))\n",
    "            \n",
    "\n"
   ]
  },
  {
   "cell_type": "code",
   "execution_count": 15,
   "id": "24da59e0-5119-4e20-a900-7bba02d60808",
   "metadata": {},
   "outputs": [
    {
     "name": "stdin",
     "output_type": "stream",
     "text": [
      "enter the radius: 7.5\n"
     ]
    },
    {
     "name": "stdout",
     "output_type": "stream",
     "text": [
      "176.7144375\n",
      "47.12385\n"
     ]
    }
   ],
   "source": [
    "#write a code to calculate the area and circumference by taking a manual radius and assigning the pi valu\n",
    "r=float(input(\"enter the radius:\"))\n",
    "pi=3.14159\n",
    "area=pi*r**2\n",
    "circumference=2*pi*r\n",
    "print(area)\n",
    "print(circumference)\n",
    "\n"
   ]
  },
  {
   "cell_type": "code",
   "execution_count": 17,
   "id": "64ca92b5-ef80-4b72-ac04-6962fb19d7f0",
   "metadata": {},
   "outputs": [
    {
     "name": "stdin",
     "output_type": "stream",
     "text": [
      "enter the radius: 7.5\n"
     ]
    },
    {
     "name": "stdout",
     "output_type": "stream",
     "text": [
      "176.71458676442586\n",
      "47.12388980384689\n"
     ]
    }
   ],
   "source": [
    "from math import pi\n",
    "r=float(input(\"enter the radius:\"))\n",
    "area=pi*r**2\n",
    "circumference=2*pi*r\n",
    "print(area)\n",
    "print(circumference)\n",
    "\n",
    "\n"
   ]
  },
  {
   "cell_type": "code",
   "execution_count": 19,
   "id": "5a32c63c-dfe1-4ea2-af17-939cd57b692c",
   "metadata": {},
   "outputs": [
    {
     "name": "stdout",
     "output_type": "stream",
     "text": [
      "4.0\n",
      "8.0\n"
     ]
    }
   ],
   "source": [
    "#power and sqrt\n",
    "from math import sqrt,pow\n",
    "n=16\n",
    "print(sqrt(n))\n",
    "print(pow(2,3))\n",
    "\n"
   ]
  },
  {
   "cell_type": "code",
   "execution_count": 23,
   "id": "6479be90-35df-427b-8c92-e0690c8a020b",
   "metadata": {},
   "outputs": [
    {
     "name": "stdout",
     "output_type": "stream",
     "text": [
      "sin: 0.49999999999999994\n",
      "cos: 0.8660254037844387\n",
      "tan: 0.5773502691896257\n"
     ]
    }
   ],
   "source": [
    "#trignomtric functions\n",
    "from math import sin,cos,tan,radians\n",
    "angle=30\n",
    "print(\"sin:\",sin(radians(angle)))\n",
    "print(\"cos:\",cos(radians(angle)))\n",
    "print(\"tan:\",tan(radians(angle)))\n",
    "\n",
    "\n"
   ]
  },
  {
   "cell_type": "code",
   "execution_count": 25,
   "id": "8c784f1c-bfec-4dfb-b78c-7e81cfa26145",
   "metadata": {},
   "outputs": [
    {
     "name": "stdout",
     "output_type": "stream",
     "text": [
      "floor: 3\n",
      "ceil: 4\n"
     ]
    }
   ],
   "source": [
    "from math import floor,ceil\n",
    "num=3.2\n",
    "print(\"floor:\",floor(num))\n",
    "print(\"ceil:\",ceil(num))"
   ]
  },
  {
   "cell_type": "code",
   "execution_count": 27,
   "id": "d36d13c6-01a2-4cc9-b9e6-83e7ad716bbc",
   "metadata": {},
   "outputs": [
    {
     "name": "stdout",
     "output_type": "stream",
     "text": [
      "current time: 2025-05-09 11:26:15.159581\n",
      "Date: 2025-05-09\n",
      "time: 11:26:15.159581\n"
     ]
    }
   ],
   "source": [
    "from datetime import datetime\n",
    "now=datetime.now()\n",
    "print(\"current time:\",now)\n",
    "print(\"Date:\",now.date())\n",
    "print(\"time:\",now.time())\n"
   ]
  },
  {
   "cell_type": "code",
   "execution_count": null,
   "id": "77935c77-5da8-44e0-8636-4a15a9efeaed",
   "metadata": {},
   "outputs": [],
   "source": []
  }
 ],
 "metadata": {
  "kernelspec": {
   "display_name": "Python 3 (ipykernel)",
   "language": "python",
   "name": "python3"
  },
  "language_info": {
   "codemirror_mode": {
    "name": "ipython",
    "version": 3
   },
   "file_extension": ".py",
   "mimetype": "text/x-python",
   "name": "python",
   "nbconvert_exporter": "python",
   "pygments_lexer": "ipython3",
   "version": "3.12.7"
  }
 },
 "nbformat": 4,
 "nbformat_minor": 5
}
