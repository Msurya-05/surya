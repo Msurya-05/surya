{
 "cells": [
  {
   "cell_type": "code",
   "execution_count": 1,
   "id": "38719908-0250-4da0-ad26-f84f4d87fd3e",
   "metadata": {},
   "outputs": [
    {
     "name": "stdout",
     "output_type": "stream",
     "text": [
      "2 1\n"
     ]
    }
   ],
   "source": [
    "a=1\n",
    "b=2\n",
    "a,b=b,a\n",
    "print(a,b)\n"
   ]
  },
  {
   "cell_type": "code",
   "execution_count": 3,
   "id": "4f47fda3-0144-422c-b662-f0cc5e7bc1bd",
   "metadata": {},
   "outputs": [
    {
     "name": "stdout",
     "output_type": "stream",
     "text": [
      "2 1\n"
     ]
    }
   ],
   "source": [
    "a=1\n",
    "b=2\n",
    "temp=a\n",
    "a=b\n",
    "b=temp\n",
    "print(a,b)"
   ]
  },
  {
   "cell_type": "code",
   "execution_count": 5,
   "id": "3dee4e14-e6a0-408e-8e54-6bea813dd128",
   "metadata": {},
   "outputs": [
    {
     "name": "stdout",
     "output_type": "stream",
     "text": [
      "a: 1\n",
      "b: 2\n",
      "a: 2\n",
      "b: 1\n"
     ]
    }
   ],
   "source": [
    "a=1\n",
    "b=2\n",
    "print(\"a:\",a)\n",
    "print(\"b:\",b)\n",
    "temp=a\n",
    "a=b\n",
    "b=temp\n",
    "print(\"a:\",a)\n",
    "print(\"b:\",b)\n"
   ]
  },
  {
   "cell_type": "code",
   "execution_count": 7,
   "id": "01c772bb-be77-4352-9a0c-74898c9bbdcd",
   "metadata": {},
   "outputs": [
    {
     "name": "stdin",
     "output_type": "stream",
     "text": [
      "enter the value of a: 5\n",
      "enter the value of b: 6\n"
     ]
    },
    {
     "name": "stdout",
     "output_type": "stream",
     "text": [
      "after swapping\n",
      "a: 6\n",
      "b: 5\n"
     ]
    }
   ],
   "source": [
    "a=int(input(\"enter the value of a:\"))\n",
    "b=int(input(\"enter the value of b:\"))\n",
    "a=a+b\n",
    "b=a-b\n",
    "a=a-b\n",
    "print(\"after swapping\")\n",
    "print(\"a:\",a)\n",
    "print(\"b:\",b)"
   ]
  },
  {
   "cell_type": "code",
   "execution_count": 11,
   "id": "966c91ea-374a-439c-aa4d-2e9a717e7722",
   "metadata": {},
   "outputs": [
    {
     "name": "stdin",
     "output_type": "stream",
     "text": [
      "enter the value of a: 6\n",
      "enter the value of b: 5\n"
     ]
    },
    {
     "name": "stdout",
     "output_type": "stream",
     "text": [
      "5.0 6.0\n"
     ]
    }
   ],
   "source": [
    "a=int(input(\"enter the value of a:\"))\n",
    "b=int(input(\"enter the value of b:\"))\n",
    "a=a*b\n",
    "b=a/b\n",
    "a=a/b\n",
    "print(a,b)\n"
   ]
  },
  {
   "cell_type": "code",
   "execution_count": 13,
   "id": "bdb0d384-6ef9-47b2-abe6-a097fe46d2f2",
   "metadata": {},
   "outputs": [
    {
     "name": "stdin",
     "output_type": "stream",
     "text": [
      "enter the value of a: 1\n",
      "enter the value of b: 2\n"
     ]
    },
    {
     "name": "stdout",
     "output_type": "stream",
     "text": [
      "2 1\n"
     ]
    }
   ],
   "source": [
    "a=int(input(\"enter the value of a:\"))\n",
    "b=int(input(\"enter the value of b:\"))\n",
    "a=a^b\n",
    "b=a^b\n",
    "a=a^b\n",
    "print(a,b)\n",
    "\n",
    "\n"
   ]
  },
  {
   "cell_type": "code",
   "execution_count": 15,
   "id": "c9d41ce4-3cec-46fb-87bb-2b4193cc7142",
   "metadata": {},
   "outputs": [
    {
     "name": "stdout",
     "output_type": "stream",
     "text": [
      "['apple', 'mango', 'cherry']\n",
      "mango\n",
      "['apple', 'mango', 'banana']\n"
     ]
    }
   ],
   "source": [
    "fruits=['apple','mango','cherry']\n",
    "print(fruits)\n",
    "print(fruits[1])\n",
    "fruits[2]='banana'\n",
    "print(fruits)"
   ]
  },
  {
   "cell_type": "code",
   "execution_count": 17,
   "id": "f57f0a89-7e59-4dd7-b2ca-310c696b0c7b",
   "metadata": {},
   "outputs": [
    {
     "name": "stdout",
     "output_type": "stream",
     "text": [
      "['apple', 'mango', 'cherry']\n",
      "mango\n",
      "['apple', 'mango', 'banana']\n",
      "banana\n"
     ]
    }
   ],
   "source": [
    "fruits=['apple','mango','cherry']\n",
    "print(fruits)\n",
    "print(fruits[1])\n",
    "fruits[2]='banana'\n",
    "print(fruits)\n",
    "print(fruits[-1])"
   ]
  },
  {
   "cell_type": "code",
   "execution_count": 19,
   "id": "670fa76a-c315-431d-ad8d-93bbc2bd5029",
   "metadata": {},
   "outputs": [
    {
     "name": "stdout",
     "output_type": "stream",
     "text": [
      "6\n",
      "[3, 4, 5]\n",
      "[0, 1, 2]\n",
      "[0, 2, 4]\n",
      "[5, 4, 3, 2, 1, 0]\n"
     ]
    }
   ],
   "source": [
    "nums=[0,1,2,3,4,5]\n",
    "print(len(nums))\n",
    "print(nums[3:6])\n",
    "print(nums[:3])\n",
    "print(nums[::2])\n",
    "print(nums[::-1])"
   ]
  },
  {
   "cell_type": "code",
   "execution_count": 21,
   "id": "870eb271-363d-46d3-92f6-b2995d277d8a",
   "metadata": {},
   "outputs": [
    {
     "name": "stdout",
     "output_type": "stream",
     "text": [
      "6\n",
      "[3, 4, 5]\n",
      "[0, 1, 2]\n",
      "[0, 2, 4]\n",
      "[5, 4, 3, 2, 1, 0]\n",
      "False\n"
     ]
    }
   ],
   "source": [
    "nums=[0,1,2,3,4,5]\n",
    "print(len(nums))\n",
    "print(nums[3:6])\n",
    "print(nums[:3])\n",
    "print(nums[::2])\n",
    "print(nums[::-1])\n",
    "print(6 in nums)"
   ]
  },
  {
   "cell_type": "code",
   "execution_count": 25,
   "id": "e2068646-cf48-4329-9d7a-357e490d6371",
   "metadata": {},
   "outputs": [
    {
     "name": "stdout",
     "output_type": "stream",
     "text": [
      "['apple', 'cherry', 'mango']\n"
     ]
    }
   ],
   "source": [
    "fruits=['apple','mango','cherry']\n",
    "fruits.sort()\n",
    "print(fruits)"
   ]
  },
  {
   "cell_type": "code",
   "execution_count": 27,
   "id": "d5623f49-c2c7-4f51-af40-947acf6c0c76",
   "metadata": {},
   "outputs": [
    {
     "name": "stdout",
     "output_type": "stream",
     "text": [
      "['apple', 'cherry', 'mango']\n",
      "['mango', 'cherry', 'apple']\n"
     ]
    }
   ],
   "source": [
    "fruits=['apple','mango','cherry']\n",
    "fruits.sort()\n",
    "print(fruits)\n",
    "fruits.reverse()\n",
    "print(fruits)"
   ]
  },
  {
   "cell_type": "code",
   "execution_count": 29,
   "id": "6ac52dc0-d4af-44ef-ade5-5c0b5665d7cb",
   "metadata": {},
   "outputs": [
    {
     "name": "stdout",
     "output_type": "stream",
     "text": [
      "[3, 4]\n",
      "5\n",
      "3\n"
     ]
    }
   ],
   "source": [
    "nestnum=[[1,2],[3,4],[5,6]]\n",
    "print(nestnum[1])\n",
    "print(nestnum[2][0])\n",
    "print(nestnum[1][0])"
   ]
  },
  {
   "cell_type": "code",
   "execution_count": null,
   "id": "d3fe09c5-32b3-4d5a-b31d-9af20b66cfa5",
   "metadata": {},
   "outputs": [],
   "source": []
  }
 ],
 "metadata": {
  "kernelspec": {
   "display_name": "Python 3 (ipykernel)",
   "language": "python",
   "name": "python3"
  },
  "language_info": {
   "codemirror_mode": {
    "name": "ipython",
    "version": 3
   },
   "file_extension": ".py",
   "mimetype": "text/x-python",
   "name": "python",
   "nbconvert_exporter": "python",
   "pygments_lexer": "ipython3",
   "version": "3.12.7"
  }
 },
 "nbformat": 4,
 "nbformat_minor": 5
}
