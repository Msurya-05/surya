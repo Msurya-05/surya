{
 "cells": [
  {
   "cell_type": "code",
   "execution_count": 1,
   "id": "cf9ad0e1-ad26-4585-982b-5214f7b3b421",
   "metadata": {},
   "outputs": [
    {
     "name": "stdout",
     "output_type": "stream",
     "text": [
      ". . . . . . . . . . \n",
      ". . . . . . . . F . \n",
      ". . . . . . . . . . \n",
      ". . . . . . . . . . \n",
      ". . . . . . . . . . \n",
      ". . . . . S . . . . \n",
      ". . . . . . . . . . \n",
      ". . . . . . . . . . \n",
      ". . . . . . . . . . \n",
      ". . . . . . . . . . \n",
      "\n",
      "score: 0\n"
     ]
    },
    {
     "name": "stdin",
     "output_type": "stream",
     "text": [
      "Enter direction (up/down/left/right): up\n"
     ]
    },
    {
     "ename": "TypeError",
     "evalue": "cannot unpack non-iterable NoneType object",
     "output_type": "error",
     "traceback": [
      "\u001b[1;31m---------------------------------------------------------------------------\u001b[0m",
      "\u001b[1;31mTypeError\u001b[0m                                 Traceback (most recent call last)",
      "Cell \u001b[1;32mIn[1], line 65\u001b[0m\n\u001b[0;32m     63\u001b[0m             snake\u001b[38;5;241m.\u001b[39mpop(\u001b[38;5;241m0\u001b[39m)\n\u001b[0;32m     64\u001b[0m     \u001b[38;5;28mprint\u001b[39m(\u001b[38;5;124m\"\u001b[39m\u001b[38;5;124mFinal Score:\u001b[39m\u001b[38;5;124m\"\u001b[39m, score)\n\u001b[1;32m---> 65\u001b[0m snake_game()\n",
      "Cell \u001b[1;32mIn[1], line 52\u001b[0m, in \u001b[0;36msnake_game\u001b[1;34m()\u001b[0m\n\u001b[0;32m     50\u001b[0m \u001b[38;5;28mprint\u001b[39m(\u001b[38;5;124m\"\u001b[39m\u001b[38;5;124mscore:\u001b[39m\u001b[38;5;124m\"\u001b[39m,score)\n\u001b[0;32m     51\u001b[0m direction\u001b[38;5;241m=\u001b[39m \u001b[38;5;28minput\u001b[39m(\u001b[38;5;124m\"\u001b[39m\u001b[38;5;124mEnter direction (up/down/left/right):\u001b[39m\u001b[38;5;124m\"\u001b[39m)\n\u001b[1;32m---> 52\u001b[0m snake, result\u001b[38;5;241m=\u001b[39mmove_snake (snake, direction)\n\u001b[0;32m     53\u001b[0m \u001b[38;5;28;01mif\u001b[39;00m result\u001b[38;5;241m==\u001b[39m \u001b[38;5;124m\"\u001b[39m\u001b[38;5;124mwall\u001b[39m\u001b[38;5;124m\"\u001b[39m:\n\u001b[0;32m     54\u001b[0m     \u001b[38;5;28mprint\u001b[39m(\u001b[38;5;124m\"\u001b[39m\u001b[38;5;124mYou hit the wall, Game Over!!!\u001b[39m\u001b[38;5;124m\"\u001b[39m)\n",
      "\u001b[1;31mTypeError\u001b[0m: cannot unpack non-iterable NoneType object"
     ]
    }
   ],
   "source": [
    "import random\n",
    "width= 10\n",
    "height=10\n",
    "\n",
    "def print_board (snake, food):\n",
    "    for y in range(height):\n",
    "        for x in range(width):\n",
    "            if [x,y]== food:\n",
    "                print(\"F\", end=\" \")\n",
    "            elif [x,y] in snake:\n",
    "                print(\"S\", end=\" \")\n",
    "            else:\n",
    "                print(\".\",end=\" \")\n",
    "        print()\n",
    "    print()\n",
    "def move_snake(snake,direction):\n",
    "    head=snake[-1]\n",
    "    if direction == 'up':\n",
    "        new_head = [head[0], head[1] + 1]\n",
    "    elif direction == 'down':\n",
    "        new_head = [head[0], head[1] - 1]\n",
    "    elif direction == 'left':\n",
    "        new_head = [head[0] - 1, head[1]]\n",
    "    elif direction == 'right':\n",
    "        new_head = [head[0] + 1, head[1]]\n",
    "    else:\n",
    "        print(\"Invalid direction, use left/right/down/up.\")\n",
    "        return snake,False\n",
    "#wall colide conditions\n",
    "        if new_head[0]<0 or new_head[0]>=width or new_head[1]<0 or new_head[1>=height]:\n",
    "            return snake,\"wall\"\n",
    "#self colide conditions \n",
    "        if new_head in snake:\n",
    "            return snake,\"self\"\n",
    "        snake.append(new_head)\n",
    "        return snake,new_head\n",
    "        \n",
    "def place_food (snake):\n",
    "    while True:\n",
    "        x= random.randint(0, width-1)\n",
    "        y= random.randint(0, height-1)\n",
    "        if [x,y] not in snake:\n",
    "            return [x,y]\n",
    "def snake_game():\n",
    "    snake=[[5,5]]\n",
    "    food=place_food(snake)\n",
    "    score=0\n",
    "    while True:\n",
    "        print_board(snake,food)\n",
    "        print(\"score:\",score)\n",
    "        direction= input(\"Enter direction (up/down/left/right):\")\n",
    "        snake, result=move_snake (snake, direction)\n",
    "        if result== \"wall\":\n",
    "            print(\"You hit the wall, Game Over!!!\")\n",
    "            break\n",
    "        elif result==\"self\":\n",
    "            print(\"you hit yourself. Game Over!!!\")\n",
    "            break\n",
    "        elif result==food:\n",
    "            score+=1\n",
    "            food=place_food(snake)\n",
    "        else:\n",
    "            snake.pop(0)\n",
    "    print(\"Final Score:\", score)\n",
    "snake_game()"
   ]
  },
  {
   "cell_type": "code",
   "execution_count": 9,
   "id": "3ddacb97-0b80-4ba2-b6b9-39ea1ead666a",
   "metadata": {},
   "outputs": [
    {
     "name": "stdout",
     "output_type": "stream",
     "text": [
      ". . . . . . . . . . \n",
      ". . . . . . . . . . \n",
      ". . . . . . . . . . \n",
      ". . . . . . . . . . \n",
      ". . . . . . . . . . \n",
      ". . F . . S . . . . \n",
      ". . . . . . . . . . \n",
      ". . . . . . . . . . \n",
      ". . . . . . . . . . \n",
      ". . . . . . . . . . \n",
      "\n",
      "Score: 0\n"
     ]
    },
    {
     "name": "stdin",
     "output_type": "stream",
     "text": [
      "ENTER direction(up/down/left/right): left\n"
     ]
    },
    {
     "name": "stdout",
     "output_type": "stream",
     "text": [
      ". . . . . . . . . . \n",
      ". . . . . . . . . . \n",
      ". . . . . . . . . . \n",
      ". . . . . . . . . . \n",
      ". . . . . . . . . . \n",
      ". . F . S . . . . . \n",
      ". . . . . . . . . . \n",
      ". . . . . . . . . . \n",
      ". . . . . . . . . . \n",
      ". . . . . . . . . . \n",
      "\n",
      "Score: 0\n"
     ]
    },
    {
     "name": "stdin",
     "output_type": "stream",
     "text": [
      "ENTER direction(up/down/left/right): left\n"
     ]
    },
    {
     "name": "stdout",
     "output_type": "stream",
     "text": [
      ". . . . . . . . . . \n",
      ". . . . . . . . . . \n",
      ". . . . . . . . . . \n",
      ". . . . . . . . . . \n",
      ". . . . . . . . . . \n",
      ". . F S . . . . . . \n",
      ". . . . . . . . . . \n",
      ". . . . . . . . . . \n",
      ". . . . . . . . . . \n",
      ". . . . . . . . . . \n",
      "\n",
      "Score: 0\n"
     ]
    },
    {
     "name": "stdin",
     "output_type": "stream",
     "text": [
      "ENTER direction(up/down/left/right): left\n"
     ]
    },
    {
     "name": "stdout",
     "output_type": "stream",
     "text": [
      ". . . . . . . . . . \n",
      ". F . . . . . . . . \n",
      ". . . . . . . . . . \n",
      ". . . . . . . . . . \n",
      ". . . . . . . . . . \n",
      ". . S S . . . . . . \n",
      ". . . . . . . . . . \n",
      ". . . . . . . . . . \n",
      ". . . . . . . . . . \n",
      ". . . . . . . . . . \n",
      "\n",
      "Score: 1\n"
     ]
    },
    {
     "name": "stdin",
     "output_type": "stream",
     "text": [
      "ENTER direction(up/down/left/right): left\n"
     ]
    },
    {
     "name": "stdout",
     "output_type": "stream",
     "text": [
      ". . . . . . . . . . \n",
      ". F . . . . . . . . \n",
      ". . . . . . . . . . \n",
      ". . . . . . . . . . \n",
      ". . . . . . . . . . \n",
      ". S S . . . . . . . \n",
      ". . . . . . . . . . \n",
      ". . . . . . . . . . \n",
      ". . . . . . . . . . \n",
      ". . . . . . . . . . \n",
      "\n",
      "Score: 1\n"
     ]
    },
    {
     "name": "stdin",
     "output_type": "stream",
     "text": [
      "ENTER direction(up/down/left/right): up\n"
     ]
    },
    {
     "name": "stdout",
     "output_type": "stream",
     "text": [
      ". . . . . . . . . . \n",
      ". F . . . . . . . . \n",
      ". . . . . . . . . . \n",
      ". . . . . . . . . . \n",
      ". S . . . . . . . . \n",
      ". S . . . . . . . . \n",
      ". . . . . . . . . . \n",
      ". . . . . . . . . . \n",
      ". . . . . . . . . . \n",
      ". . . . . . . . . . \n",
      "\n",
      "Score: 1\n"
     ]
    },
    {
     "name": "stdin",
     "output_type": "stream",
     "text": [
      "ENTER direction(up/down/left/right): up\n"
     ]
    },
    {
     "name": "stdout",
     "output_type": "stream",
     "text": [
      ". . . . . . . . . . \n",
      ". F . . . . . . . . \n",
      ". . . . . . . . . . \n",
      ". S . . . . . . . . \n",
      ". S . . . . . . . . \n",
      ". . . . . . . . . . \n",
      ". . . . . . . . . . \n",
      ". . . . . . . . . . \n",
      ". . . . . . . . . . \n",
      ". . . . . . . . . . \n",
      "\n",
      "Score: 1\n"
     ]
    },
    {
     "name": "stdin",
     "output_type": "stream",
     "text": [
      "ENTER direction(up/down/left/right): up\n"
     ]
    },
    {
     "name": "stdout",
     "output_type": "stream",
     "text": [
      ". . . . . . . . . . \n",
      ". F . . . . . . . . \n",
      ". S . . . . . . . . \n",
      ". S . . . . . . . . \n",
      ". . . . . . . . . . \n",
      ". . . . . . . . . . \n",
      ". . . . . . . . . . \n",
      ". . . . . . . . . . \n",
      ". . . . . . . . . . \n",
      ". . . . . . . . . . \n",
      "\n",
      "Score: 1\n"
     ]
    },
    {
     "name": "stdin",
     "output_type": "stream",
     "text": [
      "ENTER direction(up/down/left/right): up\n"
     ]
    },
    {
     "name": "stdout",
     "output_type": "stream",
     "text": [
      ". . . . . . . . . . \n",
      ". S . . . . . . . . \n",
      ". S . . . . . . . . \n",
      ". S F . . . . . . . \n",
      ". . . . . . . . . . \n",
      ". . . . . . . . . . \n",
      ". . . . . . . . . . \n",
      ". . . . . . . . . . \n",
      ". . . . . . . . . . \n",
      ". . . . . . . . . . \n",
      "\n",
      "Score: 2\n"
     ]
    },
    {
     "name": "stdin",
     "output_type": "stream",
     "text": [
      "ENTER direction(up/down/left/right): right\n"
     ]
    },
    {
     "name": "stdout",
     "output_type": "stream",
     "text": [
      ". . . . . . . . . . \n",
      ". S S . . . . . . . \n",
      ". S . . . . . . . . \n",
      ". . F . . . . . . . \n",
      ". . . . . . . . . . \n",
      ". . . . . . . . . . \n",
      ". . . . . . . . . . \n",
      ". . . . . . . . . . \n",
      ". . . . . . . . . . \n",
      ". . . . . . . . . . \n",
      "\n",
      "Score: 2\n"
     ]
    },
    {
     "name": "stdin",
     "output_type": "stream",
     "text": [
      "ENTER direction(up/down/left/right): dow\n"
     ]
    },
    {
     "name": "stdout",
     "output_type": "stream",
     "text": [
      "Invalid direction,use up/down/right/left.\n",
      ". . . . . . . . . . \n",
      ". S S . . . . . . . \n",
      ". . . . . . . . . . \n",
      ". . F . . . . . . . \n",
      ". . . . . . . . . . \n",
      ". . . . . . . . . . \n",
      ". . . . . . . . . . \n",
      ". . . . . . . . . . \n",
      ". . . . . . . . . . \n",
      ". . . . . . . . . . \n",
      "\n",
      "Score: 2\n"
     ]
    },
    {
     "name": "stdin",
     "output_type": "stream",
     "text": [
      "ENTER direction(up/down/left/right): down\n"
     ]
    },
    {
     "name": "stdout",
     "output_type": "stream",
     "text": [
      ". . . . . . . . . . \n",
      ". . S . . . . . . . \n",
      ". . S . . . . . . . \n",
      ". . F . . . . . . . \n",
      ". . . . . . . . . . \n",
      ". . . . . . . . . . \n",
      ". . . . . . . . . . \n",
      ". . . . . . . . . . \n",
      ". . . . . . . . . . \n",
      ". . . . . . . . . . \n",
      "\n",
      "Score: 2\n"
     ]
    },
    {
     "name": "stdin",
     "output_type": "stream",
     "text": [
      "ENTER direction(up/down/left/right): down\n"
     ]
    },
    {
     "name": "stdout",
     "output_type": "stream",
     "text": [
      ". . . . . . . . . . \n",
      ". . S . . . . . . . \n",
      ". F S . . . . . . . \n",
      ". . S . . . . . . . \n",
      ". . . . . . . . . . \n",
      ". . . . . . . . . . \n",
      ". . . . . . . . . . \n",
      ". . . . . . . . . . \n",
      ". . . . . . . . . . \n",
      ". . . . . . . . . . \n",
      "\n",
      "Score: 3\n"
     ]
    },
    {
     "name": "stdin",
     "output_type": "stream",
     "text": [
      "ENTER direction(up/down/left/right): down\n"
     ]
    },
    {
     "name": "stdout",
     "output_type": "stream",
     "text": [
      ". . . . . . . . . . \n",
      ". . . . . . . . . . \n",
      ". F S . . . . . . . \n",
      ". . S . . . . . . . \n",
      ". . S . . . . . . . \n",
      ". . . . . . . . . . \n",
      ". . . . . . . . . . \n",
      ". . . . . . . . . . \n",
      ". . . . . . . . . . \n",
      ". . . . . . . . . . \n",
      "\n",
      "Score: 3\n"
     ]
    },
    {
     "name": "stdin",
     "output_type": "stream",
     "text": [
      "ENTER direction(up/down/left/right): left\n"
     ]
    },
    {
     "name": "stdout",
     "output_type": "stream",
     "text": [
      ". . . . . . . . . . \n",
      ". . . . . . . . . . \n",
      ". F . . . . . . . . \n",
      ". . S . . . . . . . \n",
      ". S S . . . . . . . \n",
      ". . . . . . . . . . \n",
      ". . . . . . . . . . \n",
      ". . . . . . . . . . \n",
      ". . . . . . . . . . \n",
      ". . . . . . . . . . \n",
      "\n",
      "Score: 3\n"
     ]
    },
    {
     "name": "stdin",
     "output_type": "stream",
     "text": [
      "ENTER direction(up/down/left/right): down\n"
     ]
    },
    {
     "name": "stdout",
     "output_type": "stream",
     "text": [
      ". . . . . . . . . . \n",
      ". . . . . . . . . . \n",
      ". F . . . . . . . . \n",
      ". . . . . . . . . . \n",
      ". S S . . . . . . . \n",
      ". S . . . . . . . . \n",
      ". . . . . . . . . . \n",
      ". . . . . . . . . . \n",
      ". . . . . . . . . . \n",
      ". . . . . . . . . . \n",
      "\n",
      "Score: 3\n"
     ]
    },
    {
     "name": "stdin",
     "output_type": "stream",
     "text": [
      "ENTER direction(up/down/left/right): down\n"
     ]
    },
    {
     "name": "stdout",
     "output_type": "stream",
     "text": [
      ". . . . . . . . . . \n",
      ". . . . . . . . . . \n",
      ". F . . . . . . . . \n",
      ". . . . . . . . . . \n",
      ". S . . . . . . . . \n",
      ". S . . . . . . . . \n",
      ". S . . . . . . . . \n",
      ". . . . . . . . . . \n",
      ". . . . . . . . . . \n",
      ". . . . . . . . . . \n",
      "\n",
      "Score: 3\n"
     ]
    },
    {
     "name": "stdin",
     "output_type": "stream",
     "text": [
      "ENTER direction(up/down/left/right): right\n"
     ]
    },
    {
     "name": "stdout",
     "output_type": "stream",
     "text": [
      ". . . . . . . . . . \n",
      ". . . . . . . . . . \n",
      ". F . . . . . . . . \n",
      ". . . . . . . . . . \n",
      ". . . . . . . . . . \n",
      ". S . . . . . . . . \n",
      ". S S . . . . . . . \n",
      ". . . . . . . . . . \n",
      ". . . . . . . . . . \n",
      ". . . . . . . . . . \n",
      "\n",
      "Score: 3\n"
     ]
    },
    {
     "name": "stdin",
     "output_type": "stream",
     "text": [
      "ENTER direction(up/down/left/right): right\n"
     ]
    },
    {
     "name": "stdout",
     "output_type": "stream",
     "text": [
      ". . . . . . . . . . \n",
      ". . . . . . . . . . \n",
      ". F . . . . . . . . \n",
      ". . . . . . . . . . \n",
      ". . . . . . . . . . \n",
      ". . . . . . . . . . \n",
      ". S S S . . . . . . \n",
      ". . . . . . . . . . \n",
      ". . . . . . . . . . \n",
      ". . . . . . . . . . \n",
      "\n",
      "Score: 3\n"
     ]
    },
    {
     "name": "stdin",
     "output_type": "stream",
     "text": [
      "ENTER direction(up/down/left/right): up\n"
     ]
    },
    {
     "name": "stdout",
     "output_type": "stream",
     "text": [
      ". . . . . . . . . . \n",
      ". . . . . . . . . . \n",
      ". F . . . . . . . . \n",
      ". . . . . . . . . . \n",
      ". . . . . . . . . . \n",
      ". . . S . . . . . . \n",
      ". . S S . . . . . . \n",
      ". . . . . . . . . . \n",
      ". . . . . . . . . . \n",
      ". . . . . . . . . . \n",
      "\n",
      "Score: 3\n"
     ]
    },
    {
     "name": "stdin",
     "output_type": "stream",
     "text": [
      "ENTER direction(up/down/left/right): up\n"
     ]
    },
    {
     "name": "stdout",
     "output_type": "stream",
     "text": [
      ". . . . . . . . . . \n",
      ". . . . . . . . . . \n",
      ". F . . . . . . . . \n",
      ". . . . . . . . . . \n",
      ". . . S . . . . . . \n",
      ". . . S . . . . . . \n",
      ". . . S . . . . . . \n",
      ". . . . . . . . . . \n",
      ". . . . . . . . . . \n",
      ". . . . . . . . . . \n",
      "\n",
      "Score: 3\n"
     ]
    },
    {
     "name": "stdin",
     "output_type": "stream",
     "text": [
      "ENTER direction(up/down/left/right): up\n"
     ]
    },
    {
     "name": "stdout",
     "output_type": "stream",
     "text": [
      ". . . . . . . . . . \n",
      ". . . . . . . . . . \n",
      ". F . . . . . . . . \n",
      ". . . S . . . . . . \n",
      ". . . S . . . . . . \n",
      ". . . S . . . . . . \n",
      ". . . . . . . . . . \n",
      ". . . . . . . . . . \n",
      ". . . . . . . . . . \n",
      ". . . . . . . . . . \n",
      "\n",
      "Score: 3\n"
     ]
    },
    {
     "name": "stdin",
     "output_type": "stream",
     "text": [
      "ENTER direction(up/down/left/right): up\n"
     ]
    },
    {
     "name": "stdout",
     "output_type": "stream",
     "text": [
      ". . . . . . . . . . \n",
      ". . . . . . . . . . \n",
      ". F . S . . . . . . \n",
      ". . . S . . . . . . \n",
      ". . . S . . . . . . \n",
      ". . . . . . . . . . \n",
      ". . . . . . . . . . \n",
      ". . . . . . . . . . \n",
      ". . . . . . . . . . \n",
      ". . . . . . . . . . \n",
      "\n",
      "Score: 3\n"
     ]
    },
    {
     "name": "stdin",
     "output_type": "stream",
     "text": [
      "ENTER direction(up/down/left/right): left\n"
     ]
    },
    {
     "name": "stdout",
     "output_type": "stream",
     "text": [
      ". . . . . . . . . . \n",
      ". . . . . . . . . . \n",
      ". F S S . . . . . . \n",
      ". . . S . . . . . . \n",
      ". . . . . . . . . . \n",
      ". . . . . . . . . . \n",
      ". . . . . . . . . . \n",
      ". . . . . . . . . . \n",
      ". . . . . . . . . . \n",
      ". . . . . . . . . . \n",
      "\n",
      "Score: 3\n"
     ]
    },
    {
     "name": "stdin",
     "output_type": "stream",
     "text": [
      "ENTER direction(up/down/left/right): left\n"
     ]
    },
    {
     "name": "stdout",
     "output_type": "stream",
     "text": [
      ". . . . . . . . . . \n",
      ". . . . . . . . . . \n",
      ". S S S . . . . . . \n",
      ". . . S . . . . . . \n",
      ". . F . . . . . . . \n",
      ". . . . . . . . . . \n",
      ". . . . . . . . . . \n",
      ". . . . . . . . . . \n",
      ". . . . . . . . . . \n",
      ". . . . . . . . . . \n",
      "\n",
      "Score: 4\n"
     ]
    },
    {
     "name": "stdin",
     "output_type": "stream",
     "text": [
      "ENTER direction(up/down/left/right): down\n"
     ]
    },
    {
     "name": "stdout",
     "output_type": "stream",
     "text": [
      ". . . . . . . . . . \n",
      ". . . . . . . . . . \n",
      ". S S S . . . . . . \n",
      ". S . . . . . . . . \n",
      ". . F . . . . . . . \n",
      ". . . . . . . . . . \n",
      ". . . . . . . . . . \n",
      ". . . . . . . . . . \n",
      ". . . . . . . . . . \n",
      ". . . . . . . . . . \n",
      "\n",
      "Score: 4\n"
     ]
    },
    {
     "name": "stdin",
     "output_type": "stream",
     "text": [
      "ENTER direction(up/down/left/right): down\n"
     ]
    },
    {
     "name": "stdout",
     "output_type": "stream",
     "text": [
      ". . . . . . . . . . \n",
      ". . . . . . . . . . \n",
      ". S S . . . . . . . \n",
      ". S . . . . . . . . \n",
      ". S F . . . . . . . \n",
      ". . . . . . . . . . \n",
      ". . . . . . . . . . \n",
      ". . . . . . . . . . \n",
      ". . . . . . . . . . \n",
      ". . . . . . . . . . \n",
      "\n",
      "Score: 4\n"
     ]
    },
    {
     "name": "stdin",
     "output_type": "stream",
     "text": [
      "ENTER direction(up/down/left/right): right\n"
     ]
    },
    {
     "name": "stdout",
     "output_type": "stream",
     "text": [
      ". . . . . . . . . . \n",
      ". . . . . . . . . . \n",
      ". S S . . . . F . . \n",
      ". S . . . . . . . . \n",
      ". S S . . . . . . . \n",
      ". . . . . . . . . . \n",
      ". . . . . . . . . . \n",
      ". . . . . . . . . . \n",
      ". . . . . . . . . . \n",
      ". . . . . . . . . . \n",
      "\n",
      "Score: 5\n"
     ]
    },
    {
     "name": "stdin",
     "output_type": "stream",
     "text": [
      "ENTER direction(up/down/left/right): right\n"
     ]
    },
    {
     "name": "stdout",
     "output_type": "stream",
     "text": [
      ". . . . . . . . . . \n",
      ". . . . . . . . . . \n",
      ". S . . . . . F . . \n",
      ". S . . . . . . . . \n",
      ". S S S . . . . . . \n",
      ". . . . . . . . . . \n",
      ". . . . . . . . . . \n",
      ". . . . . . . . . . \n",
      ". . . . . . . . . . \n",
      ". . . . . . . . . . \n",
      "\n",
      "Score: 5\n"
     ]
    },
    {
     "name": "stdin",
     "output_type": "stream",
     "text": [
      "ENTER direction(up/down/left/right): right\n"
     ]
    },
    {
     "name": "stdout",
     "output_type": "stream",
     "text": [
      ". . . . . . . . . . \n",
      ". . . . . . . . . . \n",
      ". . . . . . . F . . \n",
      ". S . . . . . . . . \n",
      ". S S S S . . . . . \n",
      ". . . . . . . . . . \n",
      ". . . . . . . . . . \n",
      ". . . . . . . . . . \n",
      ". . . . . . . . . . \n",
      ". . . . . . . . . . \n",
      "\n",
      "Score: 5\n"
     ]
    },
    {
     "name": "stdin",
     "output_type": "stream",
     "text": [
      "ENTER direction(up/down/left/right): right\n"
     ]
    },
    {
     "name": "stdout",
     "output_type": "stream",
     "text": [
      ". . . . . . . . . . \n",
      ". . . . . . . . . . \n",
      ". . . . . . . F . . \n",
      ". . . . . . . . . . \n",
      ". S S S S S . . . . \n",
      ". . . . . . . . . . \n",
      ". . . . . . . . . . \n",
      ". . . . . . . . . . \n",
      ". . . . . . . . . . \n",
      ". . . . . . . . . . \n",
      "\n",
      "Score: 5\n"
     ]
    },
    {
     "name": "stdin",
     "output_type": "stream",
     "text": [
      "ENTER direction(up/down/left/right): right\n"
     ]
    },
    {
     "name": "stdout",
     "output_type": "stream",
     "text": [
      ". . . . . . . . . . \n",
      ". . . . . . . . . . \n",
      ". . . . . . . F . . \n",
      ". . . . . . . . . . \n",
      ". . S S S S S . . . \n",
      ". . . . . . . . . . \n",
      ". . . . . . . . . . \n",
      ". . . . . . . . . . \n",
      ". . . . . . . . . . \n",
      ". . . . . . . . . . \n",
      "\n",
      "Score: 5\n"
     ]
    },
    {
     "name": "stdin",
     "output_type": "stream",
     "text": [
      "ENTER direction(up/down/left/right): up\n"
     ]
    },
    {
     "name": "stdout",
     "output_type": "stream",
     "text": [
      ". . . . . . . . . . \n",
      ". . . . . . . . . . \n",
      ". . . . . . . F . . \n",
      ". . . . . . S . . . \n",
      ". . . S S S S . . . \n",
      ". . . . . . . . . . \n",
      ". . . . . . . . . . \n",
      ". . . . . . . . . . \n",
      ". . . . . . . . . . \n",
      ". . . . . . . . . . \n",
      "\n",
      "Score: 5\n"
     ]
    },
    {
     "name": "stdin",
     "output_type": "stream",
     "text": [
      "ENTER direction(up/down/left/right): up\n"
     ]
    },
    {
     "name": "stdout",
     "output_type": "stream",
     "text": [
      ". . . . . . . . . . \n",
      ". . . . . . . . . . \n",
      ". . . . . . S F . . \n",
      ". . . . . . S . . . \n",
      ". . . . S S S . . . \n",
      ". . . . . . . . . . \n",
      ". . . . . . . . . . \n",
      ". . . . . . . . . . \n",
      ". . . . . . . . . . \n",
      ". . . . . . . . . . \n",
      "\n",
      "Score: 5\n"
     ]
    },
    {
     "name": "stdin",
     "output_type": "stream",
     "text": [
      "ENTER direction(up/down/left/right): right\n"
     ]
    },
    {
     "name": "stdout",
     "output_type": "stream",
     "text": [
      ". . . . . . . . . . \n",
      ". . . . . . . . . . \n",
      ". . . . . . S S . . \n",
      ". . . . . . S . . . \n",
      ". . . . S S S . . . \n",
      ". . . . . . . . F . \n",
      ". . . . . . . . . . \n",
      ". . . . . . . . . . \n",
      ". . . . . . . . . . \n",
      ". . . . . . . . . . \n",
      "\n",
      "Score: 6\n"
     ]
    },
    {
     "name": "stdin",
     "output_type": "stream",
     "text": [
      "ENTER direction(up/down/left/right): right\n"
     ]
    },
    {
     "name": "stdout",
     "output_type": "stream",
     "text": [
      ". . . . . . . . . . \n",
      ". . . . . . . . . . \n",
      ". . . . . . S S S . \n",
      ". . . . . . S . . . \n",
      ". . . . . S S . . . \n",
      ". . . . . . . . F . \n",
      ". . . . . . . . . . \n",
      ". . . . . . . . . . \n",
      ". . . . . . . . . . \n",
      ". . . . . . . . . . \n",
      "\n",
      "Score: 6\n"
     ]
    },
    {
     "name": "stdin",
     "output_type": "stream",
     "text": [
      "ENTER direction(up/down/left/right): down\n"
     ]
    },
    {
     "name": "stdout",
     "output_type": "stream",
     "text": [
      ". . . . . . . . . . \n",
      ". . . . . . . . . . \n",
      ". . . . . . S S S . \n",
      ". . . . . . S . S . \n",
      ". . . . . . S . . . \n",
      ". . . . . . . . F . \n",
      ". . . . . . . . . . \n",
      ". . . . . . . . . . \n",
      ". . . . . . . . . . \n",
      ". . . . . . . . . . \n",
      "\n",
      "Score: 6\n"
     ]
    },
    {
     "name": "stdin",
     "output_type": "stream",
     "text": [
      "ENTER direction(up/down/left/right): down\n"
     ]
    },
    {
     "name": "stdout",
     "output_type": "stream",
     "text": [
      ". . . . . . . . . . \n",
      ". . . . . . . . . . \n",
      ". . . . . . S S S . \n",
      ". . . . . . S . S . \n",
      ". . . . . . . . S . \n",
      ". . . . . . . . F . \n",
      ". . . . . . . . . . \n",
      ". . . . . . . . . . \n",
      ". . . . . . . . . . \n",
      ". . . . . . . . . . \n",
      "\n",
      "Score: 6\n"
     ]
    },
    {
     "name": "stdin",
     "output_type": "stream",
     "text": [
      "ENTER direction(up/down/left/right): down\n"
     ]
    },
    {
     "name": "stdout",
     "output_type": "stream",
     "text": [
      ". . . . . . . . . . \n",
      ". . . . . . . . . . \n",
      ". . . . . . S S S . \n",
      ". . . . . . S . S . \n",
      ". . . . . . . . S . \n",
      ". . . . . . . . S . \n",
      ". . . . . . . . . . \n",
      ". . . . . . . . F . \n",
      ". . . . . . . . . . \n",
      ". . . . . . . . . . \n",
      "\n",
      "Score: 7\n"
     ]
    },
    {
     "name": "stdin",
     "output_type": "stream",
     "text": [
      "ENTER direction(up/down/left/right): down\n"
     ]
    },
    {
     "name": "stdout",
     "output_type": "stream",
     "text": [
      ". . . . . . . . . . \n",
      ". . . . . . . . . . \n",
      ". . . . . . S S S . \n",
      ". . . . . . . . S . \n",
      ". . . . . . . . S . \n",
      ". . . . . . . . S . \n",
      ". . . . . . . . S . \n",
      ". . . . . . . . F . \n",
      ". . . . . . . . . . \n",
      ". . . . . . . . . . \n",
      "\n",
      "Score: 7\n"
     ]
    },
    {
     "name": "stdin",
     "output_type": "stream",
     "text": [
      "ENTER direction(up/down/left/right): down\n"
     ]
    },
    {
     "name": "stdout",
     "output_type": "stream",
     "text": [
      ". . . . . . . . . . \n",
      ". . . . . . . . . . \n",
      ". . . . . . S S S . \n",
      ". . . . . . . . S . \n",
      ". . . . F . . . S . \n",
      ". . . . . . . . S . \n",
      ". . . . . . . . S . \n",
      ". . . . . . . . S . \n",
      ". . . . . . . . . . \n",
      ". . . . . . . . . . \n",
      "\n",
      "Score: 8\n"
     ]
    },
    {
     "name": "stdin",
     "output_type": "stream",
     "text": [
      "ENTER direction(up/down/left/right): left\n"
     ]
    },
    {
     "name": "stdout",
     "output_type": "stream",
     "text": [
      ". . . . . . . . . . \n",
      ". . . . . . . . . . \n",
      ". . . . . . . S S . \n",
      ". . . . . . . . S . \n",
      ". . . . F . . . S . \n",
      ". . . . . . . . S . \n",
      ". . . . . . . . S . \n",
      ". . . . . . . S S . \n",
      ". . . . . . . . . . \n",
      ". . . . . . . . . . \n",
      "\n",
      "Score: 8\n"
     ]
    },
    {
     "name": "stdin",
     "output_type": "stream",
     "text": [
      "ENTER direction(up/down/left/right): left\n"
     ]
    },
    {
     "name": "stdout",
     "output_type": "stream",
     "text": [
      ". . . . . . . . . . \n",
      ". . . . . . . . . . \n",
      ". . . . . . . . S . \n",
      ". . . . . . . . S . \n",
      ". . . . F . . . S . \n",
      ". . . . . . . . S . \n",
      ". . . . . . . . S . \n",
      ". . . . . . S S S . \n",
      ". . . . . . . . . . \n",
      ". . . . . . . . . . \n",
      "\n",
      "Score: 8\n"
     ]
    },
    {
     "name": "stdin",
     "output_type": "stream",
     "text": [
      "ENTER direction(up/down/left/right): left\n"
     ]
    },
    {
     "name": "stdout",
     "output_type": "stream",
     "text": [
      ". . . . . . . . . . \n",
      ". . . . . . . . . . \n",
      ". . . . . . . . . . \n",
      ". . . . . . . . S . \n",
      ". . . . F . . . S . \n",
      ". . . . . . . . S . \n",
      ". . . . . . . . S . \n",
      ". . . . . S S S S . \n",
      ". . . . . . . . . . \n",
      ". . . . . . . . . . \n",
      "\n",
      "Score: 8\n"
     ]
    },
    {
     "name": "stdin",
     "output_type": "stream",
     "text": [
      "ENTER direction(up/down/left/right): left\n"
     ]
    },
    {
     "name": "stdout",
     "output_type": "stream",
     "text": [
      ". . . . . . . . . . \n",
      ". . . . . . . . . . \n",
      ". . . . . . . . . . \n",
      ". . . . . . . . . . \n",
      ". . . . F . . . S . \n",
      ". . . . . . . . S . \n",
      ". . . . . . . . S . \n",
      ". . . . S S S S S . \n",
      ". . . . . . . . . . \n",
      ". . . . . . . . . . \n",
      "\n",
      "Score: 8\n"
     ]
    },
    {
     "name": "stdin",
     "output_type": "stream",
     "text": [
      "ENTER direction(up/down/left/right): up\n"
     ]
    },
    {
     "name": "stdout",
     "output_type": "stream",
     "text": [
      ". . . . . . . . . . \n",
      ". . . . . . . . . . \n",
      ". . . . . . . . . . \n",
      ". . . . . . . . . . \n",
      ". . . . F . . . . . \n",
      ". . . . . . . . S . \n",
      ". . . . S . . . S . \n",
      ". . . . S S S S S . \n",
      ". . . . . . . . . . \n",
      ". . . . . . . . . . \n",
      "\n",
      "Score: 8\n"
     ]
    },
    {
     "name": "stdin",
     "output_type": "stream",
     "text": [
      "ENTER direction(up/down/left/right): up\n"
     ]
    },
    {
     "name": "stdout",
     "output_type": "stream",
     "text": [
      ". . . . . . . . . . \n",
      ". . . . . . . . . . \n",
      ". . . . . . . . . . \n",
      ". . . . . . . . . . \n",
      ". . . . F . . . . . \n",
      ". . . . S . . . . . \n",
      ". . . . S . . . S . \n",
      ". . . . S S S S S . \n",
      ". . . . . . . . . . \n",
      ". . . . . . . . . . \n",
      "\n",
      "Score: 8\n"
     ]
    },
    {
     "name": "stdin",
     "output_type": "stream",
     "text": [
      "ENTER direction(up/down/left/right): up\n"
     ]
    },
    {
     "name": "stdout",
     "output_type": "stream",
     "text": [
      ". F . . . . . . . . \n",
      ". . . . . . . . . . \n",
      ". . . . . . . . . . \n",
      ". . . . . . . . . . \n",
      ". . . . S . . . . . \n",
      ". . . . S . . . . . \n",
      ". . . . S . . . S . \n",
      ". . . . S S S S S . \n",
      ". . . . . . . . . . \n",
      ". . . . . . . . . . \n",
      "\n",
      "Score: 9\n"
     ]
    },
    {
     "name": "stdin",
     "output_type": "stream",
     "text": [
      "ENTER direction(up/down/left/right): up\n"
     ]
    },
    {
     "name": "stdout",
     "output_type": "stream",
     "text": [
      ". F . . . . . . . . \n",
      ". . . . . . . . . . \n",
      ". . . . . . . . . . \n",
      ". . . . S . . . . . \n",
      ". . . . S . . . . . \n",
      ". . . . S . . . . . \n",
      ". . . . S . . . . . \n",
      ". . . . S S S S S . \n",
      ". . . . . . . . . . \n",
      ". . . . . . . . . . \n",
      "\n",
      "Score: 9\n"
     ]
    },
    {
     "name": "stdin",
     "output_type": "stream",
     "text": [
      "ENTER direction(up/down/left/right): up\n"
     ]
    },
    {
     "name": "stdout",
     "output_type": "stream",
     "text": [
      ". F . . . . . . . . \n",
      ". . . . . . . . . . \n",
      ". . . . S . . . . . \n",
      ". . . . S . . . . . \n",
      ". . . . S . . . . . \n",
      ". . . . S . . . . . \n",
      ". . . . S . . . . . \n",
      ". . . . S S S S . . \n",
      ". . . . . . . . . . \n",
      ". . . . . . . . . . \n",
      "\n",
      "Score: 9\n"
     ]
    },
    {
     "name": "stdin",
     "output_type": "stream",
     "text": [
      "ENTER direction(up/down/left/right): up\n"
     ]
    },
    {
     "name": "stdout",
     "output_type": "stream",
     "text": [
      ". F . . . . . . . . \n",
      ". . . . S . . . . . \n",
      ". . . . S . . . . . \n",
      ". . . . S . . . . . \n",
      ". . . . S . . . . . \n",
      ". . . . S . . . . . \n",
      ". . . . S . . . . . \n",
      ". . . . S S S . . . \n",
      ". . . . . . . . . . \n",
      ". . . . . . . . . . \n",
      "\n",
      "Score: 9\n"
     ]
    },
    {
     "name": "stdin",
     "output_type": "stream",
     "text": [
      "ENTER direction(up/down/left/right): up\n"
     ]
    },
    {
     "name": "stdout",
     "output_type": "stream",
     "text": [
      ". F . . S . . . . . \n",
      ". . . . S . . . . . \n",
      ". . . . S . . . . . \n",
      ". . . . S . . . . . \n",
      ". . . . S . . . . . \n",
      ". . . . S . . . . . \n",
      ". . . . S . . . . . \n",
      ". . . . S S . . . . \n",
      ". . . . . . . . . . \n",
      ". . . . . . . . . . \n",
      "\n",
      "Score: 9\n"
     ]
    },
    {
     "name": "stdin",
     "output_type": "stream",
     "text": [
      "ENTER direction(up/down/left/right): left\n"
     ]
    },
    {
     "name": "stdout",
     "output_type": "stream",
     "text": [
      ". F . S S . . . . . \n",
      ". . . . S . . . . . \n",
      ". . . . S . . . . . \n",
      ". . . . S . . . . . \n",
      ". . . . S . . . . . \n",
      ". . . . S . . . . . \n",
      ". . . . S . . . . . \n",
      ". . . . S . . . . . \n",
      ". . . . . . . . . . \n",
      ". . . . . . . . . . \n",
      "\n",
      "Score: 9\n"
     ]
    },
    {
     "name": "stdin",
     "output_type": "stream",
     "text": [
      "ENTER direction(up/down/left/right): left\n"
     ]
    },
    {
     "name": "stdout",
     "output_type": "stream",
     "text": [
      ". F S S S . . . . . \n",
      ". . . . S . . . . . \n",
      ". . . . S . . . . . \n",
      ". . . . S . . . . . \n",
      ". . . . S . . . . . \n",
      ". . . . S . . . . . \n",
      ". . . . S . . . . . \n",
      ". . . . . . . . . . \n",
      ". . . . . . . . . . \n",
      ". . . . . . . . . . \n",
      "\n",
      "Score: 9\n"
     ]
    },
    {
     "name": "stdin",
     "output_type": "stream",
     "text": [
      "ENTER direction(up/down/left/right): left\n"
     ]
    },
    {
     "name": "stdout",
     "output_type": "stream",
     "text": [
      ". S S S S . . . . . \n",
      ". . . . S . . . . . \n",
      ". . . . S . . . . . \n",
      ". . . . S . . . . . \n",
      ". . . . S . . . . . \n",
      ". . . . S . . . . . \n",
      ". . . . S . . . . . \n",
      ". . . . . . . . . . \n",
      ". . . . . . . . . F \n",
      ". . . . . . . . . . \n",
      "\n",
      "Score: 10\n"
     ]
    },
    {
     "name": "stdin",
     "output_type": "stream",
     "text": [
      "ENTER direction(up/down/left/right): down\n"
     ]
    },
    {
     "name": "stdout",
     "output_type": "stream",
     "text": [
      ". S S S S . . . . . \n",
      ". S . . S . . . . . \n",
      ". . . . S . . . . . \n",
      ". . . . S . . . . . \n",
      ". . . . S . . . . . \n",
      ". . . . S . . . . . \n",
      ". . . . . . . . . . \n",
      ". . . . . . . . . . \n",
      ". . . . . . . . . F \n",
      ". . . . . . . . . . \n",
      "\n",
      "Score: 10\n"
     ]
    },
    {
     "name": "stdin",
     "output_type": "stream",
     "text": [
      "ENTER direction(up/down/left/right): down\n"
     ]
    },
    {
     "name": "stdout",
     "output_type": "stream",
     "text": [
      ". S S S S . . . . . \n",
      ". S . . S . . . . . \n",
      ". S . . S . . . . . \n",
      ". . . . S . . . . . \n",
      ". . . . S . . . . . \n",
      ". . . . . . . . . . \n",
      ". . . . . . . . . . \n",
      ". . . . . . . . . . \n",
      ". . . . . . . . . F \n",
      ". . . . . . . . . . \n",
      "\n",
      "Score: 10\n"
     ]
    },
    {
     "name": "stdin",
     "output_type": "stream",
     "text": [
      "ENTER direction(up/down/left/right): down\n"
     ]
    },
    {
     "name": "stdout",
     "output_type": "stream",
     "text": [
      ". S S S S . . . . . \n",
      ". S . . S . . . . . \n",
      ". S . . S . . . . . \n",
      ". S . . S . . . . . \n",
      ". . . . . . . . . . \n",
      ". . . . . . . . . . \n",
      ". . . . . . . . . . \n",
      ". . . . . . . . . . \n",
      ". . . . . . . . . F \n",
      ". . . . . . . . . . \n",
      "\n",
      "Score: 10\n"
     ]
    },
    {
     "name": "stdin",
     "output_type": "stream",
     "text": [
      "ENTER direction(up/down/left/right): down\n"
     ]
    },
    {
     "name": "stdout",
     "output_type": "stream",
     "text": [
      ". S S S S . . . . . \n",
      ". S . . S . . . . . \n",
      ". S . . S . . . . . \n",
      ". S . . . . . . . . \n",
      ". S . . . . . . . . \n",
      ". . . . . . . . . . \n",
      ". . . . . . . . . . \n",
      ". . . . . . . . . . \n",
      ". . . . . . . . . F \n",
      ". . . . . . . . . . \n",
      "\n",
      "Score: 10\n"
     ]
    },
    {
     "name": "stdin",
     "output_type": "stream",
     "text": [
      "ENTER direction(up/down/left/right): down\n"
     ]
    },
    {
     "name": "stdout",
     "output_type": "stream",
     "text": [
      ". S S S S . . . . . \n",
      ". S . . S . . . . . \n",
      ". S . . . . . . . . \n",
      ". S . . . . . . . . \n",
      ". S . . . . . . . . \n",
      ". S . . . . . . . . \n",
      ". . . . . . . . . . \n",
      ". . . . . . . . . . \n",
      ". . . . . . . . . F \n",
      ". . . . . . . . . . \n",
      "\n",
      "Score: 10\n"
     ]
    },
    {
     "name": "stdin",
     "output_type": "stream",
     "text": [
      "ENTER direction(up/down/left/right): down\n"
     ]
    },
    {
     "name": "stdout",
     "output_type": "stream",
     "text": [
      ". S S S S . . . . . \n",
      ". S . . . . . . . . \n",
      ". S . . . . . . . . \n",
      ". S . . . . . . . . \n",
      ". S . . . . . . . . \n",
      ". S . . . . . . . . \n",
      ". S . . . . . . . . \n",
      ". . . . . . . . . . \n",
      ". . . . . . . . . F \n",
      ". . . . . . . . . . \n",
      "\n",
      "Score: 10\n"
     ]
    },
    {
     "name": "stdin",
     "output_type": "stream",
     "text": [
      "ENTER direction(up/down/left/right): down\n"
     ]
    },
    {
     "name": "stdout",
     "output_type": "stream",
     "text": [
      ". S S S . . . . . . \n",
      ". S . . . . . . . . \n",
      ". S . . . . . . . . \n",
      ". S . . . . . . . . \n",
      ". S . . . . . . . . \n",
      ". S . . . . . . . . \n",
      ". S . . . . . . . . \n",
      ". S . . . . . . . . \n",
      ". . . . . . . . . F \n",
      ". . . . . . . . . . \n",
      "\n",
      "Score: 10\n"
     ]
    },
    {
     "name": "stdin",
     "output_type": "stream",
     "text": [
      "ENTER direction(up/down/left/right): down\n"
     ]
    },
    {
     "name": "stdout",
     "output_type": "stream",
     "text": [
      ". S S . . . . . . . \n",
      ". S . . . . . . . . \n",
      ". S . . . . . . . . \n",
      ". S . . . . . . . . \n",
      ". S . . . . . . . . \n",
      ". S . . . . . . . . \n",
      ". S . . . . . . . . \n",
      ". S . . . . . . . . \n",
      ". S . . . . . . . F \n",
      ". . . . . . . . . . \n",
      "\n",
      "Score: 10\n"
     ]
    },
    {
     "name": "stdin",
     "output_type": "stream",
     "text": [
      "ENTER direction(up/down/left/right): right\n"
     ]
    },
    {
     "name": "stdout",
     "output_type": "stream",
     "text": [
      ". S . . . . . . . . \n",
      ". S . . . . . . . . \n",
      ". S . . . . . . . . \n",
      ". S . . . . . . . . \n",
      ". S . . . . . . . . \n",
      ". S . . . . . . . . \n",
      ". S . . . . . . . . \n",
      ". S . . . . . . . . \n",
      ". S S . . . . . . F \n",
      ". . . . . . . . . . \n",
      "\n",
      "Score: 10\n"
     ]
    },
    {
     "name": "stdin",
     "output_type": "stream",
     "text": [
      "ENTER direction(up/down/left/right): right\n"
     ]
    },
    {
     "name": "stdout",
     "output_type": "stream",
     "text": [
      ". . . . . . . . . . \n",
      ". S . . . . . . . . \n",
      ". S . . . . . . . . \n",
      ". S . . . . . . . . \n",
      ". S . . . . . . . . \n",
      ". S . . . . . . . . \n",
      ". S . . . . . . . . \n",
      ". S . . . . . . . . \n",
      ". S S S . . . . . F \n",
      ". . . . . . . . . . \n",
      "\n",
      "Score: 10\n"
     ]
    },
    {
     "name": "stdin",
     "output_type": "stream",
     "text": [
      "ENTER direction(up/down/left/right): right\n"
     ]
    },
    {
     "name": "stdout",
     "output_type": "stream",
     "text": [
      ". . . . . . . . . . \n",
      ". . . . . . . . . . \n",
      ". S . . . . . . . . \n",
      ". S . . . . . . . . \n",
      ". S . . . . . . . . \n",
      ". S . . . . . . . . \n",
      ". S . . . . . . . . \n",
      ". S . . . . . . . . \n",
      ". S S S S . . . . F \n",
      ". . . . . . . . . . \n",
      "\n",
      "Score: 10\n"
     ]
    },
    {
     "name": "stdin",
     "output_type": "stream",
     "text": [
      "ENTER direction(up/down/left/right): right\n"
     ]
    },
    {
     "name": "stdout",
     "output_type": "stream",
     "text": [
      ". . . . . . . . . . \n",
      ". . . . . . . . . . \n",
      ". . . . . . . . . . \n",
      ". S . . . . . . . . \n",
      ". S . . . . . . . . \n",
      ". S . . . . . . . . \n",
      ". S . . . . . . . . \n",
      ". S . . . . . . . . \n",
      ". S S S S S . . . F \n",
      ". . . . . . . . . . \n",
      "\n",
      "Score: 10\n"
     ]
    },
    {
     "name": "stdin",
     "output_type": "stream",
     "text": [
      "ENTER direction(up/down/left/right): right\n"
     ]
    },
    {
     "name": "stdout",
     "output_type": "stream",
     "text": [
      ". . . . . . . . . . \n",
      ". . . . . . . . . . \n",
      ". . . . . . . . . . \n",
      ". . . . . . . . . . \n",
      ". S . . . . . . . . \n",
      ". S . . . . . . . . \n",
      ". S . . . . . . . . \n",
      ". S . . . . . . . . \n",
      ". S S S S S S . . F \n",
      ". . . . . . . . . . \n",
      "\n",
      "Score: 10\n"
     ]
    },
    {
     "name": "stdin",
     "output_type": "stream",
     "text": [
      "ENTER direction(up/down/left/right): right\n"
     ]
    },
    {
     "name": "stdout",
     "output_type": "stream",
     "text": [
      ". . . . . . . . . . \n",
      ". . . . . . . . . . \n",
      ". . . . . . . . . . \n",
      ". . . . . . . . . . \n",
      ". . . . . . . . . . \n",
      ". S . . . . . . . . \n",
      ". S . . . . . . . . \n",
      ". S . . . . . . . . \n",
      ". S S S S S S S . F \n",
      ". . . . . . . . . . \n",
      "\n",
      "Score: 10\n"
     ]
    },
    {
     "name": "stdin",
     "output_type": "stream",
     "text": [
      "ENTER direction(up/down/left/right): right\n"
     ]
    },
    {
     "name": "stdout",
     "output_type": "stream",
     "text": [
      ". . . . . . . . . . \n",
      ". . . . . . . . . . \n",
      ". . . . . . . . . . \n",
      ". . . . . . . . . . \n",
      ". . . . . . . . . . \n",
      ". . . . . . . . . . \n",
      ". S . . . . . . . . \n",
      ". S . . . . . . . . \n",
      ". S S S S S S S S F \n",
      ". . . . . . . . . . \n",
      "\n",
      "Score: 10\n"
     ]
    },
    {
     "name": "stdin",
     "output_type": "stream",
     "text": [
      "ENTER direction(up/down/left/right): right\n"
     ]
    },
    {
     "name": "stdout",
     "output_type": "stream",
     "text": [
      ". . . . . . . . . . \n",
      ". . . . . . . . . . \n",
      ". . . . . . . . . . \n",
      ". . . . . . . F . . \n",
      ". . . . . . . . . . \n",
      ". . . . . . . . . . \n",
      ". S . . . . . . . . \n",
      ". S . . . . . . . . \n",
      ". S S S S S S S S S \n",
      ". . . . . . . . . . \n",
      "\n",
      "Score: 11\n"
     ]
    },
    {
     "name": "stdin",
     "output_type": "stream",
     "text": [
      "ENTER direction(up/down/left/right): up\n"
     ]
    },
    {
     "name": "stdout",
     "output_type": "stream",
     "text": [
      ". . . . . . . . . . \n",
      ". . . . . . . . . . \n",
      ". . . . . . . . . . \n",
      ". . . . . . . F . . \n",
      ". . . . . . . . . . \n",
      ". . . . . . . . . . \n",
      ". . . . . . . . . . \n",
      ". S . . . . . . . S \n",
      ". S S S S S S S S S \n",
      ". . . . . . . . . . \n",
      "\n",
      "Score: 11\n"
     ]
    },
    {
     "name": "stdin",
     "output_type": "stream",
     "text": [
      "ENTER direction(up/down/left/right): up\n"
     ]
    },
    {
     "name": "stdout",
     "output_type": "stream",
     "text": [
      ". . . . . . . . . . \n",
      ". . . . . . . . . . \n",
      ". . . . . . . . . . \n",
      ". . . . . . . F . . \n",
      ". . . . . . . . . . \n",
      ". . . . . . . . . . \n",
      ". . . . . . . . . S \n",
      ". . . . . . . . . S \n",
      ". S S S S S S S S S \n",
      ". . . . . . . . . . \n",
      "\n",
      "Score: 11\n"
     ]
    },
    {
     "name": "stdin",
     "output_type": "stream",
     "text": [
      "ENTER direction(up/down/left/right): up\n"
     ]
    },
    {
     "name": "stdout",
     "output_type": "stream",
     "text": [
      ". . . . . . . . . . \n",
      ". . . . . . . . . . \n",
      ". . . . . . . . . . \n",
      ". . . . . . . F . . \n",
      ". . . . . . . . . . \n",
      ". . . . . . . . . S \n",
      ". . . . . . . . . S \n",
      ". . . . . . . . . S \n",
      ". . S S S S S S S S \n",
      ". . . . . . . . . . \n",
      "\n",
      "Score: 11\n"
     ]
    },
    {
     "name": "stdin",
     "output_type": "stream",
     "text": [
      "ENTER direction(up/down/left/right): up\n"
     ]
    },
    {
     "name": "stdout",
     "output_type": "stream",
     "text": [
      ". . . . . . . . . . \n",
      ". . . . . . . . . . \n",
      ". . . . . . . . . . \n",
      ". . . . . . . F . . \n",
      ". . . . . . . . . S \n",
      ". . . . . . . . . S \n",
      ". . . . . . . . . S \n",
      ". . . . . . . . . S \n",
      ". . . S S S S S S S \n",
      ". . . . . . . . . . \n",
      "\n",
      "Score: 11\n"
     ]
    },
    {
     "name": "stdin",
     "output_type": "stream",
     "text": [
      "ENTER direction(up/down/left/right): up\n"
     ]
    },
    {
     "name": "stdout",
     "output_type": "stream",
     "text": [
      ". . . . . . . . . . \n",
      ". . . . . . . . . . \n",
      ". . . . . . . . . . \n",
      ". . . . . . . F . S \n",
      ". . . . . . . . . S \n",
      ". . . . . . . . . S \n",
      ". . . . . . . . . S \n",
      ". . . . . . . . . S \n",
      ". . . . S S S S S S \n",
      ". . . . . . . . . . \n",
      "\n",
      "Score: 11\n"
     ]
    },
    {
     "name": "stdin",
     "output_type": "stream",
     "text": [
      "ENTER direction(up/down/left/right): left\n"
     ]
    },
    {
     "name": "stdout",
     "output_type": "stream",
     "text": [
      ". . . . . . . . . . \n",
      ". . . . . . . . . . \n",
      ". . . . . . . . . . \n",
      ". . . . . . . F S S \n",
      ". . . . . . . . . S \n",
      ". . . . . . . . . S \n",
      ". . . . . . . . . S \n",
      ". . . . . . . . . S \n",
      ". . . . . S S S S S \n",
      ". . . . . . . . . . \n",
      "\n",
      "Score: 11\n"
     ]
    },
    {
     "name": "stdin",
     "output_type": "stream",
     "text": [
      "ENTER direction(up/down/left/right): left\n"
     ]
    },
    {
     "name": "stdout",
     "output_type": "stream",
     "text": [
      ". . . . . . . . . . \n",
      ". . . . . . . . . F \n",
      ". . . . . . . . . . \n",
      ". . . . . . . S S S \n",
      ". . . . . . . . . S \n",
      ". . . . . . . . . S \n",
      ". . . . . . . . . S \n",
      ". . . . . . . . . S \n",
      ". . . . . S S S S S \n",
      ". . . . . . . . . . \n",
      "\n",
      "Score: 12\n"
     ]
    },
    {
     "name": "stdin",
     "output_type": "stream",
     "text": [
      "ENTER direction(up/down/left/right): up\n"
     ]
    },
    {
     "name": "stdout",
     "output_type": "stream",
     "text": [
      ". . . . . . . . . . \n",
      ". . . . . . . . . F \n",
      ". . . . . . . S . . \n",
      ". . . . . . . S S S \n",
      ". . . . . . . . . S \n",
      ". . . . . . . . . S \n",
      ". . . . . . . . . S \n",
      ". . . . . . . . . S \n",
      ". . . . . . S S S S \n",
      ". . . . . . . . . . \n",
      "\n",
      "Score: 12\n"
     ]
    },
    {
     "name": "stdin",
     "output_type": "stream",
     "text": [
      "ENTER direction(up/down/left/right): up\n"
     ]
    },
    {
     "name": "stdout",
     "output_type": "stream",
     "text": [
      ". . . . . . . . . . \n",
      ". . . . . . . S . F \n",
      ". . . . . . . S . . \n",
      ". . . . . . . S S S \n",
      ". . . . . . . . . S \n",
      ". . . . . . . . . S \n",
      ". . . . . . . . . S \n",
      ". . . . . . . . . S \n",
      ". . . . . . . S S S \n",
      ". . . . . . . . . . \n",
      "\n",
      "Score: 12\n"
     ]
    },
    {
     "name": "stdin",
     "output_type": "stream",
     "text": [
      "ENTER direction(up/down/left/right): right\n"
     ]
    },
    {
     "name": "stdout",
     "output_type": "stream",
     "text": [
      ". . . . . . . . . . \n",
      ". . . . . . . S S F \n",
      ". . . . . . . S . . \n",
      ". . . . . . . S S S \n",
      ". . . . . . . . . S \n",
      ". . . . . . . . . S \n",
      ". . . . . . . . . S \n",
      ". . . . . . . . . S \n",
      ". . . . . . . . S S \n",
      ". . . . . . . . . . \n",
      "\n",
      "Score: 12\n"
     ]
    },
    {
     "name": "stdin",
     "output_type": "stream",
     "text": [
      "ENTER direction(up/down/left/right): right\n"
     ]
    },
    {
     "name": "stdout",
     "output_type": "stream",
     "text": [
      ". . . . . . . . . . \n",
      ". . . . . . . S S S \n",
      ". . . . . . . S . . \n",
      ". . . . . . . S S S \n",
      ". . . . . . . . F S \n",
      ". . . . . . . . . S \n",
      ". . . . . . . . . S \n",
      ". . . . . . . . . S \n",
      ". . . . . . . . S S \n",
      ". . . . . . . . . . \n",
      "\n",
      "Score: 13\n"
     ]
    },
    {
     "name": "stdin",
     "output_type": "stream",
     "text": [
      "ENTER direction(up/down/left/right): up\n"
     ]
    },
    {
     "name": "stdout",
     "output_type": "stream",
     "text": [
      ". . . . . . . . . S \n",
      ". . . . . . . S S S \n",
      ". . . . . . . S . . \n",
      ". . . . . . . S S S \n",
      ". . . . . . . . F S \n",
      ". . . . . . . . . S \n",
      ". . . . . . . . . S \n",
      ". . . . . . . . . S \n",
      ". . . . . . . . . S \n",
      ". . . . . . . . . . \n",
      "\n",
      "Score: 13\n"
     ]
    },
    {
     "name": "stdin",
     "output_type": "stream",
     "text": [
      "ENTER direction(up/down/left/right): left\n"
     ]
    },
    {
     "name": "stdout",
     "output_type": "stream",
     "text": [
      ". . . . . . . . S S \n",
      ". . . . . . . S S S \n",
      ". . . . . . . S . . \n",
      ". . . . . . . S S S \n",
      ". . . . . . . . F S \n",
      ". . . . . . . . . S \n",
      ". . . . . . . . . S \n",
      ". . . . . . . . . S \n",
      ". . . . . . . . . . \n",
      ". . . . . . . . . . \n",
      "\n",
      "Score: 13\n"
     ]
    },
    {
     "name": "stdin",
     "output_type": "stream",
     "text": [
      "ENTER direction(up/down/left/right): left\n"
     ]
    },
    {
     "name": "stdout",
     "output_type": "stream",
     "text": [
      ". . . . . . . S S S \n",
      ". . . . . . . S S S \n",
      ". . . . . . . S . . \n",
      ". . . . . . . S S S \n",
      ". . . . . . . . F S \n",
      ". . . . . . . . . S \n",
      ". . . . . . . . . S \n",
      ". . . . . . . . . . \n",
      ". . . . . . . . . . \n",
      ". . . . . . . . . . \n",
      "\n",
      "Score: 13\n"
     ]
    },
    {
     "name": "stdin",
     "output_type": "stream",
     "text": [
      "ENTER direction(up/down/left/right): left\n"
     ]
    },
    {
     "name": "stdout",
     "output_type": "stream",
     "text": [
      ". . . . . . S S S S \n",
      ". . . . . . . S S S \n",
      ". . . . . . . S . . \n",
      ". . . . . . . S S S \n",
      ". . . . . . . . F S \n",
      ". . . . . . . . . S \n",
      ". . . . . . . . . . \n",
      ". . . . . . . . . . \n",
      ". . . . . . . . . . \n",
      ". . . . . . . . . . \n",
      "\n",
      "Score: 13\n"
     ]
    },
    {
     "name": "stdin",
     "output_type": "stream",
     "text": [
      "ENTER direction(up/down/left/right): left\n"
     ]
    },
    {
     "name": "stdout",
     "output_type": "stream",
     "text": [
      ". . . . . S S S S S \n",
      ". . . . . . . S S S \n",
      ". . . . . . . S . . \n",
      ". . . . . . . S S S \n",
      ". . . . . . . . F S \n",
      ". . . . . . . . . . \n",
      ". . . . . . . . . . \n",
      ". . . . . . . . . . \n",
      ". . . . . . . . . . \n",
      ". . . . . . . . . . \n",
      "\n",
      "Score: 13\n"
     ]
    },
    {
     "name": "stdin",
     "output_type": "stream",
     "text": [
      "ENTER direction(up/down/left/right): left\n"
     ]
    },
    {
     "name": "stdout",
     "output_type": "stream",
     "text": [
      ". . . . S S S S S S \n",
      ". . . . . . . S S S \n",
      ". . . . . . . S . . \n",
      ". . . . . . . S S S \n",
      ". . . . . . . . F . \n",
      ". . . . . . . . . . \n",
      ". . . . . . . . . . \n",
      ". . . . . . . . . . \n",
      ". . . . . . . . . . \n",
      ". . . . . . . . . . \n",
      "\n",
      "Score: 13\n"
     ]
    },
    {
     "name": "stdin",
     "output_type": "stream",
     "text": [
      "ENTER direction(up/down/left/right): left\n"
     ]
    },
    {
     "name": "stdout",
     "output_type": "stream",
     "text": [
      ". . . S S S S S S S \n",
      ". . . . . . . S S S \n",
      ". . . . . . . S . . \n",
      ". . . . . . . S S . \n",
      ". . . . . . . . F . \n",
      ". . . . . . . . . . \n",
      ". . . . . . . . . . \n",
      ". . . . . . . . . . \n",
      ". . . . . . . . . . \n",
      ". . . . . . . . . . \n",
      "\n",
      "Score: 13\n"
     ]
    },
    {
     "name": "stdin",
     "output_type": "stream",
     "text": [
      "ENTER direction(up/down/left/right): left\n"
     ]
    },
    {
     "name": "stdout",
     "output_type": "stream",
     "text": [
      ". . S S S S S S S S \n",
      ". . . . . . . S S S \n",
      ". . . . . . . S . . \n",
      ". . . . . . . S . . \n",
      ". . . . . . . . F . \n",
      ". . . . . . . . . . \n",
      ". . . . . . . . . . \n",
      ". . . . . . . . . . \n",
      ". . . . . . . . . . \n",
      ". . . . . . . . . . \n",
      "\n",
      "Score: 13\n"
     ]
    },
    {
     "name": "stdin",
     "output_type": "stream",
     "text": [
      "ENTER direction(up/down/left/right): down\n"
     ]
    },
    {
     "name": "stdout",
     "output_type": "stream",
     "text": [
      ". . S S S S S S S S \n",
      ". . S . . . . S S S \n",
      ". . . . . . . S . . \n",
      ". . . . . . . . . . \n",
      ". . . . . . . . F . \n",
      ". . . . . . . . . . \n",
      ". . . . . . . . . . \n",
      ". . . . . . . . . . \n",
      ". . . . . . . . . . \n",
      ". . . . . . . . . . \n",
      "\n",
      "Score: 13\n"
     ]
    },
    {
     "name": "stdin",
     "output_type": "stream",
     "text": [
      "ENTER direction(up/down/left/right): down\n"
     ]
    },
    {
     "name": "stdout",
     "output_type": "stream",
     "text": [
      ". . S S S S S S S S \n",
      ". . S . . . . S S S \n",
      ". . S . . . . . . . \n",
      ". . . . . . . . . . \n",
      ". . . . . . . . F . \n",
      ". . . . . . . . . . \n",
      ". . . . . . . . . . \n",
      ". . . . . . . . . . \n",
      ". . . . . . . . . . \n",
      ". . . . . . . . . . \n",
      "\n",
      "Score: 13\n"
     ]
    },
    {
     "name": "stdin",
     "output_type": "stream",
     "text": [
      "ENTER direction(up/down/left/right): down\n"
     ]
    },
    {
     "name": "stdout",
     "output_type": "stream",
     "text": [
      ". . S S S S S S S S \n",
      ". . S . . . . . S S \n",
      ". . S . . . . . . . \n",
      ". . S . . . . . . . \n",
      ". . . . . . . . F . \n",
      ". . . . . . . . . . \n",
      ". . . . . . . . . . \n",
      ". . . . . . . . . . \n",
      ". . . . . . . . . . \n",
      ". . . . . . . . . . \n",
      "\n",
      "Score: 13\n"
     ]
    },
    {
     "name": "stdin",
     "output_type": "stream",
     "text": [
      "ENTER direction(up/down/left/right): right\n"
     ]
    },
    {
     "name": "stdout",
     "output_type": "stream",
     "text": [
      ". . S S S S S S S S \n",
      ". . S . . . . . . S \n",
      ". . S . . . . . . . \n",
      ". . S S . . . . . . \n",
      ". . . . . . . . F . \n",
      ". . . . . . . . . . \n",
      ". . . . . . . . . . \n",
      ". . . . . . . . . . \n",
      ". . . . . . . . . . \n",
      ". . . . . . . . . . \n",
      "\n",
      "Score: 13\n"
     ]
    },
    {
     "name": "stdin",
     "output_type": "stream",
     "text": [
      "ENTER direction(up/down/left/right): right\n"
     ]
    },
    {
     "name": "stdout",
     "output_type": "stream",
     "text": [
      ". . S S S S S S S S \n",
      ". . S . . . . . . . \n",
      ". . S . . . . . . . \n",
      ". . S S S . . . . . \n",
      ". . . . . . . . F . \n",
      ". . . . . . . . . . \n",
      ". . . . . . . . . . \n",
      ". . . . . . . . . . \n",
      ". . . . . . . . . . \n",
      ". . . . . . . . . . \n",
      "\n",
      "Score: 13\n"
     ]
    },
    {
     "name": "stdin",
     "output_type": "stream",
     "text": [
      "ENTER direction(up/down/left/right): right\n"
     ]
    },
    {
     "name": "stdout",
     "output_type": "stream",
     "text": [
      ". . S S S S S S S . \n",
      ". . S . . . . . . . \n",
      ". . S . . . . . . . \n",
      ". . S S S S . . . . \n",
      ". . . . . . . . F . \n",
      ". . . . . . . . . . \n",
      ". . . . . . . . . . \n",
      ". . . . . . . . . . \n",
      ". . . . . . . . . . \n",
      ". . . . . . . . . . \n",
      "\n",
      "Score: 13\n"
     ]
    },
    {
     "name": "stdin",
     "output_type": "stream",
     "text": [
      "ENTER direction(up/down/left/right): right\n"
     ]
    },
    {
     "name": "stdout",
     "output_type": "stream",
     "text": [
      ". . S S S S S S . . \n",
      ". . S . . . . . . . \n",
      ". . S . . . . . . . \n",
      ". . S S S S S . . . \n",
      ". . . . . . . . F . \n",
      ". . . . . . . . . . \n",
      ". . . . . . . . . . \n",
      ". . . . . . . . . . \n",
      ". . . . . . . . . . \n",
      ". . . . . . . . . . \n",
      "\n",
      "Score: 13\n"
     ]
    },
    {
     "name": "stdin",
     "output_type": "stream",
     "text": [
      "ENTER direction(up/down/left/right): right\n"
     ]
    },
    {
     "name": "stdout",
     "output_type": "stream",
     "text": [
      ". . S S S S S . . . \n",
      ". . S . . . . . . . \n",
      ". . S . . . . . . . \n",
      ". . S S S S S S . . \n",
      ". . . . . . . . F . \n",
      ". . . . . . . . . . \n",
      ". . . . . . . . . . \n",
      ". . . . . . . . . . \n",
      ". . . . . . . . . . \n",
      ". . . . . . . . . . \n",
      "\n",
      "Score: 13\n"
     ]
    },
    {
     "name": "stdin",
     "output_type": "stream",
     "text": [
      "ENTER direction(up/down/left/right): right\n"
     ]
    },
    {
     "name": "stdout",
     "output_type": "stream",
     "text": [
      ". . S S S S . . . . \n",
      ". . S . . . . . . . \n",
      ". . S . . . . . . . \n",
      ". . S S S S S S S . \n",
      ". . . . . . . . F . \n",
      ". . . . . . . . . . \n",
      ". . . . . . . . . . \n",
      ". . . . . . . . . . \n",
      ". . . . . . . . . . \n",
      ". . . . . . . . . . \n",
      "\n",
      "Score: 13\n"
     ]
    },
    {
     "name": "stdin",
     "output_type": "stream",
     "text": [
      "ENTER direction(up/down/left/right): down\n"
     ]
    },
    {
     "name": "stdout",
     "output_type": "stream",
     "text": [
      ". . S S S S . . . . \n",
      ". . S . . . . . . . \n",
      ". . S . . . . . . . \n",
      ". . S S S S S S S . \n",
      ". F . . . . . . S . \n",
      ". . . . . . . . . . \n",
      ". . . . . . . . . . \n",
      ". . . . . . . . . . \n",
      ". . . . . . . . . . \n",
      ". . . . . . . . . . \n",
      "\n",
      "Score: 14\n"
     ]
    },
    {
     "name": "stdin",
     "output_type": "stream",
     "text": [
      "ENTER direction(up/down/left/right): left\n"
     ]
    },
    {
     "name": "stdout",
     "output_type": "stream",
     "text": [
      ". . S S S . . . . . \n",
      ". . S . . . . . . . \n",
      ". . S . . . . . . . \n",
      ". . S S S S S S S . \n",
      ". F . . . . . S S . \n",
      ". . . . . . . . . . \n",
      ". . . . . . . . . . \n",
      ". . . . . . . . . . \n",
      ". . . . . . . . . . \n",
      ". . . . . . . . . . \n",
      "\n",
      "Score: 14\n"
     ]
    },
    {
     "name": "stdin",
     "output_type": "stream",
     "text": [
      "ENTER direction(up/down/left/right): left\n"
     ]
    },
    {
     "name": "stdout",
     "output_type": "stream",
     "text": [
      ". . S S . . . . . . \n",
      ". . S . . . . . . . \n",
      ". . S . . . . . . . \n",
      ". . S S S S S S S . \n",
      ". F . . . . S S S . \n",
      ". . . . . . . . . . \n",
      ". . . . . . . . . . \n",
      ". . . . . . . . . . \n",
      ". . . . . . . . . . \n",
      ". . . . . . . . . . \n",
      "\n",
      "Score: 14\n"
     ]
    },
    {
     "name": "stdin",
     "output_type": "stream",
     "text": [
      "ENTER direction(up/down/left/right): left\n"
     ]
    },
    {
     "name": "stdout",
     "output_type": "stream",
     "text": [
      ". . S . . . . . . . \n",
      ". . S . . . . . . . \n",
      ". . S . . . . . . . \n",
      ". . S S S S S S S . \n",
      ". F . . . S S S S . \n",
      ". . . . . . . . . . \n",
      ". . . . . . . . . . \n",
      ". . . . . . . . . . \n",
      ". . . . . . . . . . \n",
      ". . . . . . . . . . \n",
      "\n",
      "Score: 14\n"
     ]
    },
    {
     "name": "stdin",
     "output_type": "stream",
     "text": [
      "ENTER direction(up/down/left/right): left\n"
     ]
    },
    {
     "name": "stdout",
     "output_type": "stream",
     "text": [
      ". . . . . . . . . . \n",
      ". . S . . . . . . . \n",
      ". . S . . . . . . . \n",
      ". . S S S S S S S . \n",
      ". F . . S S S S S . \n",
      ". . . . . . . . . . \n",
      ". . . . . . . . . . \n",
      ". . . . . . . . . . \n",
      ". . . . . . . . . . \n",
      ". . . . . . . . . . \n",
      "\n",
      "Score: 14\n"
     ]
    },
    {
     "name": "stdin",
     "output_type": "stream",
     "text": [
      "ENTER direction(up/down/left/right): left\n"
     ]
    },
    {
     "name": "stdout",
     "output_type": "stream",
     "text": [
      ". . . . . . . . . . \n",
      ". . . . . . . . . . \n",
      ". . S . . . . . . . \n",
      ". . S S S S S S S . \n",
      ". F . S S S S S S . \n",
      ". . . . . . . . . . \n",
      ". . . . . . . . . . \n",
      ". . . . . . . . . . \n",
      ". . . . . . . . . . \n",
      ". . . . . . . . . . \n",
      "\n",
      "Score: 14\n"
     ]
    },
    {
     "name": "stdin",
     "output_type": "stream",
     "text": [
      "ENTER direction(up/down/left/right): left\n"
     ]
    },
    {
     "name": "stdout",
     "output_type": "stream",
     "text": [
      ". . . . . . . . . . \n",
      ". . . . . . . . . . \n",
      ". . . . . . . . . . \n",
      ". . S S S S S S S . \n",
      ". F S S S S S S S . \n",
      ". . . . . . . . . . \n",
      ". . . . . . . . . . \n",
      ". . . . . . . . . . \n",
      ". . . . . . . . . . \n",
      ". . . . . . . . . . \n",
      "\n",
      "Score: 14\n"
     ]
    },
    {
     "name": "stdin",
     "output_type": "stream",
     "text": [
      "ENTER direction(up/down/left/right): left\n"
     ]
    },
    {
     "name": "stdout",
     "output_type": "stream",
     "text": [
      ". . . . . . . . . . \n",
      ". . . . . . . . . . \n",
      ". . . . . . . . . . \n",
      "F . S S S S S S S . \n",
      ". S S S S S S S S . \n",
      ". . . . . . . . . . \n",
      ". . . . . . . . . . \n",
      ". . . . . . . . . . \n",
      ". . . . . . . . . . \n",
      ". . . . . . . . . . \n",
      "\n",
      "Score: 15\n"
     ]
    },
    {
     "name": "stdin",
     "output_type": "stream",
     "text": [
      "ENTER direction(up/down/left/right): left\n"
     ]
    },
    {
     "name": "stdout",
     "output_type": "stream",
     "text": [
      ". . . . . . . . . . \n",
      ". . . . . . . . . . \n",
      ". . . . . . . . . . \n",
      "F . . S S S S S S . \n",
      "S S S S S S S S S . \n",
      ". . . . . . . . . . \n",
      ". . . . . . . . . . \n",
      ". . . . . . . . . . \n",
      ". . . . . . . . . . \n",
      ". . . . . . . . . . \n",
      "\n",
      "Score: 15\n"
     ]
    },
    {
     "name": "stdin",
     "output_type": "stream",
     "text": [
      "ENTER direction(up/down/left/right): up\n"
     ]
    },
    {
     "name": "stdout",
     "output_type": "stream",
     "text": [
      ". . . . . . . . . . \n",
      ". . . F . . . . . . \n",
      ". . . . . . . . . . \n",
      "S . . S S S S S S . \n",
      "S S S S S S S S S . \n",
      ". . . . . . . . . . \n",
      ". . . . . . . . . . \n",
      ". . . . . . . . . . \n",
      ". . . . . . . . . . \n",
      ". . . . . . . . . . \n",
      "\n",
      "Score: 16\n"
     ]
    },
    {
     "name": "stdin",
     "output_type": "stream",
     "text": [
      "ENTER direction(up/down/left/right): up\n"
     ]
    },
    {
     "name": "stdout",
     "output_type": "stream",
     "text": [
      ". . . . . . . . . . \n",
      ". . . F . . . . . . \n",
      "S . . . . . . . . . \n",
      "S . . . S S S S S . \n",
      "S S S S S S S S S . \n",
      ". . . . . . . . . . \n",
      ". . . . . . . . . . \n",
      ". . . . . . . . . . \n",
      ". . . . . . . . . . \n",
      ". . . . . . . . . . \n",
      "\n",
      "Score: 16\n"
     ]
    },
    {
     "name": "stdin",
     "output_type": "stream",
     "text": [
      "ENTER direction(up/down/left/right): up\n"
     ]
    },
    {
     "name": "stdout",
     "output_type": "stream",
     "text": [
      ". . . . . . . . . . \n",
      "S . . F . . . . . . \n",
      "S . . . . . . . . . \n",
      "S . . . . S S S S . \n",
      "S S S S S S S S S . \n",
      ". . . . . . . . . . \n",
      ". . . . . . . . . . \n",
      ". . . . . . . . . . \n",
      ". . . . . . . . . . \n",
      ". . . . . . . . . . \n",
      "\n",
      "Score: 16\n"
     ]
    },
    {
     "name": "stdin",
     "output_type": "stream",
     "text": [
      "ENTER direction(up/down/left/right): right\n"
     ]
    },
    {
     "name": "stdout",
     "output_type": "stream",
     "text": [
      ". . . . . . . . . . \n",
      "S S . F . . . . . . \n",
      "S . . . . . . . . . \n",
      "S . . . . . S S S . \n",
      "S S S S S S S S S . \n",
      ". . . . . . . . . . \n",
      ". . . . . . . . . . \n",
      ". . . . . . . . . . \n",
      ". . . . . . . . . . \n",
      ". . . . . . . . . . \n",
      "\n",
      "Score: 16\n"
     ]
    },
    {
     "name": "stdin",
     "output_type": "stream",
     "text": [
      "ENTER direction(up/down/left/right): right\n"
     ]
    },
    {
     "name": "stdout",
     "output_type": "stream",
     "text": [
      ". . . . . . . . . . \n",
      "S S S F . . . . . . \n",
      "S . . . . . . . . . \n",
      "S . . . . . . S S . \n",
      "S S S S S S S S S . \n",
      ". . . . . . . . . . \n",
      ". . . . . . . . . . \n",
      ". . . . . . . . . . \n",
      ". . . . . . . . . . \n",
      ". . . . . . . . . . \n",
      "\n",
      "Score: 16\n"
     ]
    },
    {
     "name": "stdin",
     "output_type": "stream",
     "text": [
      "ENTER direction(up/down/left/right): right\n"
     ]
    },
    {
     "name": "stdout",
     "output_type": "stream",
     "text": [
      ". . . . . . . . . . \n",
      "S S S S . . . . . . \n",
      "S . . . . . . . . . \n",
      "S . . . . . . S S . \n",
      "S S S S S S S S S . \n",
      ". . . . . . . . . . \n",
      ". . . . . . . . . . \n",
      ". . . . . F . . . . \n",
      ". . . . . . . . . . \n",
      ". . . . . . . . . . \n",
      "\n",
      "Score: 17\n"
     ]
    },
    {
     "name": "stdin",
     "output_type": "stream",
     "text": [
      "ENTER direction(up/down/left/right): right\n"
     ]
    },
    {
     "name": "stdout",
     "output_type": "stream",
     "text": [
      ". . . . . . . . . . \n",
      "S S S S S . . . . . \n",
      "S . . . . . . . . . \n",
      "S . . . . . . . S . \n",
      "S S S S S S S S S . \n",
      ". . . . . . . . . . \n",
      ". . . . . . . . . . \n",
      ". . . . . F . . . . \n",
      ". . . . . . . . . . \n",
      ". . . . . . . . . . \n",
      "\n",
      "Score: 17\n"
     ]
    },
    {
     "name": "stdin",
     "output_type": "stream",
     "text": [
      "ENTER direction(up/down/left/right): right\n"
     ]
    },
    {
     "name": "stdout",
     "output_type": "stream",
     "text": [
      ". . . . . . . . . . \n",
      "S S S S S S . . . . \n",
      "S . . . . . . . . . \n",
      "S . . . . . . . . . \n",
      "S S S S S S S S S . \n",
      ". . . . . . . . . . \n",
      ". . . . . . . . . . \n",
      ". . . . . F . . . . \n",
      ". . . . . . . . . . \n",
      ". . . . . . . . . . \n",
      "\n",
      "Score: 17\n"
     ]
    },
    {
     "name": "stdin",
     "output_type": "stream",
     "text": [
      "ENTER direction(up/down/left/right): right\n"
     ]
    },
    {
     "name": "stdout",
     "output_type": "stream",
     "text": [
      ". . . . . . . . . . \n",
      "S S S S S S S . . . \n",
      "S . . . . . . . . . \n",
      "S . . . . . . . . . \n",
      "S S S S S S S S . . \n",
      ". . . . . . . . . . \n",
      ". . . . . . . . . . \n",
      ". . . . . F . . . . \n",
      ". . . . . . . . . . \n",
      ". . . . . . . . . . \n",
      "\n",
      "Score: 17\n"
     ]
    },
    {
     "name": "stdin",
     "output_type": "stream",
     "text": [
      "ENTER direction(up/down/left/right): right\n"
     ]
    },
    {
     "name": "stdout",
     "output_type": "stream",
     "text": [
      ". . . . . . . . . . \n",
      "S S S S S S S S . . \n",
      "S . . . . . . . . . \n",
      "S . . . . . . . . . \n",
      "S S S S S S S . . . \n",
      ". . . . . . . . . . \n",
      ". . . . . . . . . . \n",
      ". . . . . F . . . . \n",
      ". . . . . . . . . . \n",
      ". . . . . . . . . . \n",
      "\n",
      "Score: 17\n"
     ]
    },
    {
     "name": "stdin",
     "output_type": "stream",
     "text": [
      "ENTER direction(up/down/left/right): right\n"
     ]
    },
    {
     "name": "stdout",
     "output_type": "stream",
     "text": [
      ". . . . . . . . . . \n",
      "S S S S S S S S S . \n",
      "S . . . . . . . . . \n",
      "S . . . . . . . . . \n",
      "S S S S S S . . . . \n",
      ". . . . . . . . . . \n",
      ". . . . . . . . . . \n",
      ". . . . . F . . . . \n",
      ". . . . . . . . . . \n",
      ". . . . . . . . . . \n",
      "\n",
      "Score: 17\n"
     ]
    },
    {
     "name": "stdin",
     "output_type": "stream",
     "text": [
      "ENTER direction(up/down/left/right): down\n"
     ]
    },
    {
     "name": "stdout",
     "output_type": "stream",
     "text": [
      ". . . . . . . . . . \n",
      "S S S S S S S S S . \n",
      "S . . . . . . . S . \n",
      "S . . . . . . . . . \n",
      "S S S S S . . . . . \n",
      ". . . . . . . . . . \n",
      ". . . . . . . . . . \n",
      ". . . . . F . . . . \n",
      ". . . . . . . . . . \n",
      ". . . . . . . . . . \n",
      "\n",
      "Score: 17\n"
     ]
    },
    {
     "name": "stdin",
     "output_type": "stream",
     "text": [
      "ENTER direction(up/down/left/right): down\n"
     ]
    },
    {
     "name": "stdout",
     "output_type": "stream",
     "text": [
      ". . . . . . . . . . \n",
      "S S S S S S S S S . \n",
      "S . . . . . . . S . \n",
      "S . . . . . . . S . \n",
      "S S S S . . . . . . \n",
      ". . . . . . . . . . \n",
      ". . . . . . . . . . \n",
      ". . . . . F . . . . \n",
      ". . . . . . . . . . \n",
      ". . . . . . . . . . \n",
      "\n",
      "Score: 17\n"
     ]
    },
    {
     "name": "stdin",
     "output_type": "stream",
     "text": [
      "ENTER direction(up/down/left/right): down\n"
     ]
    },
    {
     "name": "stdout",
     "output_type": "stream",
     "text": [
      ". . . . . . . . . . \n",
      "S S S S S S S S S . \n",
      "S . . . . . . . S . \n",
      "S . . . . . . . S . \n",
      "S S S . . . . . S . \n",
      ". . . . . . . . . . \n",
      ". . . . . . . . . . \n",
      ". . . . . F . . . . \n",
      ". . . . . . . . . . \n",
      ". . . . . . . . . . \n",
      "\n",
      "Score: 17\n"
     ]
    },
    {
     "name": "stdin",
     "output_type": "stream",
     "text": [
      "ENTER direction(up/down/left/right): down\n"
     ]
    },
    {
     "name": "stdout",
     "output_type": "stream",
     "text": [
      ". . . . . . . . . . \n",
      "S S S S S S S S S . \n",
      "S . . . . . . . S . \n",
      "S . . . . . . . S . \n",
      "S S . . . . . . S . \n",
      ". . . . . . . . S . \n",
      ". . . . . . . . . . \n",
      ". . . . . F . . . . \n",
      ". . . . . . . . . . \n",
      ". . . . . . . . . . \n",
      "\n",
      "Score: 17\n"
     ]
    },
    {
     "name": "stdin",
     "output_type": "stream",
     "text": [
      "ENTER direction(up/down/left/right): down\n"
     ]
    },
    {
     "name": "stdout",
     "output_type": "stream",
     "text": [
      ". . . . . . . . . . \n",
      "S S S S S S S S S . \n",
      "S . . . . . . . S . \n",
      "S . . . . . . . S . \n",
      "S . . . . . . . S . \n",
      ". . . . . . . . S . \n",
      ". . . . . . . . S . \n",
      ". . . . . F . . . . \n",
      ". . . . . . . . . . \n",
      ". . . . . . . . . . \n",
      "\n",
      "Score: 17\n"
     ]
    },
    {
     "name": "stdin",
     "output_type": "stream",
     "text": [
      "ENTER direction(up/down/left/right): down\n"
     ]
    },
    {
     "name": "stdout",
     "output_type": "stream",
     "text": [
      ". . . . . . . . . . \n",
      "S S S S S S S S S . \n",
      "S . . . . . . . S . \n",
      "S . . . . . . . S . \n",
      ". . . . . . . . S . \n",
      ". . . . . . . . S . \n",
      ". . . . . . . . S . \n",
      ". . . . . F . . S . \n",
      ". . . . . . . . . . \n",
      ". . . . . . . . . . \n",
      "\n",
      "Score: 17\n"
     ]
    },
    {
     "name": "stdin",
     "output_type": "stream",
     "text": [
      "ENTER direction(up/down/left/right): left\n"
     ]
    },
    {
     "name": "stdout",
     "output_type": "stream",
     "text": [
      ". . . . . . . . . . \n",
      "S S S S S S S S S . \n",
      "S . . . . . . . S . \n",
      ". . . . . . . . S . \n",
      ". . . . . . . . S . \n",
      ". . . . . . . . S . \n",
      ". . . . . . . . S . \n",
      ". . . . . F . S S . \n",
      ". . . . . . . . . . \n",
      ". . . . . . . . . . \n",
      "\n",
      "Score: 17\n"
     ]
    },
    {
     "name": "stdin",
     "output_type": "stream",
     "text": [
      "ENTER direction(up/down/left/right): left\n"
     ]
    },
    {
     "name": "stdout",
     "output_type": "stream",
     "text": [
      ". . . . . . . . . . \n",
      "S S S S S S S S S . \n",
      ". . . . . . . . S . \n",
      ". . . . . . . . S . \n",
      ". . . . . . . . S . \n",
      ". . . . . . . . S . \n",
      ". . . . . . . . S . \n",
      ". . . . . F S S S . \n",
      ". . . . . . . . . . \n",
      ". . . . . . . . . . \n",
      "\n",
      "Score: 17\n"
     ]
    },
    {
     "name": "stdin",
     "output_type": "stream",
     "text": [
      "ENTER direction(up/down/left/right): left\n"
     ]
    },
    {
     "name": "stdout",
     "output_type": "stream",
     "text": [
      ". . . . . . . . . . \n",
      "S S S S S S S S S . \n",
      ". . . . . . . . S . \n",
      ". . . . . . . . S . \n",
      ". F . . . . . . S . \n",
      ". . . . . . . . S . \n",
      ". . . . . . . . S . \n",
      ". . . . . S S S S . \n",
      ". . . . . . . . . . \n",
      ". . . . . . . . . . \n",
      "\n",
      "Score: 18\n"
     ]
    },
    {
     "name": "stdin",
     "output_type": "stream",
     "text": [
      "ENTER direction(up/down/left/right): left\n"
     ]
    },
    {
     "name": "stdout",
     "output_type": "stream",
     "text": [
      ". . . . . . . . . . \n",
      ". S S S S S S S S . \n",
      ". . . . . . . . S . \n",
      ". . . . . . . . S . \n",
      ". F . . . . . . S . \n",
      ". . . . . . . . S . \n",
      ". . . . . . . . S . \n",
      ". . . . S S S S S . \n",
      ". . . . . . . . . . \n",
      ". . . . . . . . . . \n",
      "\n",
      "Score: 18\n"
     ]
    },
    {
     "name": "stdin",
     "output_type": "stream",
     "text": [
      "ENTER direction(up/down/left/right): left\n"
     ]
    },
    {
     "name": "stdout",
     "output_type": "stream",
     "text": [
      ". . . . . . . . . . \n",
      ". . S S S S S S S . \n",
      ". . . . . . . . S . \n",
      ". . . . . . . . S . \n",
      ". F . . . . . . S . \n",
      ". . . . . . . . S . \n",
      ". . . . . . . . S . \n",
      ". . . S S S S S S . \n",
      ". . . . . . . . . . \n",
      ". . . . . . . . . . \n",
      "\n",
      "Score: 18\n"
     ]
    },
    {
     "name": "stdin",
     "output_type": "stream",
     "text": [
      "ENTER direction(up/down/left/right): left\n"
     ]
    },
    {
     "name": "stdout",
     "output_type": "stream",
     "text": [
      ". . . . . . . . . . \n",
      ". . . S S S S S S . \n",
      ". . . . . . . . S . \n",
      ". . . . . . . . S . \n",
      ". F . . . . . . S . \n",
      ". . . . . . . . S . \n",
      ". . . . . . . . S . \n",
      ". . S S S S S S S . \n",
      ". . . . . . . . . . \n",
      ". . . . . . . . . . \n",
      "\n",
      "Score: 18\n"
     ]
    },
    {
     "name": "stdin",
     "output_type": "stream",
     "text": [
      "ENTER direction(up/down/left/right): left\n"
     ]
    },
    {
     "name": "stdout",
     "output_type": "stream",
     "text": [
      ". . . . . . . . . . \n",
      ". . . . S S S S S . \n",
      ". . . . . . . . S . \n",
      ". . . . . . . . S . \n",
      ". F . . . . . . S . \n",
      ". . . . . . . . S . \n",
      ". . . . . . . . S . \n",
      ". S S S S S S S S . \n",
      ". . . . . . . . . . \n",
      ". . . . . . . . . . \n",
      "\n",
      "Score: 18\n"
     ]
    },
    {
     "name": "stdin",
     "output_type": "stream",
     "text": [
      "ENTER direction(up/down/left/right): up\n"
     ]
    },
    {
     "name": "stdout",
     "output_type": "stream",
     "text": [
      ". . . . . . . . . . \n",
      ". . . . . S S S S . \n",
      ". . . . . . . . S . \n",
      ". . . . . . . . S . \n",
      ". F . . . . . . S . \n",
      ". . . . . . . . S . \n",
      ". S . . . . . . S . \n",
      ". S S S S S S S S . \n",
      ". . . . . . . . . . \n",
      ". . . . . . . . . . \n",
      "\n",
      "Score: 18\n"
     ]
    },
    {
     "name": "stdin",
     "output_type": "stream",
     "text": [
      "ENTER direction(up/down/left/right): up\n"
     ]
    },
    {
     "name": "stdout",
     "output_type": "stream",
     "text": [
      ". . . . . . . . . . \n",
      ". . . . . . S S S . \n",
      ". . . . . . . . S . \n",
      ". . . . . . . . S . \n",
      ". F . . . . . . S . \n",
      ". S . . . . . . S . \n",
      ". S . . . . . . S . \n",
      ". S S S S S S S S . \n",
      ". . . . . . . . . . \n",
      ". . . . . . . . . . \n",
      "\n",
      "Score: 18\n"
     ]
    },
    {
     "name": "stdin",
     "output_type": "stream",
     "text": [
      "ENTER direction(up/down/left/right): up\n"
     ]
    },
    {
     "name": "stdout",
     "output_type": "stream",
     "text": [
      ". . . . . . . . . . \n",
      ". . . . . . S S S . \n",
      ". . . . . . . . S . \n",
      ". . . . . . . . S . \n",
      ". S . . . . . . S . \n",
      ". S . . . . . . S . \n",
      ". S . . . . . . S . \n",
      ". S S S S S S S S . \n",
      ". . . . . . . . . . \n",
      ". . . . . . . . . F \n",
      "\n",
      "Score: 19\n"
     ]
    },
    {
     "name": "stdin",
     "output_type": "stream",
     "text": [
      "ENTER direction(up/down/left/right): up\n"
     ]
    },
    {
     "name": "stdout",
     "output_type": "stream",
     "text": [
      ". . . . . . . . . . \n",
      ". . . . . . . S S . \n",
      ". . . . . . . . S . \n",
      ". S . . . . . . S . \n",
      ". S . . . . . . S . \n",
      ". S . . . . . . S . \n",
      ". S . . . . . . S . \n",
      ". S S S S S S S S . \n",
      ". . . . . . . . . . \n",
      ". . . . . . . . . F \n",
      "\n",
      "Score: 19\n"
     ]
    },
    {
     "name": "stdin",
     "output_type": "stream",
     "text": [
      "ENTER direction(up/down/left/right): up\n"
     ]
    },
    {
     "name": "stdout",
     "output_type": "stream",
     "text": [
      ". . . . . . . . . . \n",
      ". . . . . . . . S . \n",
      ". S . . . . . . S . \n",
      ". S . . . . . . S . \n",
      ". S . . . . . . S . \n",
      ". S . . . . . . S . \n",
      ". S . . . . . . S . \n",
      ". S S S S S S S S . \n",
      ". . . . . . . . . . \n",
      ". . . . . . . . . F \n",
      "\n",
      "Score: 19\n"
     ]
    },
    {
     "name": "stdin",
     "output_type": "stream",
     "text": [
      "ENTER direction(up/down/left/right): up\n"
     ]
    },
    {
     "name": "stdout",
     "output_type": "stream",
     "text": [
      ". . . . . . . . . . \n",
      ". S . . . . . . . . \n",
      ". S . . . . . . S . \n",
      ". S . . . . . . S . \n",
      ". S . . . . . . S . \n",
      ". S . . . . . . S . \n",
      ". S . . . . . . S . \n",
      ". S S S S S S S S . \n",
      ". . . . . . . . . . \n",
      ". . . . . . . . . F \n",
      "\n",
      "Score: 19\n"
     ]
    },
    {
     "name": "stdin",
     "output_type": "stream",
     "text": [
      "ENTER direction(up/down/left/right): up\n"
     ]
    },
    {
     "name": "stdout",
     "output_type": "stream",
     "text": [
      ". S . . . . . . . . \n",
      ". S . . . . . . . . \n",
      ". S . . . . . . . . \n",
      ". S . . . . . . S . \n",
      ". S . . . . . . S . \n",
      ". S . . . . . . S . \n",
      ". S . . . . . . S . \n",
      ". S S S S S S S S . \n",
      ". . . . . . . . . . \n",
      ". . . . . . . . . F \n",
      "\n",
      "Score: 19\n"
     ]
    },
    {
     "name": "stdin",
     "output_type": "stream",
     "text": [
      "ENTER direction(up/down/left/right): right\n"
     ]
    },
    {
     "name": "stdout",
     "output_type": "stream",
     "text": [
      ". S S . . . . . . . \n",
      ". S . . . . . . . . \n",
      ". S . . . . . . . . \n",
      ". S . . . . . . . . \n",
      ". S . . . . . . S . \n",
      ". S . . . . . . S . \n",
      ". S . . . . . . S . \n",
      ". S S S S S S S S . \n",
      ". . . . . . . . . . \n",
      ". . . . . . . . . F \n",
      "\n",
      "Score: 19\n"
     ]
    },
    {
     "name": "stdin",
     "output_type": "stream",
     "text": [
      "ENTER direction(up/down/left/right): right\n"
     ]
    },
    {
     "name": "stdout",
     "output_type": "stream",
     "text": [
      ". S S S . . . . . . \n",
      ". S . . . . . . . . \n",
      ". S . . . . . . . . \n",
      ". S . . . . . . . . \n",
      ". S . . . . . . . . \n",
      ". S . . . . . . S . \n",
      ". S . . . . . . S . \n",
      ". S S S S S S S S . \n",
      ". . . . . . . . . . \n",
      ". . . . . . . . . F \n",
      "\n",
      "Score: 19\n"
     ]
    },
    {
     "name": "stdin",
     "output_type": "stream",
     "text": [
      "ENTER direction(up/down/left/right): right\n"
     ]
    },
    {
     "name": "stdout",
     "output_type": "stream",
     "text": [
      ". S S S S . . . . . \n",
      ". S . . . . . . . . \n",
      ". S . . . . . . . . \n",
      ". S . . . . . . . . \n",
      ". S . . . . . . . . \n",
      ". S . . . . . . . . \n",
      ". S . . . . . . S . \n",
      ". S S S S S S S S . \n",
      ". . . . . . . . . . \n",
      ". . . . . . . . . F \n",
      "\n",
      "Score: 19\n"
     ]
    },
    {
     "name": "stdin",
     "output_type": "stream",
     "text": [
      "ENTER direction(up/down/left/right): right\n"
     ]
    },
    {
     "name": "stdout",
     "output_type": "stream",
     "text": [
      ". S S S S S . . . . \n",
      ". S . . . . . . . . \n",
      ". S . . . . . . . . \n",
      ". S . . . . . . . . \n",
      ". S . . . . . . . . \n",
      ". S . . . . . . . . \n",
      ". S . . . . . . . . \n",
      ". S S S S S S S S . \n",
      ". . . . . . . . . . \n",
      ". . . . . . . . . F \n",
      "\n",
      "Score: 19\n"
     ]
    },
    {
     "name": "stdin",
     "output_type": "stream",
     "text": [
      "ENTER direction(up/down/left/right): right\n"
     ]
    },
    {
     "name": "stdout",
     "output_type": "stream",
     "text": [
      ". S S S S S S . . . \n",
      ". S . . . . . . . . \n",
      ". S . . . . . . . . \n",
      ". S . . . . . . . . \n",
      ". S . . . . . . . . \n",
      ". S . . . . . . . . \n",
      ". S . . . . . . . . \n",
      ". S S S S S S S . . \n",
      ". . . . . . . . . . \n",
      ". . . . . . . . . F \n",
      "\n",
      "Score: 19\n"
     ]
    },
    {
     "name": "stdin",
     "output_type": "stream",
     "text": [
      "ENTER direction(up/down/left/right): right\n"
     ]
    },
    {
     "name": "stdout",
     "output_type": "stream",
     "text": [
      ". S S S S S S S . . \n",
      ". S . . . . . . . . \n",
      ". S . . . . . . . . \n",
      ". S . . . . . . . . \n",
      ". S . . . . . . . . \n",
      ". S . . . . . . . . \n",
      ". S . . . . . . . . \n",
      ". S S S S S S . . . \n",
      ". . . . . . . . . . \n",
      ". . . . . . . . . F \n",
      "\n",
      "Score: 19\n"
     ]
    },
    {
     "name": "stdin",
     "output_type": "stream",
     "text": [
      "ENTER direction(up/down/left/right): right\n"
     ]
    },
    {
     "name": "stdout",
     "output_type": "stream",
     "text": [
      ". S S S S S S S S . \n",
      ". S . . . . . . . . \n",
      ". S . . . . . . . . \n",
      ". S . . . . . . . . \n",
      ". S . . . . . . . . \n",
      ". S . . . . . . . . \n",
      ". S . . . . . . . . \n",
      ". S S S S S . . . . \n",
      ". . . . . . . . . . \n",
      ". . . . . . . . . F \n",
      "\n",
      "Score: 19\n"
     ]
    },
    {
     "name": "stdin",
     "output_type": "stream",
     "text": [
      "ENTER direction(up/down/left/right): right\n"
     ]
    },
    {
     "name": "stdout",
     "output_type": "stream",
     "text": [
      ". S S S S S S S S S \n",
      ". S . . . . . . . . \n",
      ". S . . . . . . . . \n",
      ". S . . . . . . . . \n",
      ". S . . . . . . . . \n",
      ". S . . . . . . . . \n",
      ". S . . . . . . . . \n",
      ". S S S S . . . . . \n",
      ". . . . . . . . . . \n",
      ". . . . . . . . . F \n",
      "\n",
      "Score: 19\n"
     ]
    },
    {
     "name": "stdin",
     "output_type": "stream",
     "text": [
      "ENTER direction(up/down/left/right): down\n"
     ]
    },
    {
     "name": "stdout",
     "output_type": "stream",
     "text": [
      ". S S S S S S S S S \n",
      ". S . . . . . . . S \n",
      ". S . . . . . . . . \n",
      ". S . . . . . . . . \n",
      ". S . . . . . . . . \n",
      ". S . . . . . . . . \n",
      ". S . . . . . . . . \n",
      ". S S S . . . . . . \n",
      ". . . . . . . . . . \n",
      ". . . . . . . . . F \n",
      "\n",
      "Score: 19\n"
     ]
    },
    {
     "name": "stdin",
     "output_type": "stream",
     "text": [
      "ENTER direction(up/down/left/right): down\n"
     ]
    },
    {
     "name": "stdout",
     "output_type": "stream",
     "text": [
      ". S S S S S S S S S \n",
      ". S . . . . . . . S \n",
      ". S . . . . . . . S \n",
      ". S . . . . . . . . \n",
      ". S . . . . . . . . \n",
      ". S . . . . . . . . \n",
      ". S . . . . . . . . \n",
      ". S S . . . . . . . \n",
      ". . . . . . . . . . \n",
      ". . . . . . . . . F \n",
      "\n",
      "Score: 19\n"
     ]
    },
    {
     "name": "stdin",
     "output_type": "stream",
     "text": [
      "ENTER direction(up/down/left/right): down\n"
     ]
    },
    {
     "name": "stdout",
     "output_type": "stream",
     "text": [
      ". S S S S S S S S S \n",
      ". S . . . . . . . S \n",
      ". S . . . . . . . S \n",
      ". S . . . . . . . S \n",
      ". S . . . . . . . . \n",
      ". S . . . . . . . . \n",
      ". S . . . . . . . . \n",
      ". S . . . . . . . . \n",
      ". . . . . . . . . . \n",
      ". . . . . . . . . F \n",
      "\n",
      "Score: 19\n"
     ]
    },
    {
     "name": "stdin",
     "output_type": "stream",
     "text": [
      "ENTER direction(up/down/left/right): down\n"
     ]
    },
    {
     "name": "stdout",
     "output_type": "stream",
     "text": [
      ". S S S S S S S S S \n",
      ". S . . . . . . . S \n",
      ". S . . . . . . . S \n",
      ". S . . . . . . . S \n",
      ". S . . . . . . . S \n",
      ". S . . . . . . . . \n",
      ". S . . . . . . . . \n",
      ". . . . . . . . . . \n",
      ". . . . . . . . . . \n",
      ". . . . . . . . . F \n",
      "\n",
      "Score: 19\n"
     ]
    },
    {
     "name": "stdin",
     "output_type": "stream",
     "text": [
      "ENTER direction(up/down/left/right): down\n"
     ]
    },
    {
     "name": "stdout",
     "output_type": "stream",
     "text": [
      ". S S S S S S S S S \n",
      ". S . . . . . . . S \n",
      ". S . . . . . . . S \n",
      ". S . . . . . . . S \n",
      ". S . . . . . . . S \n",
      ". S . . . . . . . S \n",
      ". . . . . . . . . . \n",
      ". . . . . . . . . . \n",
      ". . . . . . . . . . \n",
      ". . . . . . . . . F \n",
      "\n",
      "Score: 19\n"
     ]
    },
    {
     "name": "stdin",
     "output_type": "stream",
     "text": [
      "ENTER direction(up/down/left/right): down\n"
     ]
    },
    {
     "name": "stdout",
     "output_type": "stream",
     "text": [
      ". S S S S S S S S S \n",
      ". S . . . . . . . S \n",
      ". S . . . . . . . S \n",
      ". S . . . . . . . S \n",
      ". S . . . . . . . S \n",
      ". . . . . . . . . S \n",
      ". . . . . . . . . S \n",
      ". . . . . . . . . . \n",
      ". . . . . . . . . . \n",
      ". . . . . . . . . F \n",
      "\n",
      "Score: 19\n"
     ]
    },
    {
     "name": "stdin",
     "output_type": "stream",
     "text": [
      "ENTER direction(up/down/left/right): down\n"
     ]
    },
    {
     "name": "stdout",
     "output_type": "stream",
     "text": [
      ". S S S S S S S S S \n",
      ". S . . . . . . . S \n",
      ". S . . . . . . . S \n",
      ". S . . . . . . . S \n",
      ". . . . . . . . . S \n",
      ". . . . . . . . . S \n",
      ". . . . . . . . . S \n",
      ". . . . . . . . . S \n",
      ". . . . . . . . . . \n",
      ". . . . . . . . . F \n",
      "\n",
      "Score: 19\n"
     ]
    },
    {
     "name": "stdin",
     "output_type": "stream",
     "text": [
      "ENTER direction(up/down/left/right): down\n"
     ]
    },
    {
     "name": "stdout",
     "output_type": "stream",
     "text": [
      ". S S S S S S S S S \n",
      ". S . . . . . . . S \n",
      ". S . . . . . . . S \n",
      ". . . . . . . . . S \n",
      ". . . . . . . . . S \n",
      ". . . . . . . . . S \n",
      ". . . . . . . . . S \n",
      ". . . . . . . . . S \n",
      ". . . . . . . . . S \n",
      ". . . . . . . . . F \n",
      "\n",
      "Score: 19\n"
     ]
    },
    {
     "name": "stdin",
     "output_type": "stream",
     "text": [
      "ENTER direction(up/down/left/right): down\n"
     ]
    },
    {
     "name": "stdout",
     "output_type": "stream",
     "text": [
      ". S S S S S S S S S \n",
      ". S . . . . . . . S \n",
      ". S . . . . . . . S \n",
      ". . . . . . . . . S \n",
      ". . . . . . F . . S \n",
      ". . . . . . . . . S \n",
      ". . . . . . . . . S \n",
      ". . . . . . . . . S \n",
      ". . . . . . . . . S \n",
      ". . . . . . . . . S \n",
      "\n",
      "Score: 20\n"
     ]
    },
    {
     "name": "stdin",
     "output_type": "stream",
     "text": [
      "ENTER direction(up/down/left/right): left\n"
     ]
    },
    {
     "name": "stdout",
     "output_type": "stream",
     "text": [
      ". S S S S S S S S S \n",
      ". S . . . . . . . S \n",
      ". . . . . . . . . S \n",
      ". . . . . . . . . S \n",
      ". . . . . . F . . S \n",
      ". . . . . . . . . S \n",
      ". . . . . . . . . S \n",
      ". . . . . . . . . S \n",
      ". . . . . . . . . S \n",
      ". . . . . . . . S S \n",
      "\n",
      "Score: 20\n"
     ]
    },
    {
     "name": "stdin",
     "output_type": "stream",
     "text": [
      "ENTER direction(up/down/left/right): left\n"
     ]
    },
    {
     "name": "stdout",
     "output_type": "stream",
     "text": [
      ". S S S S S S S S S \n",
      ". . . . . . . . . S \n",
      ". . . . . . . . . S \n",
      ". . . . . . . . . S \n",
      ". . . . . . F . . S \n",
      ". . . . . . . . . S \n",
      ". . . . . . . . . S \n",
      ". . . . . . . . . S \n",
      ". . . . . . . . . S \n",
      ". . . . . . . S S S \n",
      "\n",
      "Score: 20\n"
     ]
    },
    {
     "name": "stdin",
     "output_type": "stream",
     "text": [
      "ENTER direction(up/down/left/right): left\n"
     ]
    },
    {
     "name": "stdout",
     "output_type": "stream",
     "text": [
      ". . S S S S S S S S \n",
      ". . . . . . . . . S \n",
      ". . . . . . . . . S \n",
      ". . . . . . . . . S \n",
      ". . . . . . F . . S \n",
      ". . . . . . . . . S \n",
      ". . . . . . . . . S \n",
      ". . . . . . . . . S \n",
      ". . . . . . . . . S \n",
      ". . . . . . S S S S \n",
      "\n",
      "Score: 20\n"
     ]
    },
    {
     "name": "stdin",
     "output_type": "stream",
     "text": [
      "ENTER direction(up/down/left/right): up\n"
     ]
    },
    {
     "name": "stdout",
     "output_type": "stream",
     "text": [
      ". . . S S S S S S S \n",
      ". . . . . . . . . S \n",
      ". . . . . . . . . S \n",
      ". . . . . . . . . S \n",
      ". . . . . . F . . S \n",
      ". . . . . . . . . S \n",
      ". . . . . . . . . S \n",
      ". . . . . . . . . S \n",
      ". . . . . . S . . S \n",
      ". . . . . . S S S S \n",
      "\n",
      "Score: 20\n"
     ]
    },
    {
     "name": "stdin",
     "output_type": "stream",
     "text": [
      "ENTER direction(up/down/left/right): up\n"
     ]
    },
    {
     "name": "stdout",
     "output_type": "stream",
     "text": [
      ". . . . S S S S S S \n",
      ". . . . . . . . . S \n",
      ". . . . . . . . . S \n",
      ". . . . . . . . . S \n",
      ". . . . . . F . . S \n",
      ". . . . . . . . . S \n",
      ". . . . . . . . . S \n",
      ". . . . . . S . . S \n",
      ". . . . . . S . . S \n",
      ". . . . . . S S S S \n",
      "\n",
      "Score: 20\n"
     ]
    },
    {
     "name": "stdin",
     "output_type": "stream",
     "text": [
      "ENTER direction(up/down/left/right): up\n"
     ]
    },
    {
     "name": "stdout",
     "output_type": "stream",
     "text": [
      ". . . . . S S S S S \n",
      ". . . . . . . . . S \n",
      ". . . . . . . . . S \n",
      ". . . . . . . . . S \n",
      ". . . . . . F . . S \n",
      ". . . . . . . . . S \n",
      ". . . . . . S . . S \n",
      ". . . . . . S . . S \n",
      ". . . . . . S . . S \n",
      ". . . . . . S S S S \n",
      "\n",
      "Score: 20\n"
     ]
    },
    {
     "name": "stdin",
     "output_type": "stream",
     "text": [
      "ENTER direction(up/down/left/right): up\n"
     ]
    },
    {
     "name": "stdout",
     "output_type": "stream",
     "text": [
      ". . . . . . S S S S \n",
      ". . . . . . . . . S \n",
      ". . . . . . . . . S \n",
      ". . . . . . . . . S \n",
      ". . . . . . F . . S \n",
      ". . . . . . S . . S \n",
      ". . . . . . S . . S \n",
      ". . . . . . S . . S \n",
      ". . . . . . S . . S \n",
      ". . . . . . S S S S \n",
      "\n",
      "Score: 20\n"
     ]
    },
    {
     "name": "stdin",
     "output_type": "stream",
     "text": [
      "ENTER direction(up/down/left/right): up\n"
     ]
    },
    {
     "name": "stdout",
     "output_type": "stream",
     "text": [
      ". . . . . . S S S S \n",
      ". . . . . . . . . S \n",
      ". . . . . . . . . S \n",
      ". . . . . . . F . S \n",
      ". . . . . . S . . S \n",
      ". . . . . . S . . S \n",
      ". . . . . . S . . S \n",
      ". . . . . . S . . S \n",
      ". . . . . . S . . S \n",
      ". . . . . . S S S S \n",
      "\n",
      "Score: 21\n"
     ]
    },
    {
     "name": "stdin",
     "output_type": "stream",
     "text": [
      "ENTER direction(up/down/left/right): right\n"
     ]
    },
    {
     "name": "stdout",
     "output_type": "stream",
     "text": [
      ". . . . . . . S S S \n",
      ". . . . . . . . . S \n",
      ". . . . . . . . . S \n",
      ". . . . . . . F . S \n",
      ". . . . . . S S . S \n",
      ". . . . . . S . . S \n",
      ". . . . . . S . . S \n",
      ". . . . . . S . . S \n",
      ". . . . . . S . . S \n",
      ". . . . . . S S S S \n",
      "\n",
      "Score: 21\n"
     ]
    },
    {
     "name": "stdin",
     "output_type": "stream",
     "text": [
      "ENTER direction(up/down/left/right): up\n"
     ]
    },
    {
     "name": "stdout",
     "output_type": "stream",
     "text": [
      ". . . . . . . S S S \n",
      ". . . . . . . . . S \n",
      ". . . . . . . . . S \n",
      ". . . . . F . S . S \n",
      ". . . . . . S S . S \n",
      ". . . . . . S . . S \n",
      ". . . . . . S . . S \n",
      ". . . . . . S . . S \n",
      ". . . . . . S . . S \n",
      ". . . . . . S S S S \n",
      "\n",
      "Score: 22\n"
     ]
    },
    {
     "name": "stdin",
     "output_type": "stream",
     "text": [
      "ENTER direction(up/down/left/right): left\n"
     ]
    },
    {
     "name": "stdout",
     "output_type": "stream",
     "text": [
      ". . . . . . . . S S \n",
      ". . . . . . . . . S \n",
      ". . . . . . . . . S \n",
      ". . . . . F S S . S \n",
      ". . . . . . S S . S \n",
      ". . . . . . S . . S \n",
      ". . . . . . S . . S \n",
      ". . . . . . S . . S \n",
      ". . . . . . S . . S \n",
      ". . . . . . S S S S \n",
      "\n",
      "Score: 22\n"
     ]
    },
    {
     "name": "stdin",
     "output_type": "stream",
     "text": [
      "ENTER direction(up/down/left/right): left\n"
     ]
    },
    {
     "name": "stdout",
     "output_type": "stream",
     "text": [
      ". . . . . . . . S S \n",
      ". . . . . . . . . S \n",
      ". . . . . . . . . S \n",
      ". . . . . S S S . S \n",
      ". . . . . . S S . S \n",
      ". . . . . . S . . S \n",
      "F . . . . . S . . S \n",
      ". . . . . . S . . S \n",
      ". . . . . . S . . S \n",
      ". . . . . . S S S S \n",
      "\n",
      "Score: 23\n"
     ]
    },
    {
     "name": "stdin",
     "output_type": "stream",
     "text": [
      "ENTER direction(up/down/left/right): left\n"
     ]
    },
    {
     "name": "stdout",
     "output_type": "stream",
     "text": [
      ". . . . . . . . . S \n",
      ". . . . . . . . . S \n",
      ". . . . . . . . . S \n",
      ". . . . S S S S . S \n",
      ". . . . . . S S . S \n",
      ". . . . . . S . . S \n",
      "F . . . . . S . . S \n",
      ". . . . . . S . . S \n",
      ". . . . . . S . . S \n",
      ". . . . . . S S S S \n",
      "\n",
      "Score: 23\n"
     ]
    },
    {
     "name": "stdin",
     "output_type": "stream",
     "text": [
      "ENTER direction(up/down/left/right): left\n"
     ]
    },
    {
     "name": "stdout",
     "output_type": "stream",
     "text": [
      ". . . . . . . . . . \n",
      ". . . . . . . . . S \n",
      ". . . . . . . . . S \n",
      ". . . S S S S S . S \n",
      ". . . . . . S S . S \n",
      ". . . . . . S . . S \n",
      "F . . . . . S . . S \n",
      ". . . . . . S . . S \n",
      ". . . . . . S . . S \n",
      ". . . . . . S S S S \n",
      "\n",
      "Score: 23\n"
     ]
    },
    {
     "name": "stdin",
     "output_type": "stream",
     "text": [
      "ENTER direction(up/down/left/right): left\n"
     ]
    },
    {
     "name": "stdout",
     "output_type": "stream",
     "text": [
      ". . . . . . . . . . \n",
      ". . . . . . . . . . \n",
      ". . . . . . . . . S \n",
      ". . S S S S S S . S \n",
      ". . . . . . S S . S \n",
      ". . . . . . S . . S \n",
      "F . . . . . S . . S \n",
      ". . . . . . S . . S \n",
      ". . . . . . S . . S \n",
      ". . . . . . S S S S \n",
      "\n",
      "Score: 23\n"
     ]
    },
    {
     "name": "stdin",
     "output_type": "stream",
     "text": [
      "ENTER direction(up/down/left/right): left\n"
     ]
    },
    {
     "name": "stdout",
     "output_type": "stream",
     "text": [
      ". . . . . . . . . . \n",
      ". . . . . . . . . . \n",
      ". . . . . . . . . . \n",
      ". S S S S S S S . S \n",
      ". . . . . . S S . S \n",
      ". . . . . . S . . S \n",
      "F . . . . . S . . S \n",
      ". . . . . . S . . S \n",
      ". . . . . . S . . S \n",
      ". . . . . . S S S S \n",
      "\n",
      "Score: 23\n"
     ]
    },
    {
     "name": "stdin",
     "output_type": "stream",
     "text": [
      "ENTER direction(up/down/left/right): left\n"
     ]
    },
    {
     "name": "stdout",
     "output_type": "stream",
     "text": [
      ". . . . . . . . . . \n",
      ". . . . . . . . . . \n",
      ". . . . . . . . . . \n",
      "S S S S S S S S . . \n",
      ". . . . . . S S . S \n",
      ". . . . . . S . . S \n",
      "F . . . . . S . . S \n",
      ". . . . . . S . . S \n",
      ". . . . . . S . . S \n",
      ". . . . . . S S S S \n",
      "\n",
      "Score: 23\n"
     ]
    },
    {
     "name": "stdin",
     "output_type": "stream",
     "text": [
      "ENTER direction(up/down/left/right): down\n"
     ]
    },
    {
     "name": "stdout",
     "output_type": "stream",
     "text": [
      ". . . . . . . . . . \n",
      ". . . . . . . . . . \n",
      ". . . . . . . . . . \n",
      "S S S S S S S S . . \n",
      "S . . . . . S S . . \n",
      ". . . . . . S . . S \n",
      "F . . . . . S . . S \n",
      ". . . . . . S . . S \n",
      ". . . . . . S . . S \n",
      ". . . . . . S S S S \n",
      "\n",
      "Score: 23\n"
     ]
    },
    {
     "name": "stdin",
     "output_type": "stream",
     "text": [
      "ENTER direction(up/down/left/right): down\n"
     ]
    },
    {
     "name": "stdout",
     "output_type": "stream",
     "text": [
      ". . . . . . . . . . \n",
      ". . . . . . . . . . \n",
      ". . . . . . . . . . \n",
      "S S S S S S S S . . \n",
      "S . . . . . S S . . \n",
      "S . . . . . S . . . \n",
      "F . . . . . S . . S \n",
      ". . . . . . S . . S \n",
      ". . . . . . S . . S \n",
      ". . . . . . S S S S \n",
      "\n",
      "Score: 23\n"
     ]
    },
    {
     "name": "stdin",
     "output_type": "stream",
     "text": [
      "ENTER direction(up/down/left/right): down\n"
     ]
    },
    {
     "name": "stdout",
     "output_type": "stream",
     "text": [
      ". . . . . . . . . . \n",
      ". . . . . . . . . . \n",
      ". . . . . . . . . . \n",
      "S S S S S S S S . . \n",
      "S . . . . . S S . . \n",
      "S . . . . . S . . . \n",
      "S . . . . . S . . S \n",
      ". . . . . . S . . S \n",
      ". . F . . . S . . S \n",
      ". . . . . . S S S S \n",
      "\n",
      "Score: 24\n"
     ]
    },
    {
     "name": "stdin",
     "output_type": "stream",
     "text": [
      "ENTER direction(up/down/left/right): down\n"
     ]
    },
    {
     "name": "stdout",
     "output_type": "stream",
     "text": [
      ". . . . . . . . . . \n",
      ". . . . . . . . . . \n",
      ". . . . . . . . . . \n",
      "S S S S S S S S . . \n",
      "S . . . . . S S . . \n",
      "S . . . . . S . . . \n",
      "S . . . . . S . . . \n",
      "S . . . . . S . . S \n",
      ". . F . . . S . . S \n",
      ". . . . . . S S S S \n",
      "\n",
      "Score: 24\n"
     ]
    },
    {
     "name": "stdin",
     "output_type": "stream",
     "text": [
      "ENTER direction(up/down/left/right): down\n"
     ]
    },
    {
     "name": "stdout",
     "output_type": "stream",
     "text": [
      ". . . . . . . . . . \n",
      ". . . . . . . . . . \n",
      ". . . . . . . . . . \n",
      "S S S S S S S S . . \n",
      "S . . . . . S S . . \n",
      "S . . . . . S . . . \n",
      "S . . . . . S . . . \n",
      "S . . . . . S . . . \n",
      "S . F . . . S . . S \n",
      ". . . . . . S S S S \n",
      "\n",
      "Score: 24\n"
     ]
    },
    {
     "name": "stdin",
     "output_type": "stream",
     "text": [
      "ENTER direction(up/down/left/right): right\n"
     ]
    },
    {
     "name": "stdout",
     "output_type": "stream",
     "text": [
      ". . . . . . . . . . \n",
      ". . . . . . . . . . \n",
      ". . . . . . . . . . \n",
      "S S S S S S S S . . \n",
      "S . . . . . S S . . \n",
      "S . . . . . S . . . \n",
      "S . . . . . S . . . \n",
      "S . . . . . S . . . \n",
      "S S F . . . S . . . \n",
      ". . . . . . S S S S \n",
      "\n",
      "Score: 24\n"
     ]
    },
    {
     "name": "stdin",
     "output_type": "stream",
     "text": [
      "ENTER direction(up/down/left/right): right\n"
     ]
    },
    {
     "name": "stdout",
     "output_type": "stream",
     "text": [
      ". . . . . . . . . . \n",
      ". . . . . . . . . . \n",
      ". . . . . . . . . . \n",
      "S S S S S S S S . . \n",
      "S . . . . . S S . . \n",
      "S . . . . . S . . . \n",
      "S . . . . . S . . . \n",
      "S . . . . . S . . . \n",
      "S S S . . . S . . . \n",
      ". F . . . . S S S S \n",
      "\n",
      "Score: 25\n"
     ]
    },
    {
     "name": "stdin",
     "output_type": "stream",
     "text": [
      "ENTER direction(up/down/left/right): up\n"
     ]
    },
    {
     "name": "stdout",
     "output_type": "stream",
     "text": [
      ". . . . . . . . . . \n",
      ". . . . . . . . . . \n",
      ". . . . . . . . . . \n",
      "S S S S S S S S . . \n",
      "S . . . . . S S . . \n",
      "S . . . . . S . . . \n",
      "S . . . . . S . . . \n",
      "S . S . . . S . . . \n",
      "S S S . . . S . . . \n",
      ". F . . . . S S S . \n",
      "\n",
      "Score: 25\n"
     ]
    },
    {
     "name": "stdin",
     "output_type": "stream",
     "text": [
      "ENTER direction(up/down/left/right): up\n"
     ]
    },
    {
     "name": "stdout",
     "output_type": "stream",
     "text": [
      ". . . . . . . . . . \n",
      ". . . . . . . . . . \n",
      ". . . . . . . . . . \n",
      "S S S S S S S S . . \n",
      "S . . . . . S S . . \n",
      "S . . . . . S . . . \n",
      "S . S . . . S . . . \n",
      "S . S . . . S . . . \n",
      "S S S . . . S . . . \n",
      ". F . . . . S S . . \n",
      "\n",
      "Score: 25\n"
     ]
    },
    {
     "name": "stdin",
     "output_type": "stream",
     "text": [
      "ENTER direction(up/down/left/right): up\n"
     ]
    },
    {
     "name": "stdout",
     "output_type": "stream",
     "text": [
      ". . . . . . . . . . \n",
      ". . . . . . . . . . \n",
      ". . . . . . . . . . \n",
      "S S S S S S S S . . \n",
      "S . . . . . S S . . \n",
      "S . S . . . S . . . \n",
      "S . S . . . S . . . \n",
      "S . S . . . S . . . \n",
      "S S S . . . S . . . \n",
      ". F . . . . S . . . \n",
      "\n",
      "Score: 25\n"
     ]
    },
    {
     "name": "stdin",
     "output_type": "stream",
     "text": [
      "ENTER direction(up/down/left/right): up\n"
     ]
    },
    {
     "name": "stdout",
     "output_type": "stream",
     "text": [
      ". . . . . . . . . . \n",
      ". . . . . . . . . . \n",
      ". . . . . . . . . . \n",
      "S S S S S S S S . . \n",
      "S . S . . . S S . . \n",
      "S . S . . . S . . . \n",
      "S . S . . . S . . . \n",
      "S . S . . . S . . . \n",
      "S S S . . . S . . . \n",
      ". F . . . . . . . . \n",
      "\n",
      "Score: 25\n"
     ]
    },
    {
     "name": "stdin",
     "output_type": "stream",
     "text": [
      "ENTER direction(up/down/left/right): right\n"
     ]
    },
    {
     "name": "stdout",
     "output_type": "stream",
     "text": [
      ". . . . . . . . . . \n",
      ". . . . . . . . . . \n",
      ". . . . . . . . . . \n",
      "S S S S S S S S . . \n",
      "S . S S . . S S . . \n",
      "S . S . . . S . . . \n",
      "S . S . . . S . . . \n",
      "S . S . . . S . . . \n",
      "S S S . . . . . . . \n",
      ". F . . . . . . . . \n",
      "\n",
      "Score: 25\n"
     ]
    },
    {
     "name": "stdin",
     "output_type": "stream",
     "text": [
      "ENTER direction(up/down/left/right): down\n"
     ]
    },
    {
     "name": "stdout",
     "output_type": "stream",
     "text": [
      ". . . . . . . . . . \n",
      ". . . . . . . . . . \n",
      ". . . . . . . . . . \n",
      "S S S S S S S S . . \n",
      "S . S S . . S S . . \n",
      "S . S S . . S . . . \n",
      "S . S . . . S . . . \n",
      "S . S . . . . . . . \n",
      "S S S . . . . . . . \n",
      ". F . . . . . . . . \n",
      "\n",
      "Score: 25\n"
     ]
    },
    {
     "name": "stdin",
     "output_type": "stream",
     "text": [
      "ENTER direction(up/down/left/right): \n"
     ]
    },
    {
     "name": "stdout",
     "output_type": "stream",
     "text": [
      "Invalid direction,use up/down/right/left.\n",
      ". . . . . . . . . . \n",
      ". . . . . . . . . . \n",
      ". . . . . . . . . . \n",
      "S S S S S S S S . . \n",
      "S . S S . . S S . . \n",
      "S . S S . . S . . . \n",
      "S . S . . . . . . . \n",
      "S . S . . . . . . . \n",
      "S S S . . . . . . . \n",
      ". F . . . . . . . . \n",
      "\n",
      "Score: 25\n"
     ]
    },
    {
     "name": "stdin",
     "output_type": "stream",
     "text": [
      "ENTER direction(up/down/left/right): \n"
     ]
    },
    {
     "name": "stdout",
     "output_type": "stream",
     "text": [
      "Invalid direction,use up/down/right/left.\n",
      ". . . . . . . . . . \n",
      ". . . . . . . . . . \n",
      ". . . . . . . . . . \n",
      "S S S S S S S S . . \n",
      "S . S S . . S S . . \n",
      "S . S S . . . . . . \n",
      "S . S . . . . . . . \n",
      "S . S . . . . . . . \n",
      "S S S . . . . . . . \n",
      ". F . . . . . . . . \n",
      "\n",
      "Score: 25\n"
     ]
    },
    {
     "name": "stdin",
     "output_type": "stream",
     "text": [
      "ENTER direction(up/down/left/right): \n"
     ]
    },
    {
     "name": "stdout",
     "output_type": "stream",
     "text": [
      "Invalid direction,use up/down/right/left.\n",
      ". . . . . . . . . . \n",
      ". . . . . . . . . . \n",
      ". . . . . . . . . . \n",
      "S S S S S S S S . . \n",
      "S . S S . . . S . . \n",
      "S . S S . . . . . . \n",
      "S . S . . . . . . . \n",
      "S . S . . . . . . . \n",
      "S S S . . . . . . . \n",
      ". F . . . . . . . . \n",
      "\n",
      "Score: 25\n"
     ]
    },
    {
     "name": "stdin",
     "output_type": "stream",
     "text": [
      "ENTER direction(up/down/left/right): down\n"
     ]
    },
    {
     "name": "stdout",
     "output_type": "stream",
     "text": [
      ". . . . . . . . . . \n",
      ". . . . . . . . . . \n",
      ". . . . . . . . . . \n",
      "S S S S S S S S . . \n",
      "S . S S . . . . . . \n",
      "S . S S . . . . . . \n",
      "S . S S . . . . . . \n",
      "S . S . . . . . . . \n",
      "S S S . . . . . . . \n",
      ". F . . . . . . . . \n",
      "\n",
      "Score: 25\n"
     ]
    },
    {
     "name": "stdin",
     "output_type": "stream",
     "text": [
      "ENTER direction(up/down/left/right): down\n"
     ]
    },
    {
     "name": "stdout",
     "output_type": "stream",
     "text": [
      ". . . . . . . . . . \n",
      ". . . . . . . . . . \n",
      ". . . . . . . . . . \n",
      "S S S S S S S . . . \n",
      "S . S S . . . . . . \n",
      "S . S S . . . . . . \n",
      "S . S S . . . . . . \n",
      "S . S S . . . . . . \n",
      "S S S . . . . . . . \n",
      ". F . . . . . . . . \n",
      "\n",
      "Score: 25\n"
     ]
    },
    {
     "name": "stdin",
     "output_type": "stream",
     "text": [
      "ENTER direction(up/down/left/right): down\n"
     ]
    },
    {
     "name": "stdout",
     "output_type": "stream",
     "text": [
      ". . . . . . . . . . \n",
      ". . . . . . . . . . \n",
      ". . . . . . . . . . \n",
      "S S S S S S . . . . \n",
      "S . S S . . . . . . \n",
      "S . S S . . . . . . \n",
      "S . S S . . . . . . \n",
      "S . S S . . . . . . \n",
      "S S S S . . . . . . \n",
      ". F . . . . . . . . \n",
      "\n",
      "Score: 25\n"
     ]
    },
    {
     "name": "stdin",
     "output_type": "stream",
     "text": [
      "ENTER direction(up/down/left/right): right\n"
     ]
    },
    {
     "name": "stdout",
     "output_type": "stream",
     "text": [
      ". . . . . . . . . . \n",
      ". . . . . . . . . . \n",
      ". . . . . . . . . . \n",
      "S S S S S . . . . . \n",
      "S . S S . . . . . . \n",
      "S . S S . . . . . . \n",
      "S . S S . . . . . . \n",
      "S . S S . . . . . . \n",
      "S S S S S . . . . . \n",
      ". F . . . . . . . . \n",
      "\n",
      "Score: 25\n"
     ]
    },
    {
     "name": "stdin",
     "output_type": "stream",
     "text": [
      "ENTER direction(up/down/left/right): right\n"
     ]
    },
    {
     "name": "stdout",
     "output_type": "stream",
     "text": [
      ". . . . . . . . . . \n",
      ". . . . . . . . . . \n",
      ". . . . . . . . . . \n",
      "S S S S . . . . . . \n",
      "S . S S . . . . . . \n",
      "S . S S . . . . . . \n",
      "S . S S . . . . . . \n",
      "S . S S . . . . . . \n",
      "S S S S S S . . . . \n",
      ". F . . . . . . . . \n",
      "\n",
      "Score: 25\n"
     ]
    },
    {
     "name": "stdin",
     "output_type": "stream",
     "text": [
      "ENTER direction(up/down/left/right): right\n"
     ]
    },
    {
     "name": "stdout",
     "output_type": "stream",
     "text": [
      ". . . . . . . . . . \n",
      ". . . . . . . . . . \n",
      ". . . . . . . . . . \n",
      "S S S . . . . . . . \n",
      "S . S S . . . . . . \n",
      "S . S S . . . . . . \n",
      "S . S S . . . . . . \n",
      "S . S S . . . . . . \n",
      "S S S S S S S . . . \n",
      ". F . . . . . . . . \n",
      "\n",
      "Score: 25\n"
     ]
    },
    {
     "name": "stdin",
     "output_type": "stream",
     "text": [
      "ENTER direction(up/down/left/right): right\n"
     ]
    },
    {
     "name": "stdout",
     "output_type": "stream",
     "text": [
      ". . . . . . . . . . \n",
      ". . . . . . . . . . \n",
      ". . . . . . . . . . \n",
      "S S . . . . . . . . \n",
      "S . S S . . . . . . \n",
      "S . S S . . . . . . \n",
      "S . S S . . . . . . \n",
      "S . S S . . . . . . \n",
      "S S S S S S S S . . \n",
      ". F . . . . . . . . \n",
      "\n",
      "Score: 25\n"
     ]
    },
    {
     "name": "stdin",
     "output_type": "stream",
     "text": [
      "ENTER direction(up/down/left/right): right\n"
     ]
    },
    {
     "name": "stdout",
     "output_type": "stream",
     "text": [
      ". . . . . . . . . . \n",
      ". . . . . . . . . . \n",
      ". . . . . . . . . . \n",
      "S . . . . . . . . . \n",
      "S . S S . . . . . . \n",
      "S . S S . . . . . . \n",
      "S . S S . . . . . . \n",
      "S . S S . . . . . . \n",
      "S S S S S S S S S . \n",
      ". F . . . . . . . . \n",
      "\n",
      "Score: 25\n"
     ]
    },
    {
     "name": "stdin",
     "output_type": "stream",
     "text": [
      "ENTER direction(up/down/left/right): right\n"
     ]
    },
    {
     "name": "stdout",
     "output_type": "stream",
     "text": [
      ". . . . . . . . . . \n",
      ". . . . . . . . . . \n",
      ". . . . . . . . . . \n",
      ". . . . . . . . . . \n",
      "S . S S . . . . . . \n",
      "S . S S . . . . . . \n",
      "S . S S . . . . . . \n",
      "S . S S . . . . . . \n",
      "S S S S S S S S S S \n",
      ". F . . . . . . . . \n",
      "\n",
      "Score: 25\n"
     ]
    },
    {
     "name": "stdin",
     "output_type": "stream",
     "text": [
      "ENTER direction(up/down/left/right): up\n"
     ]
    },
    {
     "name": "stdout",
     "output_type": "stream",
     "text": [
      ". . . . . . . . . . \n",
      ". . . . . . . . . . \n",
      ". . . . . . . . . . \n",
      ". . . . . . . . . . \n",
      ". . S S . . . . . . \n",
      "S . S S . . . . . . \n",
      "S . S S . . . . . . \n",
      "S . S S . . . . . S \n",
      "S S S S S S S S S S \n",
      ". F . . . . . . . . \n",
      "\n",
      "Score: 25\n"
     ]
    },
    {
     "name": "stdin",
     "output_type": "stream",
     "text": [
      "ENTER direction(up/down/left/right): up\n"
     ]
    },
    {
     "name": "stdout",
     "output_type": "stream",
     "text": [
      ". . . . . . . . . . \n",
      ". . . . . . . . . . \n",
      ". . . . . . . . . . \n",
      ". . . . . . . . . . \n",
      ". . S S . . . . . . \n",
      ". . S S . . . . . . \n",
      "S . S S . . . . . S \n",
      "S . S S . . . . . S \n",
      "S S S S S S S S S S \n",
      ". F . . . . . . . . \n",
      "\n",
      "Score: 25\n"
     ]
    },
    {
     "name": "stdin",
     "output_type": "stream",
     "text": [
      "ENTER direction(up/down/left/right): up\n"
     ]
    },
    {
     "name": "stdout",
     "output_type": "stream",
     "text": [
      ". . . . . . . . . . \n",
      ". . . . . . . . . . \n",
      ". . . . . . . . . . \n",
      ". . . . . . . . . . \n",
      ". . S S . . . . . . \n",
      ". . S S . . . . . S \n",
      ". . S S . . . . . S \n",
      "S . S S . . . . . S \n",
      "S S S S S S S S S S \n",
      ". F . . . . . . . . \n",
      "\n",
      "Score: 25\n"
     ]
    },
    {
     "name": "stdin",
     "output_type": "stream",
     "text": [
      "ENTER direction(up/down/left/right): up\n"
     ]
    },
    {
     "name": "stdout",
     "output_type": "stream",
     "text": [
      ". . . . . . . . . . \n",
      ". . . . . . . . . . \n",
      ". . . . . . . . . . \n",
      ". . . . . . . . . . \n",
      ". . S S . . . . . S \n",
      ". . S S . . . . . S \n",
      ". . S S . . . . . S \n",
      ". . S S . . . . . S \n",
      "S S S S S S S S S S \n",
      ". F . . . . . . . . \n",
      "\n",
      "Score: 25\n"
     ]
    },
    {
     "name": "stdin",
     "output_type": "stream",
     "text": [
      "ENTER direction(up/down/left/right): up\n"
     ]
    },
    {
     "name": "stdout",
     "output_type": "stream",
     "text": [
      ". . . . . . . . . . \n",
      ". . . . . . . . . . \n",
      ". . . . . . . . . . \n",
      ". . . . . . . . . S \n",
      ". . S S . . . . . S \n",
      ". . S S . . . . . S \n",
      ". . S S . . . . . S \n",
      ". . S S . . . . . S \n",
      ". S S S S S S S S S \n",
      ". F . . . . . . . . \n",
      "\n",
      "Score: 25\n"
     ]
    },
    {
     "name": "stdin",
     "output_type": "stream",
     "text": [
      "ENTER direction(up/down/left/right): up\n"
     ]
    },
    {
     "name": "stdout",
     "output_type": "stream",
     "text": [
      ". . . . . . . . . . \n",
      ". . . . . . . . . . \n",
      ". . . . . . . . . S \n",
      ". . . . . . . . . S \n",
      ". . S S . . . . . S \n",
      ". . S S . . . . . S \n",
      ". . S S . . . . . S \n",
      ". . S S . . . . . S \n",
      ". . S S S S S S S S \n",
      ". F . . . . . . . . \n",
      "\n",
      "Score: 25\n"
     ]
    },
    {
     "name": "stdin",
     "output_type": "stream",
     "text": [
      "ENTER direction(up/down/left/right): up\n"
     ]
    },
    {
     "name": "stdout",
     "output_type": "stream",
     "text": [
      ". . . . . . . . . . \n",
      ". . . . . . . . . S \n",
      ". . . . . . . . . S \n",
      ". . . . . . . . . S \n",
      ". . S S . . . . . S \n",
      ". . S S . . . . . S \n",
      ". . S S . . . . . S \n",
      ". . S S . . . . . S \n",
      ". . . S S S S S S S \n",
      ". F . . . . . . . . \n",
      "\n",
      "Score: 25\n"
     ]
    },
    {
     "name": "stdin",
     "output_type": "stream",
     "text": [
      "ENTER direction(up/down/left/right): left\n"
     ]
    },
    {
     "name": "stdout",
     "output_type": "stream",
     "text": [
      ". . . . . . . . . . \n",
      ". . . . . . . . S S \n",
      ". . . . . . . . . S \n",
      ". . . . . . . . . S \n",
      ". . S S . . . . . S \n",
      ". . S S . . . . . S \n",
      ". . S S . . . . . S \n",
      ". . . S . . . . . S \n",
      ". . . S S S S S S S \n",
      ". F . . . . . . . . \n",
      "\n",
      "Score: 25\n"
     ]
    },
    {
     "name": "stdin",
     "output_type": "stream",
     "text": [
      "ENTER direction(up/down/left/right): left\n"
     ]
    },
    {
     "name": "stdout",
     "output_type": "stream",
     "text": [
      ". . . . . . . . . . \n",
      ". . . . . . . S S S \n",
      ". . . . . . . . . S \n",
      ". . . . . . . . . S \n",
      ". . S S . . . . . S \n",
      ". . S S . . . . . S \n",
      ". . . S . . . . . S \n",
      ". . . S . . . . . S \n",
      ". . . S S S S S S S \n",
      ". F . . . . . . . . \n",
      "\n",
      "Score: 25\n"
     ]
    },
    {
     "name": "stdin",
     "output_type": "stream",
     "text": [
      "ENTER direction(up/down/left/right): left\n"
     ]
    },
    {
     "name": "stdout",
     "output_type": "stream",
     "text": [
      ". . . . . . . . . . \n",
      ". . . . . . S S S S \n",
      ". . . . . . . . . S \n",
      ". . . . . . . . . S \n",
      ". . S S . . . . . S \n",
      ". . . S . . . . . S \n",
      ". . . S . . . . . S \n",
      ". . . S . . . . . S \n",
      ". . . S S S S S S S \n",
      ". F . . . . . . . . \n",
      "\n",
      "Score: 25\n"
     ]
    },
    {
     "name": "stdin",
     "output_type": "stream",
     "text": [
      "ENTER direction(up/down/left/right): left\n"
     ]
    },
    {
     "name": "stdout",
     "output_type": "stream",
     "text": [
      ". . . . . . . . . . \n",
      ". . . . . S S S S S \n",
      ". . . . . . . . . S \n",
      ". . . . . . . . . S \n",
      ". . . S . . . . . S \n",
      ". . . S . . . . . S \n",
      ". . . S . . . . . S \n",
      ". . . S . . . . . S \n",
      ". . . S S S S S S S \n",
      ". F . . . . . . . . \n",
      "\n",
      "Score: 25\n"
     ]
    },
    {
     "name": "stdin",
     "output_type": "stream",
     "text": [
      "ENTER direction(up/down/left/right): left\n"
     ]
    },
    {
     "name": "stdout",
     "output_type": "stream",
     "text": [
      ". . . . . . . . . . \n",
      ". . . . S S S S S S \n",
      ". . . . . . . . . S \n",
      ". . . . . . . . . S \n",
      ". . . . . . . . . S \n",
      ". . . S . . . . . S \n",
      ". . . S . . . . . S \n",
      ". . . S . . . . . S \n",
      ". . . S S S S S S S \n",
      ". F . . . . . . . . \n",
      "\n",
      "Score: 25\n"
     ]
    },
    {
     "name": "stdin",
     "output_type": "stream",
     "text": [
      "ENTER direction(up/down/left/right): left\n"
     ]
    },
    {
     "name": "stdout",
     "output_type": "stream",
     "text": [
      ". . . . . . . . . . \n",
      ". . . S S S S S S S \n",
      ". . . . . . . . . S \n",
      ". . . . . . . . . S \n",
      ". . . . . . . . . S \n",
      ". . . . . . . . . S \n",
      ". . . S . . . . . S \n",
      ". . . S . . . . . S \n",
      ". . . S S S S S S S \n",
      ". F . . . . . . . . \n",
      "\n",
      "Score: 25\n"
     ]
    },
    {
     "name": "stdin",
     "output_type": "stream",
     "text": [
      "ENTER direction(up/down/left/right): left\n"
     ]
    },
    {
     "name": "stdout",
     "output_type": "stream",
     "text": [
      ". . . . . . . . . . \n",
      ". . S S S S S S S S \n",
      ". . . . . . . . . S \n",
      ". . . . . . . . . S \n",
      ". . . . . . . . . S \n",
      ". . . . . . . . . S \n",
      ". . . . . . . . . S \n",
      ". . . S . . . . . S \n",
      ". . . S S S S S S S \n",
      ". F . . . . . . . . \n",
      "\n",
      "Score: 25\n"
     ]
    },
    {
     "name": "stdin",
     "output_type": "stream",
     "text": [
      "ENTER direction(up/down/left/right): left\n"
     ]
    },
    {
     "name": "stdout",
     "output_type": "stream",
     "text": [
      ". . . . . . . . . . \n",
      ". S S S S S S S S S \n",
      ". . . . . . . . . S \n",
      ". . . . . . . . . S \n",
      ". . . . . . . . . S \n",
      ". . . . . . . . . S \n",
      ". . . . . . . . . S \n",
      ". . . . . . . . . S \n",
      ". . . S S S S S S S \n",
      ". F . . . . . . . . \n",
      "\n",
      "Score: 25\n"
     ]
    },
    {
     "name": "stdin",
     "output_type": "stream",
     "text": [
      "ENTER direction(up/down/left/right): left\n"
     ]
    },
    {
     "name": "stdout",
     "output_type": "stream",
     "text": [
      ". . . . . . . . . . \n",
      "S S S S S S S S S S \n",
      ". . . . . . . . . S \n",
      ". . . . . . . . . S \n",
      ". . . . . . . . . S \n",
      ". . . . . . . . . S \n",
      ". . . . . . . . . S \n",
      ". . . . . . . . . S \n",
      ". . . . S S S S S S \n",
      ". F . . . . . . . . \n",
      "\n",
      "Score: 25\n"
     ]
    },
    {
     "name": "stdin",
     "output_type": "stream",
     "text": [
      "ENTER direction(up/down/left/right): down\n"
     ]
    },
    {
     "name": "stdout",
     "output_type": "stream",
     "text": [
      ". . . . . . . . . . \n",
      "S S S S S S S S S S \n",
      "S . . . . . . . . S \n",
      ". . . . . . . . . S \n",
      ". . . . . . . . . S \n",
      ". . . . . . . . . S \n",
      ". . . . . . . . . S \n",
      ". . . . . . . . . S \n",
      ". . . . . S S S S S \n",
      ". F . . . . . . . . \n",
      "\n",
      "Score: 25\n"
     ]
    },
    {
     "name": "stdin",
     "output_type": "stream",
     "text": [
      "ENTER direction(up/down/left/right): down\n"
     ]
    },
    {
     "name": "stdout",
     "output_type": "stream",
     "text": [
      ". . . . . . . . . . \n",
      "S S S S S S S S S S \n",
      "S . . . . . . . . S \n",
      "S . . . . . . . . S \n",
      ". . . . . . . . . S \n",
      ". . . . . . . . . S \n",
      ". . . . . . . . . S \n",
      ". . . . . . . . . S \n",
      ". . . . . . S S S S \n",
      ". F . . . . . . . . \n",
      "\n",
      "Score: 25\n"
     ]
    },
    {
     "name": "stdin",
     "output_type": "stream",
     "text": [
      "ENTER direction(up/down/left/right): down\n"
     ]
    },
    {
     "name": "stdout",
     "output_type": "stream",
     "text": [
      ". . . . . . . . . . \n",
      "S S S S S S S S S S \n",
      "S . . . . . . . . S \n",
      "S . . . . . . . . S \n",
      "S . . . . . . . . S \n",
      ". . . . . . . . . S \n",
      ". . . . . . . . . S \n",
      ". . . . . . . . . S \n",
      ". . . . . . . S S S \n",
      ". F . . . . . . . . \n",
      "\n",
      "Score: 25\n"
     ]
    },
    {
     "name": "stdin",
     "output_type": "stream",
     "text": [
      "ENTER direction(up/down/left/right): down\n"
     ]
    },
    {
     "name": "stdout",
     "output_type": "stream",
     "text": [
      ". . . . . . . . . . \n",
      "S S S S S S S S S S \n",
      "S . . . . . . . . S \n",
      "S . . . . . . . . S \n",
      "S . . . . . . . . S \n",
      "S . . . . . . . . S \n",
      ". . . . . . . . . S \n",
      ". . . . . . . . . S \n",
      ". . . . . . . . S S \n",
      ". F . . . . . . . . \n",
      "\n",
      "Score: 25\n"
     ]
    },
    {
     "name": "stdin",
     "output_type": "stream",
     "text": [
      "ENTER direction(up/down/left/right): down\n"
     ]
    },
    {
     "name": "stdout",
     "output_type": "stream",
     "text": [
      ". . . . . . . . . . \n",
      "S S S S S S S S S S \n",
      "S . . . . . . . . S \n",
      "S . . . . . . . . S \n",
      "S . . . . . . . . S \n",
      "S . . . . . . . . S \n",
      "S . . . . . . . . S \n",
      ". . . . . . . . . S \n",
      ". . . . . . . . . S \n",
      ". F . . . . . . . . \n",
      "\n",
      "Score: 25\n"
     ]
    },
    {
     "name": "stdin",
     "output_type": "stream",
     "text": [
      "ENTER direction(up/down/left/right): down\n"
     ]
    },
    {
     "name": "stdout",
     "output_type": "stream",
     "text": [
      ". . . . . . . . . . \n",
      "S S S S S S S S S S \n",
      "S . . . . . . . . S \n",
      "S . . . . . . . . S \n",
      "S . . . . . . . . S \n",
      "S . . . . . . . . S \n",
      "S . . . . . . . . S \n",
      "S . . . . . . . . S \n",
      ". . . . . . . . . . \n",
      ". F . . . . . . . . \n",
      "\n",
      "Score: 25\n"
     ]
    },
    {
     "name": "stdin",
     "output_type": "stream",
     "text": [
      "ENTER direction(up/down/left/right): down\n"
     ]
    },
    {
     "name": "stdout",
     "output_type": "stream",
     "text": [
      ". . . . . . . . . . \n",
      "S S S S S S S S S S \n",
      "S . . . . . . . . S \n",
      "S . . . . . . . . S \n",
      "S . . . . . . . . S \n",
      "S . . . . . . . . S \n",
      "S . . . . . . . . S \n",
      "S . . . . . . . . . \n",
      "S . . . . . . . . . \n",
      ". F . . . . . . . . \n",
      "\n",
      "Score: 25\n"
     ]
    },
    {
     "name": "stdin",
     "output_type": "stream",
     "text": [
      "ENTER direction(up/down/left/right): down\n"
     ]
    },
    {
     "name": "stdout",
     "output_type": "stream",
     "text": [
      ". . . . . . . . . . \n",
      "S S S S S S S S S S \n",
      "S . . . . . . . . S \n",
      "S . . . . . . . . S \n",
      "S . . . . . . . . S \n",
      "S . . . . . . . . S \n",
      "S . . . . . . . . . \n",
      "S . . . . . . . . . \n",
      "S . . . . . . . . . \n",
      "S F . . . . . . . . \n",
      "\n",
      "Score: 25\n"
     ]
    },
    {
     "name": "stdin",
     "output_type": "stream",
     "text": [
      "ENTER direction(up/down/left/right): right\n"
     ]
    },
    {
     "name": "stdout",
     "output_type": "stream",
     "text": [
      ". . . . . . . . . . \n",
      "S S S S S S S S S S \n",
      "S . . . . . . . . S \n",
      "S . . . . . . . . S \n",
      "S . . . . . . . . S \n",
      "S . . . . . . . . S \n",
      "S . . . . . . . . . \n",
      "S . . . . F . . . . \n",
      "S . . . . . . . . . \n",
      "S S . . . . . . . . \n",
      "\n",
      "Score: 26\n"
     ]
    },
    {
     "name": "stdin",
     "output_type": "stream",
     "text": [
      "ENTER direction(up/down/left/right): up\n"
     ]
    },
    {
     "name": "stdout",
     "output_type": "stream",
     "text": [
      ". . . . . . . . . . \n",
      "S S S S S S S S S S \n",
      "S . . . . . . . . S \n",
      "S . . . . . . . . S \n",
      "S . . . . . . . . S \n",
      "S . . . . . . . . . \n",
      "S . . . . . . . . . \n",
      "S . . . . F . . . . \n",
      "S S . . . . . . . . \n",
      "S S . . . . . . . . \n",
      "\n",
      "Score: 26\n"
     ]
    },
    {
     "name": "stdin",
     "output_type": "stream",
     "text": [
      "ENTER direction(up/down/left/right): up\n"
     ]
    },
    {
     "name": "stdout",
     "output_type": "stream",
     "text": [
      ". . . . . . . . . . \n",
      "S S S S S S S S S S \n",
      "S . . . . . . . . S \n",
      "S . . . . . . . . S \n",
      "S . . . . . . . . . \n",
      "S . . . . . . . . . \n",
      "S . . . . . . . . . \n",
      "S S . . . F . . . . \n",
      "S S . . . . . . . . \n",
      "S S . . . . . . . . \n",
      "\n",
      "Score: 26\n"
     ]
    },
    {
     "name": "stdin",
     "output_type": "stream",
     "text": [
      "ENTER direction(up/down/left/right): upright\n"
     ]
    },
    {
     "name": "stdout",
     "output_type": "stream",
     "text": [
      "Invalid direction,use up/down/right/left.\n",
      ". . . . . . . . . . \n",
      "S S S S S S S S S S \n",
      "S . . . . . . . . S \n",
      "S . . . . . . . . . \n",
      "S . . . . . . . . . \n",
      "S . . . . . . . . . \n",
      "S . . . . . . . . . \n",
      "S S . . . F . . . . \n",
      "S S . . . . . . . . \n",
      "S S . . . . . . . . \n",
      "\n",
      "Score: 26\n"
     ]
    },
    {
     "name": "stdin",
     "output_type": "stream",
     "text": [
      "ENTER direction(up/down/left/right): right\n"
     ]
    },
    {
     "name": "stdout",
     "output_type": "stream",
     "text": [
      ". . . . . . . . . . \n",
      "S S S S S S S S S S \n",
      "S . . . . . . . . . \n",
      "S . . . . . . . . . \n",
      "S . . . . . . . . . \n",
      "S . . . . . . . . . \n",
      "S . . . . . . . . . \n",
      "S S S . . F . . . . \n",
      "S S . . . . . . . . \n",
      "S S . . . . . . . . \n",
      "\n",
      "Score: 26\n"
     ]
    },
    {
     "name": "stdin",
     "output_type": "stream",
     "text": [
      "ENTER direction(up/down/left/right): right\n"
     ]
    },
    {
     "name": "stdout",
     "output_type": "stream",
     "text": [
      ". . . . . . . . . . \n",
      "S S S S S S S S S . \n",
      "S . . . . . . . . . \n",
      "S . . . . . . . . . \n",
      "S . . . . . . . . . \n",
      "S . . . . . . . . . \n",
      "S . . . . . . . . . \n",
      "S S S S . F . . . . \n",
      "S S . . . . . . . . \n",
      "S S . . . . . . . . \n",
      "\n",
      "Score: 26\n"
     ]
    },
    {
     "name": "stdin",
     "output_type": "stream",
     "text": [
      "ENTER direction(up/down/left/right): right\n"
     ]
    },
    {
     "name": "stdout",
     "output_type": "stream",
     "text": [
      ". . . . . . . . . . \n",
      "S S S S S S S S . . \n",
      "S . . . . . . . . . \n",
      "S . . . . . . . . . \n",
      "S . . . . . . . . . \n",
      "S . . . . . . . . . \n",
      "S . . . . . . . . . \n",
      "S S S S S F . . . . \n",
      "S S . . . . . . . . \n",
      "S S . . . . . . . . \n",
      "\n",
      "Score: 26\n"
     ]
    },
    {
     "name": "stdin",
     "output_type": "stream",
     "text": [
      "ENTER direction(up/down/left/right): right\n"
     ]
    },
    {
     "name": "stdout",
     "output_type": "stream",
     "text": [
      ". . . . . F . . . . \n",
      "S S S S S S S S . . \n",
      "S . . . . . . . . . \n",
      "S . . . . . . . . . \n",
      "S . . . . . . . . . \n",
      "S . . . . . . . . . \n",
      "S . . . . . . . . . \n",
      "S S S S S S . . . . \n",
      "S S . . . . . . . . \n",
      "S S . . . . . . . . \n",
      "\n",
      "Score: 27\n"
     ]
    },
    {
     "name": "stdin",
     "output_type": "stream",
     "text": [
      "ENTER direction(up/down/left/right): up\n"
     ]
    },
    {
     "name": "stdout",
     "output_type": "stream",
     "text": [
      ". . . . . F . . . . \n",
      "S S S S S S S . . . \n",
      "S . . . . . . . . . \n",
      "S . . . . . . . . . \n",
      "S . . . . . . . . . \n",
      "S . . . . . . . . . \n",
      "S . . . . S . . . . \n",
      "S S S S S S . . . . \n",
      "S S . . . . . . . . \n",
      "S S . . . . . . . . \n",
      "\n",
      "Score: 27\n"
     ]
    },
    {
     "name": "stdin",
     "output_type": "stream",
     "text": [
      "ENTER direction(up/down/left/right): up\n"
     ]
    },
    {
     "name": "stdout",
     "output_type": "stream",
     "text": [
      ". . . . . F . . . . \n",
      "S S S S S S . . . . \n",
      "S . . . . . . . . . \n",
      "S . . . . . . . . . \n",
      "S . . . . . . . . . \n",
      "S . . . . S . . . . \n",
      "S . . . . S . . . . \n",
      "S S S S S S . . . . \n",
      "S S . . . . . . . . \n",
      "S S . . . . . . . . \n",
      "\n",
      "Score: 27\n"
     ]
    },
    {
     "name": "stdin",
     "output_type": "stream",
     "text": [
      "ENTER direction(up/down/left/right): up\n"
     ]
    },
    {
     "name": "stdout",
     "output_type": "stream",
     "text": [
      ". . . . . F . . . . \n",
      "S S S S S . . . . . \n",
      "S . . . . . . . . . \n",
      "S . . . . . . . . . \n",
      "S . . . . S . . . . \n",
      "S . . . . S . . . . \n",
      "S . . . . S . . . . \n",
      "S S S S S S . . . . \n",
      "S S . . . . . . . . \n",
      "S S . . . . . . . . \n",
      "\n",
      "Score: 27\n"
     ]
    },
    {
     "name": "stdin",
     "output_type": "stream",
     "text": [
      "ENTER direction(up/down/left/right): up\n"
     ]
    },
    {
     "name": "stdout",
     "output_type": "stream",
     "text": [
      ". . . . . F . . . . \n",
      "S S S S . . . . . . \n",
      "S . . . . . . . . . \n",
      "S . . . . S . . . . \n",
      "S . . . . S . . . . \n",
      "S . . . . S . . . . \n",
      "S . . . . S . . . . \n",
      "S S S S S S . . . . \n",
      "S S . . . . . . . . \n",
      "S S . . . . . . . . \n",
      "\n",
      "Score: 27\n"
     ]
    },
    {
     "name": "stdin",
     "output_type": "stream",
     "text": [
      "ENTER direction(up/down/left/right): up\n"
     ]
    },
    {
     "name": "stdout",
     "output_type": "stream",
     "text": [
      ". . . . . F . . . . \n",
      "S S S . . . . . . . \n",
      "S . . . . S . . . . \n",
      "S . . . . S . . . . \n",
      "S . . . . S . . . . \n",
      "S . . . . S . . . . \n",
      "S . . . . S . . . . \n",
      "S S S S S S . . . . \n",
      "S S . . . . . . . . \n",
      "S S . . . . . . . . \n",
      "\n",
      "Score: 27\n"
     ]
    },
    {
     "name": "stdin",
     "output_type": "stream",
     "text": [
      "ENTER direction(up/down/left/right): up\n"
     ]
    },
    {
     "name": "stdout",
     "output_type": "stream",
     "text": [
      ". . . . . F . . . . \n",
      "S S . . . S . . . . \n",
      "S . . . . S . . . . \n",
      "S . . . . S . . . . \n",
      "S . . . . S . . . . \n",
      "S . . . . S . . . . \n",
      "S . . . . S . . . . \n",
      "S S S S S S . . . . \n",
      "S S . . . . . . . . \n",
      "S S . . . . . . . . \n",
      "\n",
      "Score: 27\n"
     ]
    },
    {
     "name": "stdin",
     "output_type": "stream",
     "text": [
      "ENTER direction(up/down/left/right): up\n"
     ]
    },
    {
     "name": "stdout",
     "output_type": "stream",
     "text": [
      ". . . . . S . . . . \n",
      "S S . . . S F . . . \n",
      "S . . . . S . . . . \n",
      "S . . . . S . . . . \n",
      "S . . . . S . . . . \n",
      "S . . . . S . . . . \n",
      "S . . . . S . . . . \n",
      "S S S S S S . . . . \n",
      "S S . . . . . . . . \n",
      "S S . . . . . . . . \n",
      "\n",
      "Score: 28\n"
     ]
    },
    {
     "name": "stdin",
     "output_type": "stream",
     "text": [
      "ENTER direction(up/down/left/right): right\n"
     ]
    },
    {
     "name": "stdout",
     "output_type": "stream",
     "text": [
      ". . . . . S S . . . \n",
      "S . . . . S F . . . \n",
      "S . . . . S . . . . \n",
      "S . . . . S . . . . \n",
      "S . . . . S . . . . \n",
      "S . . . . S . . . . \n",
      "S . . . . S . . . . \n",
      "S S S S S S . . . . \n",
      "S S . . . . . . . . \n",
      "S S . . . . . . . . \n",
      "\n",
      "Score: 28\n"
     ]
    },
    {
     "name": "stdin",
     "output_type": "stream",
     "text": [
      "ENTER direction(up/down/left/right): down\n"
     ]
    },
    {
     "name": "stdout",
     "output_type": "stream",
     "text": [
      ". . . . . S S . . . \n",
      "S . . . . S S . . . \n",
      "S . . F . S . . . . \n",
      "S . . . . S . . . . \n",
      "S . . . . S . . . . \n",
      "S . . . . S . . . . \n",
      "S . . . . S . . . . \n",
      "S S S S S S . . . . \n",
      "S S . . . . . . . . \n",
      "S S . . . . . . . . \n",
      "\n",
      "Score: 29\n"
     ]
    },
    {
     "name": "stdin",
     "output_type": "stream",
     "text": [
      "ENTER direction(up/down/left/right): right\n"
     ]
    },
    {
     "name": "stdout",
     "output_type": "stream",
     "text": [
      ". . . . . S S . . . \n",
      ". . . . . S S S . . \n",
      "S . . F . S . . . . \n",
      "S . . . . S . . . . \n",
      "S . . . . S . . . . \n",
      "S . . . . S . . . . \n",
      "S . . . . S . . . . \n",
      "S S S S S S . . . . \n",
      "S S . . . . . . . . \n",
      "S S . . . . . . . . \n",
      "\n",
      "Score: 29\n"
     ]
    },
    {
     "name": "stdin",
     "output_type": "stream",
     "text": [
      "ENTER direction(up/down/left/right): right\n"
     ]
    },
    {
     "name": "stdout",
     "output_type": "stream",
     "text": [
      ". . . . . S S . . . \n",
      ". . . . . S S S S . \n",
      ". . . F . S . . . . \n",
      "S . . . . S . . . . \n",
      "S . . . . S . . . . \n",
      "S . . . . S . . . . \n",
      "S . . . . S . . . . \n",
      "S S S S S S . . . . \n",
      "S S . . . . . . . . \n",
      "S S . . . . . . . . \n",
      "\n",
      "Score: 29\n"
     ]
    },
    {
     "name": "stdin",
     "output_type": "stream",
     "text": [
      "ENTER direction(up/down/left/right): right\n"
     ]
    },
    {
     "name": "stdout",
     "output_type": "stream",
     "text": [
      ". . . . . S S . . . \n",
      ". . . . . S S S S S \n",
      ". . . F . S . . . . \n",
      ". . . . . S . . . . \n",
      "S . . . . S . . . . \n",
      "S . . . . S . . . . \n",
      "S . . . . S . . . . \n",
      "S S S S S S . . . . \n",
      "S S . . . . . . . . \n",
      "S S . . . . . . . . \n",
      "\n",
      "Score: 29\n"
     ]
    },
    {
     "name": "stdin",
     "output_type": "stream",
     "text": [
      "ENTER direction(up/down/left/right): down\n"
     ]
    },
    {
     "name": "stdout",
     "output_type": "stream",
     "text": [
      ". . . . . S S . . . \n",
      ". . . . . S S S S S \n",
      ". . . F . S . . . S \n",
      ". . . . . S . . . . \n",
      ". . . . . S . . . . \n",
      "S . . . . S . . . . \n",
      "S . . . . S . . . . \n",
      "S S S S S S . . . . \n",
      "S S . . . . . . . . \n",
      "S S . . . . . . . . \n",
      "\n",
      "Score: 29\n"
     ]
    },
    {
     "name": "stdin",
     "output_type": "stream",
     "text": [
      "ENTER direction(up/down/left/right): down\n"
     ]
    },
    {
     "name": "stdout",
     "output_type": "stream",
     "text": [
      ". . . . . S S . . . \n",
      ". . . . . S S S S S \n",
      ". . . F . S . . . S \n",
      ". . . . . S . . . S \n",
      ". . . . . S . . . . \n",
      ". . . . . S . . . . \n",
      "S . . . . S . . . . \n",
      "S S S S S S . . . . \n",
      "S S . . . . . . . . \n",
      "S S . . . . . . . . \n",
      "\n",
      "Score: 29\n"
     ]
    },
    {
     "name": "stdin",
     "output_type": "stream",
     "text": [
      "ENTER direction(up/down/left/right): down\n"
     ]
    },
    {
     "name": "stdout",
     "output_type": "stream",
     "text": [
      ". . . . . S S . . . \n",
      ". . . . . S S S S S \n",
      ". . . F . S . . . S \n",
      ". . . . . S . . . S \n",
      ". . . . . S . . . S \n",
      ". . . . . S . . . . \n",
      ". . . . . S . . . . \n",
      "S S S S S S . . . . \n",
      "S S . . . . . . . . \n",
      "S S . . . . . . . . \n",
      "\n",
      "Score: 29\n"
     ]
    },
    {
     "name": "stdin",
     "output_type": "stream",
     "text": [
      "ENTER direction(up/down/left/right): down\n"
     ]
    },
    {
     "name": "stdout",
     "output_type": "stream",
     "text": [
      ". . . . . S S . . . \n",
      ". . . . . S S S S S \n",
      ". . . F . S . . . S \n",
      ". . . . . S . . . S \n",
      ". . . . . S . . . S \n",
      ". . . . . S . . . S \n",
      ". . . . . S . . . . \n",
      ". S S S S S . . . . \n",
      "S S . . . . . . . . \n",
      "S S . . . . . . . . \n",
      "\n",
      "Score: 29\n"
     ]
    },
    {
     "name": "stdin",
     "output_type": "stream",
     "text": [
      "ENTER direction(up/down/left/right): down\n"
     ]
    },
    {
     "name": "stdout",
     "output_type": "stream",
     "text": [
      ". . . . . S S . . . \n",
      ". . . . . S S S S S \n",
      ". . . F . S . . . S \n",
      ". . . . . S . . . S \n",
      ". . . . . S . . . S \n",
      ". . . . . S . . . S \n",
      ". . . . . S . . . S \n",
      ". S S S S S . . . . \n",
      ". S . . . . . . . . \n",
      "S S . . . . . . . . \n",
      "\n",
      "Score: 29\n"
     ]
    },
    {
     "name": "stdin",
     "output_type": "stream",
     "text": [
      "ENTER direction(up/down/left/right): down\n"
     ]
    },
    {
     "name": "stdout",
     "output_type": "stream",
     "text": [
      ". . . . . S S . . . \n",
      ". . . . . S S S S S \n",
      ". . . F . S . . . S \n",
      ". . . . . S . . . S \n",
      ". . . . . S . . . S \n",
      ". . . . . S . . . S \n",
      ". . . . . S . . . S \n",
      ". S S S S S . . . S \n",
      ". S . . . . . . . . \n",
      ". S . . . . . . . . \n",
      "\n",
      "Score: 29\n"
     ]
    },
    {
     "name": "stdin",
     "output_type": "stream",
     "text": [
      "ENTER direction(up/down/left/right): down\n"
     ]
    },
    {
     "name": "stdout",
     "output_type": "stream",
     "text": [
      ". . . . . S S . . . \n",
      ". . . . . S S S S S \n",
      ". . . F . S . . . S \n",
      ". . . . . S . . . S \n",
      ". . . . . S . . . S \n",
      ". . . . . S . . . S \n",
      ". . . . . S . . . S \n",
      ". S S S S S . . . S \n",
      ". S . . . . . . . S \n",
      ". . . . . . . . . . \n",
      "\n",
      "Score: 29\n"
     ]
    },
    {
     "name": "stdin",
     "output_type": "stream",
     "text": [
      "ENTER direction(up/down/left/right): left\n"
     ]
    },
    {
     "name": "stdout",
     "output_type": "stream",
     "text": [
      ". . . . . S S . . . \n",
      ". . . . . S S S S S \n",
      ". . . F . S . . . S \n",
      ". . . . . S . . . S \n",
      ". . . . . S . . . S \n",
      ". . . . . S . . . S \n",
      ". . . . . S . . . S \n",
      ". S S S S S . . . S \n",
      ". . . . . . . . S S \n",
      ". . . . . . . . . . \n",
      "\n",
      "Score: 29\n"
     ]
    },
    {
     "name": "stdin",
     "output_type": "stream",
     "text": [
      "ENTER direction(up/down/left/right): left\n"
     ]
    },
    {
     "name": "stdout",
     "output_type": "stream",
     "text": [
      ". . . . . S S . . . \n",
      ". . . . . S S S S S \n",
      ". . . F . S . . . S \n",
      ". . . . . S . . . S \n",
      ". . . . . S . . . S \n",
      ". . . . . S . . . S \n",
      ". . . . . S . . . S \n",
      ". . S S S S . . . S \n",
      ". . . . . . . S S S \n",
      ". . . . . . . . . . \n",
      "\n",
      "Score: 29\n"
     ]
    },
    {
     "name": "stdin",
     "output_type": "stream",
     "text": [
      "ENTER direction(up/down/left/right): left\n"
     ]
    },
    {
     "name": "stdout",
     "output_type": "stream",
     "text": [
      ". . . . . S S . . . \n",
      ". . . . . S S S S S \n",
      ". . . F . S . . . S \n",
      ". . . . . S . . . S \n",
      ". . . . . S . . . S \n",
      ". . . . . S . . . S \n",
      ". . . . . S . . . S \n",
      ". . . S S S . . . S \n",
      ". . . . . . S S S S \n",
      ". . . . . . . . . . \n",
      "\n",
      "Score: 29\n"
     ]
    },
    {
     "name": "stdin",
     "output_type": "stream",
     "text": [
      "ENTER direction(up/down/left/right): left\n"
     ]
    },
    {
     "name": "stdout",
     "output_type": "stream",
     "text": [
      ". . . . . S S . . . \n",
      ". . . . . S S S S S \n",
      ". . . F . S . . . S \n",
      ". . . . . S . . . S \n",
      ". . . . . S . . . S \n",
      ". . . . . S . . . S \n",
      ". . . . . S . . . S \n",
      ". . . . S S . . . S \n",
      ". . . . . S S S S S \n",
      ". . . . . . . . . . \n",
      "\n",
      "Score: 29\n"
     ]
    },
    {
     "name": "stdin",
     "output_type": "stream",
     "text": [
      "ENTER direction(up/down/left/right): left\n"
     ]
    },
    {
     "name": "stdout",
     "output_type": "stream",
     "text": [
      ". . . . . S S . . . \n",
      ". . . . . S S S S S \n",
      ". . . F . S . . . S \n",
      ". . . . . S . . . S \n",
      ". . . . . S . . . S \n",
      ". . . . . S . . . S \n",
      ". . . . . S . . . S \n",
      ". . . . . S . . . S \n",
      ". . . . S S S S S S \n",
      ". . . . . . . . . . \n",
      "\n",
      "Score: 29\n"
     ]
    },
    {
     "name": "stdin",
     "output_type": "stream",
     "text": [
      "ENTER direction(up/down/left/right): left\n"
     ]
    },
    {
     "name": "stdout",
     "output_type": "stream",
     "text": [
      ". . . . . S S . . . \n",
      ". . . . . S S S S S \n",
      ". . . F . S . . . S \n",
      ". . . . . S . . . S \n",
      ". . . . . S . . . S \n",
      ". . . . . S . . . S \n",
      ". . . . . S . . . S \n",
      ". . . . . . . . . S \n",
      ". . . S S S S S S S \n",
      ". . . . . . . . . . \n",
      "\n",
      "Score: 29\n"
     ]
    },
    {
     "name": "stdin",
     "output_type": "stream",
     "text": [
      "ENTER direction(up/down/left/right): up\n"
     ]
    },
    {
     "name": "stdout",
     "output_type": "stream",
     "text": [
      ". . . . . S S . . . \n",
      ". . . . . S S S S S \n",
      ". . . F . S . . . S \n",
      ". . . . . S . . . S \n",
      ". . . . . S . . . S \n",
      ". . . . . S . . . S \n",
      ". . . . . . . . . S \n",
      ". . . S . . . . . S \n",
      ". . . S S S S S S S \n",
      ". . . . . . . . . . \n",
      "\n",
      "Score: 29\n"
     ]
    },
    {
     "name": "stdin",
     "output_type": "stream",
     "text": [
      "ENTER direction(up/down/left/right): up\n"
     ]
    },
    {
     "name": "stdout",
     "output_type": "stream",
     "text": [
      ". . . . . S S . . . \n",
      ". . . . . S S S S S \n",
      ". . . F . S . . . S \n",
      ". . . . . S . . . S \n",
      ". . . . . S . . . S \n",
      ". . . . . . . . . S \n",
      ". . . S . . . . . S \n",
      ". . . S . . . . . S \n",
      ". . . S S S S S S S \n",
      ". . . . . . . . . . \n",
      "\n",
      "Score: 29\n"
     ]
    },
    {
     "name": "stdin",
     "output_type": "stream",
     "text": [
      "ENTER direction(up/down/left/right): up\n"
     ]
    },
    {
     "name": "stdout",
     "output_type": "stream",
     "text": [
      ". . . . . S S . . . \n",
      ". . . . . S S S S S \n",
      ". . . F . S . . . S \n",
      ". . . . . S . . . S \n",
      ". . . . . . . . . S \n",
      ". . . S . . . . . S \n",
      ". . . S . . . . . S \n",
      ". . . S . . . . . S \n",
      ". . . S S S S S S S \n",
      ". . . . . . . . . . \n",
      "\n",
      "Score: 29\n"
     ]
    },
    {
     "name": "stdin",
     "output_type": "stream",
     "text": [
      "ENTER direction(up/down/left/right): up\n"
     ]
    },
    {
     "name": "stdout",
     "output_type": "stream",
     "text": [
      ". . . . . S S . . . \n",
      ". . . . . S S S S S \n",
      ". . . F . S . . . S \n",
      ". . . . . . . . . S \n",
      ". . . S . . . . . S \n",
      ". . . S . . . . . S \n",
      ". . . S . . . . . S \n",
      ". . . S . . . . . S \n",
      ". . . S S S S S S S \n",
      ". . . . . . . . . . \n",
      "\n",
      "Score: 29\n"
     ]
    },
    {
     "name": "stdin",
     "output_type": "stream",
     "text": [
      "ENTER direction(up/down/left/right): up\n"
     ]
    },
    {
     "name": "stdout",
     "output_type": "stream",
     "text": [
      ". . . . . S S . . . \n",
      ". . . . . S S S S S \n",
      ". . . F . . . . . S \n",
      ". . . S . . . . . S \n",
      ". . . S . . . . . S \n",
      ". . . S . . . . . S \n",
      ". . . S . . . . . S \n",
      ". . . S . . . . . S \n",
      ". . . S S S S S S S \n",
      ". . . . . . . . . . \n",
      "\n",
      "Score: 29\n"
     ]
    },
    {
     "name": "stdin",
     "output_type": "stream",
     "text": [
      "ENTER direction(up/down/left/right): up\n"
     ]
    },
    {
     "name": "stdout",
     "output_type": "stream",
     "text": [
      ". . . . . S S . . . \n",
      ". . . . . S S S S S \n",
      ". . . S . . . . . S \n",
      ". . . S . . . . . S \n",
      ". . . S . F . . . S \n",
      ". . . S . . . . . S \n",
      ". . . S . . . . . S \n",
      ". . . S . . . . . S \n",
      ". . . S S S S S S S \n",
      ". . . . . . . . . . \n",
      "\n",
      "Score: 30\n"
     ]
    },
    {
     "name": "stdin",
     "output_type": "stream",
     "text": [
      "ENTER direction(up/down/left/right): right\n"
     ]
    },
    {
     "name": "stdout",
     "output_type": "stream",
     "text": [
      ". . . . . S S . . . \n",
      ". . . . . . S S S S \n",
      ". . . S S . . . . S \n",
      ". . . S . . . . . S \n",
      ". . . S . F . . . S \n",
      ". . . S . . . . . S \n",
      ". . . S . . . . . S \n",
      ". . . S . . . . . S \n",
      ". . . S S S S S S S \n",
      ". . . . . . . . . . \n",
      "\n",
      "Score: 30\n"
     ]
    },
    {
     "name": "stdin",
     "output_type": "stream",
     "text": [
      "ENTER direction(up/down/left/right): down\n"
     ]
    },
    {
     "name": "stdout",
     "output_type": "stream",
     "text": [
      ". . . . . . S . . . \n",
      ". . . . . . S S S S \n",
      ". . . S S . . . . S \n",
      ". . . S S . . . . S \n",
      ". . . S . F . . . S \n",
      ". . . S . . . . . S \n",
      ". . . S . . . . . S \n",
      ". . . S . . . . . S \n",
      ". . . S S S S S S S \n",
      ". . . . . . . . . . \n",
      "\n",
      "Score: 30\n"
     ]
    },
    {
     "name": "stdin",
     "output_type": "stream",
     "text": [
      "ENTER direction(up/down/left/right): down\n"
     ]
    },
    {
     "name": "stdout",
     "output_type": "stream",
     "text": [
      ". . . . . . . . . . \n",
      ". . . . . . S S S S \n",
      ". . . S S . . . . S \n",
      ". . . S S . . . . S \n",
      ". . . S S F . . . S \n",
      ". . . S . . . . . S \n",
      ". . . S . . . . . S \n",
      ". . . S . . . . . S \n",
      ". . . S S S S S S S \n",
      ". . . . . . . . . . \n",
      "\n",
      "Score: 30\n"
     ]
    },
    {
     "name": "stdin",
     "output_type": "stream",
     "text": [
      "ENTER direction(up/down/left/right): down\n"
     ]
    },
    {
     "name": "stdout",
     "output_type": "stream",
     "text": [
      ". . . . . . . . . . \n",
      ". . . . . . . S S S \n",
      ". . . S S . . . . S \n",
      ". . . S S . . . . S \n",
      ". . . S S F . . . S \n",
      ". . . S S . . . . S \n",
      ". . . S . . . . . S \n",
      ". . . S . . . . . S \n",
      ". . . S S S S S S S \n",
      ". . . . . . . . . . \n",
      "\n",
      "Score: 30\n"
     ]
    },
    {
     "name": "stdin",
     "output_type": "stream",
     "text": [
      "ENTER direction(up/down/left/right): down\n"
     ]
    },
    {
     "name": "stdout",
     "output_type": "stream",
     "text": [
      ". . . . . . . . . . \n",
      ". . . . . . . . S S \n",
      ". . . S S . . . . S \n",
      ". . . S S . . . . S \n",
      ". . . S S F . . . S \n",
      ". . . S S . . . . S \n",
      ". . . S S . . . . S \n",
      ". . . S . . . . . S \n",
      ". . . S S S S S S S \n",
      ". . . . . . . . . . \n",
      "\n",
      "Score: 30\n"
     ]
    },
    {
     "name": "stdin",
     "output_type": "stream",
     "text": [
      "ENTER direction(up/down/left/right): down\n"
     ]
    },
    {
     "name": "stdout",
     "output_type": "stream",
     "text": [
      ". . . . . . . . . . \n",
      ". . . . . . . . . S \n",
      ". . . S S . . . . S \n",
      ". . . S S . . . . S \n",
      ". . . S S F . . . S \n",
      ". . . S S . . . . S \n",
      ". . . S S . . . . S \n",
      ". . . S S . . . . S \n",
      ". . . S S S S S S S \n",
      ". . . . . . . . . . \n",
      "\n",
      "Score: 30\n"
     ]
    },
    {
     "name": "stdin",
     "output_type": "stream",
     "text": [
      "ENTER direction(up/down/left/right): right\n"
     ]
    },
    {
     "name": "stdout",
     "output_type": "stream",
     "text": [
      ". . . . . . . . . . \n",
      ". . . . . . . . . . \n",
      ". . . S S . . . . S \n",
      ". . . S S . . . . S \n",
      ". . . S S F . . . S \n",
      ". . . S S . . . . S \n",
      ". . . S S . . . . S \n",
      ". . . S S S . . . S \n",
      ". . . S S S S S S S \n",
      ". . . . . . . . . . \n",
      "\n",
      "Score: 30\n"
     ]
    },
    {
     "name": "stdin",
     "output_type": "stream",
     "text": [
      "ENTER direction(up/down/left/right): up\n"
     ]
    },
    {
     "name": "stdout",
     "output_type": "stream",
     "text": [
      ". . . . . . . . . . \n",
      ". . . . . . . . . . \n",
      ". . . S S . . . . . \n",
      ". . . S S . . . . S \n",
      ". . . S S F . . . S \n",
      ". . . S S . . . . S \n",
      ". . . S S S . . . S \n",
      ". . . S S S . . . S \n",
      ". . . S S S S S S S \n",
      ". . . . . . . . . . \n",
      "\n",
      "Score: 30\n"
     ]
    },
    {
     "name": "stdin",
     "output_type": "stream",
     "text": [
      "ENTER direction(up/down/left/right): up\n"
     ]
    },
    {
     "name": "stdout",
     "output_type": "stream",
     "text": [
      ". . . . . . . . . . \n",
      ". . . . . . . . . . \n",
      ". . . S S . . . . . \n",
      ". . . S S . . . . . \n",
      ". . . S S F . . . S \n",
      ". . . S S S . . . S \n",
      ". . . S S S . . . S \n",
      ". . . S S S . . . S \n",
      ". . . S S S S S S S \n",
      ". . . . . . . . . . \n",
      "\n",
      "Score: 30\n"
     ]
    },
    {
     "name": "stdin",
     "output_type": "stream",
     "text": [
      "ENTER direction(up/down/left/right): up\n"
     ]
    },
    {
     "name": "stdout",
     "output_type": "stream",
     "text": [
      ". . . . . . . . . . \n",
      ". F . . . . . . . . \n",
      ". . . S S . . . . . \n",
      ". . . S S . . . . . \n",
      ". . . S S S . . . S \n",
      ". . . S S S . . . S \n",
      ". . . S S S . . . S \n",
      ". . . S S S . . . S \n",
      ". . . S S S S S S S \n",
      ". . . . . . . . . . \n",
      "\n",
      "Score: 31\n"
     ]
    },
    {
     "name": "stdin",
     "output_type": "stream",
     "text": [
      "ENTER direction(up/down/left/right): up\n"
     ]
    },
    {
     "name": "stdout",
     "output_type": "stream",
     "text": [
      ". . . . . . . . . . \n",
      ". F . . . . . . . . \n",
      ". . . S S . . . . . \n",
      ". . . S S S . . . . \n",
      ". . . S S S . . . . \n",
      ". . . S S S . . . S \n",
      ". . . S S S . . . S \n",
      ". . . S S S . . . S \n",
      ". . . S S S S S S S \n",
      ". . . . . . . . . . \n",
      "\n",
      "Score: 31\n"
     ]
    },
    {
     "name": "stdin",
     "output_type": "stream",
     "text": [
      "ENTER direction(up/down/left/right): up\n"
     ]
    },
    {
     "name": "stdout",
     "output_type": "stream",
     "text": [
      ". . . . . . . . . . \n",
      ". F . . . . . . . . \n",
      ". . . S S S . . . . \n",
      ". . . S S S . . . . \n",
      ". . . S S S . . . . \n",
      ". . . S S S . . . . \n",
      ". . . S S S . . . S \n",
      ". . . S S S . . . S \n",
      ". . . S S S S S S S \n",
      ". . . . . . . . . . \n",
      "\n",
      "Score: 31\n"
     ]
    },
    {
     "name": "stdin",
     "output_type": "stream",
     "text": [
      "ENTER direction(up/down/left/right): up\n"
     ]
    },
    {
     "name": "stdout",
     "output_type": "stream",
     "text": [
      ". . . . . . . . . . \n",
      ". F . . . S . . . . \n",
      ". . . S S S . . . . \n",
      ". . . S S S . . . . \n",
      ". . . S S S . . . . \n",
      ". . . S S S . . . . \n",
      ". . . S S S . . . . \n",
      ". . . S S S . . . S \n",
      ". . . S S S S S S S \n",
      ". . . . . . . . . . \n",
      "\n",
      "Score: 31\n"
     ]
    },
    {
     "name": "stdin",
     "output_type": "stream",
     "text": [
      "ENTER direction(up/down/left/right): left\n"
     ]
    },
    {
     "name": "stdout",
     "output_type": "stream",
     "text": [
      ". . . . . . . . . . \n",
      ". F . . S S . . . . \n",
      ". . . S S S . . . . \n",
      ". . . S S S . . . . \n",
      ". . . S S S . . . . \n",
      ". . . S S S . . . . \n",
      ". . . S S S . . . . \n",
      ". . . S S S . . . . \n",
      ". . . S S S S S S S \n",
      ". . . . . . . . . . \n",
      "\n",
      "Score: 31\n"
     ]
    },
    {
     "name": "stdin",
     "output_type": "stream",
     "text": [
      "ENTER direction(up/down/left/right): left\n"
     ]
    },
    {
     "name": "stdout",
     "output_type": "stream",
     "text": [
      ". . . . . . . . . . \n",
      ". F . S S S . . . . \n",
      ". . . S S S . . . . \n",
      ". . . S S S . . . . \n",
      ". . . S S S . . . . \n",
      ". . . S S S . . . . \n",
      ". . . S S S . . . . \n",
      ". . . S S S . . . . \n",
      ". . . S S S S S S . \n",
      ". . . . . . . . . . \n",
      "\n",
      "Score: 31\n"
     ]
    },
    {
     "name": "stdin",
     "output_type": "stream",
     "text": [
      "ENTER direction(up/down/left/right): left\n"
     ]
    },
    {
     "name": "stdout",
     "output_type": "stream",
     "text": [
      ". . . . . . . . . . \n",
      ". F S S S S . . . . \n",
      ". . . S S S . . . . \n",
      ". . . S S S . . . . \n",
      ". . . S S S . . . . \n",
      ". . . S S S . . . . \n",
      ". . . S S S . . . . \n",
      ". . . S S S . . . . \n",
      ". . . S S S S S . . \n",
      ". . . . . . . . . . \n",
      "\n",
      "Score: 31\n"
     ]
    },
    {
     "name": "stdin",
     "output_type": "stream",
     "text": [
      "ENTER direction(up/down/left/right): left\n"
     ]
    },
    {
     "name": "stdout",
     "output_type": "stream",
     "text": [
      ". . . . . . . . . . \n",
      ". S S S S S . . . . \n",
      ". . . S S S . . . . \n",
      ". . . S S S . . . . \n",
      ". . . S S S . . . . \n",
      ". . . S S S . . . . \n",
      ". . . S S S . . . . \n",
      "F . . S S S . . . . \n",
      ". . . S S S S S . . \n",
      ". . . . . . . . . . \n",
      "\n",
      "Score: 32\n"
     ]
    },
    {
     "name": "stdin",
     "output_type": "stream",
     "text": [
      "ENTER direction(up/down/left/right): left\n"
     ]
    },
    {
     "name": "stdout",
     "output_type": "stream",
     "text": [
      ". . . . . . . . . . \n",
      "S S S S S S . . . . \n",
      ". . . S S S . . . . \n",
      ". . . S S S . . . . \n",
      ". . . S S S . . . . \n",
      ". . . S S S . . . . \n",
      ". . . S S S . . . . \n",
      "F . . S S S . . . . \n",
      ". . . S S S S . . . \n",
      ". . . . . . . . . . \n",
      "\n",
      "Score: 32\n"
     ]
    },
    {
     "name": "stdin",
     "output_type": "stream",
     "text": [
      "ENTER direction(up/down/left/right): down\n"
     ]
    },
    {
     "name": "stdout",
     "output_type": "stream",
     "text": [
      ". . . . . . . . . . \n",
      "S S S S S S . . . . \n",
      "S . . S S S . . . . \n",
      ". . . S S S . . . . \n",
      ". . . S S S . . . . \n",
      ". . . S S S . . . . \n",
      ". . . S S S . . . . \n",
      "F . . S S S . . . . \n",
      ". . . S S S . . . . \n",
      ". . . . . . . . . . \n",
      "\n",
      "Score: 32\n"
     ]
    },
    {
     "name": "stdin",
     "output_type": "stream",
     "text": [
      "ENTER direction(up/down/left/right): \n"
     ]
    },
    {
     "name": "stdout",
     "output_type": "stream",
     "text": [
      "Invalid direction,use up/down/right/left.\n",
      ". . . . . . . . . . \n",
      "S S S S S S . . . . \n",
      "S . . S S S . . . . \n",
      ". . . S S S . . . . \n",
      ". . . S S S . . . . \n",
      ". . . S S S . . . . \n",
      ". . . S S S . . . . \n",
      "F . . S S S . . . . \n",
      ". . . S S . . . . . \n",
      ". . . . . . . . . . \n",
      "\n",
      "Score: 32\n"
     ]
    },
    {
     "name": "stdin",
     "output_type": "stream",
     "text": [
      "ENTER direction(up/down/left/right): down\n"
     ]
    },
    {
     "name": "stdout",
     "output_type": "stream",
     "text": [
      ". . . . . . . . . . \n",
      "S S S S S S . . . . \n",
      "S . . S S S . . . . \n",
      "S . . S S S . . . . \n",
      ". . . S S S . . . . \n",
      ". . . S S S . . . . \n",
      ". . . S S S . . . . \n",
      "F . . S S S . . . . \n",
      ". . . S . . . . . . \n",
      ". . . . . . . . . . \n",
      "\n",
      "Score: 32\n"
     ]
    },
    {
     "name": "stdin",
     "output_type": "stream",
     "text": [
      "ENTER direction(up/down/left/right): down\n"
     ]
    },
    {
     "name": "stdout",
     "output_type": "stream",
     "text": [
      ". . . . . . . . . . \n",
      "S S S S S S . . . . \n",
      "S . . S S S . . . . \n",
      "S . . S S S . . . . \n",
      "S . . S S S . . . . \n",
      ". . . S S S . . . . \n",
      ". . . S S S . . . . \n",
      "F . . S S S . . . . \n",
      ". . . . . . . . . . \n",
      ". . . . . . . . . . \n",
      "\n",
      "Score: 32\n"
     ]
    },
    {
     "name": "stdin",
     "output_type": "stream",
     "text": [
      "ENTER direction(up/down/left/right): down\n"
     ]
    },
    {
     "name": "stdout",
     "output_type": "stream",
     "text": [
      ". . . . . . . . . . \n",
      "S S S S S S . . . . \n",
      "S . . S S S . . . . \n",
      "S . . S S S . . . . \n",
      "S . . S S S . . . . \n",
      "S . . S S S . . . . \n",
      ". . . S S S . . . . \n",
      "F . . . S S . . . . \n",
      ". . . . . . . . . . \n",
      ". . . . . . . . . . \n",
      "\n",
      "Score: 32\n"
     ]
    },
    {
     "name": "stdin",
     "output_type": "stream",
     "text": [
      "ENTER direction(up/down/left/right): down\n"
     ]
    },
    {
     "name": "stdout",
     "output_type": "stream",
     "text": [
      ". . . . . . . . . . \n",
      "S S S S S S . . . . \n",
      "S . . S S S . . . . \n",
      "S . . S S S . . . . \n",
      "S . . S S S . . . . \n",
      "S . . S S S . . . . \n",
      "S . . . S S . . . . \n",
      "F . . . S S . . . . \n",
      ". . . . . . . . . . \n",
      ". . . . . . . . . . \n",
      "\n",
      "Score: 32\n"
     ]
    },
    {
     "name": "stdin",
     "output_type": "stream",
     "text": [
      "ENTER direction(up/down/left/right): down\n"
     ]
    },
    {
     "name": "stdout",
     "output_type": "stream",
     "text": [
      ". . . . . . . . . . \n",
      "S S S S S S . . . . \n",
      "S . . S S S . . . . \n",
      "S . . S S S . . . . \n",
      "S . F S S S . . . . \n",
      "S . . S S S . . . . \n",
      "S . . . S S . . . . \n",
      "S . . . S S . . . . \n",
      ". . . . . . . . . . \n",
      ". . . . . . . . . . \n",
      "\n",
      "Score: 33\n"
     ]
    },
    {
     "name": "stdin",
     "output_type": "stream",
     "text": [
      "ENTER direction(up/down/left/right): right\n"
     ]
    },
    {
     "name": "stdout",
     "output_type": "stream",
     "text": [
      ". . . . . . . . . . \n",
      "S S S S S S . . . . \n",
      "S . . S S S . . . . \n",
      "S . . S S S . . . . \n",
      "S . F S S S . . . . \n",
      "S . . . S S . . . . \n",
      "S . . . S S . . . . \n",
      "S S . . S S . . . . \n",
      ". . . . . . . . . . \n",
      ". . . . . . . . . . \n",
      "\n",
      "Score: 33\n"
     ]
    },
    {
     "name": "stdin",
     "output_type": "stream",
     "text": [
      "ENTER direction(up/down/left/right): up\n"
     ]
    },
    {
     "name": "stdout",
     "output_type": "stream",
     "text": [
      ". . . . . . . . . . \n",
      "S S S S S S . . . . \n",
      "S . . S S S . . . . \n",
      "S . . S S S . . . . \n",
      "S . F . S S . . . . \n",
      "S . . . S S . . . . \n",
      "S S . . S S . . . . \n",
      "S S . . S S . . . . \n",
      ". . . . . . . . . . \n",
      ". . . . . . . . . . \n",
      "\n",
      "Score: 33\n"
     ]
    },
    {
     "name": "stdin",
     "output_type": "stream",
     "text": [
      "ENTER direction(up/down/left/right): up\n"
     ]
    },
    {
     "name": "stdout",
     "output_type": "stream",
     "text": [
      ". . . . . . . . . . \n",
      "S S S S S S . . . . \n",
      "S . . S S S . . . . \n",
      "S . . . S S . . . . \n",
      "S . F . S S . . . . \n",
      "S S . . S S . . . . \n",
      "S S . . S S . . . . \n",
      "S S . . S S . . . . \n",
      ". . . . . . . . . . \n",
      ". . . . . . . . . . \n",
      "\n",
      "Score: 33\n"
     ]
    },
    {
     "name": "stdin",
     "output_type": "stream",
     "text": [
      "ENTER direction(up/down/left/right): up\n"
     ]
    },
    {
     "name": "stdout",
     "output_type": "stream",
     "text": [
      ". . . . . . . . . . \n",
      "S S S S S S . . . . \n",
      "S . . . S S . . . . \n",
      "S . . . S S . . . . \n",
      "S S F . S S . . . . \n",
      "S S . . S S . . . . \n",
      "S S . . S S . . . . \n",
      "S S . . S S . . . . \n",
      ". . . . . . . . . . \n",
      ". . . . . . . . . . \n",
      "\n",
      "Score: 33\n"
     ]
    },
    {
     "name": "stdin",
     "output_type": "stream",
     "text": [
      "ENTER direction(up/down/left/right): up\n"
     ]
    },
    {
     "name": "stdout",
     "output_type": "stream",
     "text": [
      ". . . . . . . . . . \n",
      "S S S S S S . . . . \n",
      "S . . . . S . . . . \n",
      "S S . . S S . . . . \n",
      "S S F . S S . . . . \n",
      "S S . . S S . . . . \n",
      "S S . . S S . . . . \n",
      "S S . . S S . . . . \n",
      ". . . . . . . . . . \n",
      ". . . . . . . . . . \n",
      "\n",
      "Score: 33\n"
     ]
    },
    {
     "name": "stdin",
     "output_type": "stream",
     "text": [
      "ENTER direction(up/down/left/right): up\n"
     ]
    },
    {
     "name": "stdout",
     "output_type": "stream",
     "text": [
      ". . . . . . . . . . \n",
      "S S S S S S . . . . \n",
      "S S . . . S . . . . \n",
      "S S . . . S . . . . \n",
      "S S F . S S . . . . \n",
      "S S . . S S . . . . \n",
      "S S . . S S . . . . \n",
      "S S . . S S . . . . \n",
      ". . . . . . . . . . \n",
      ". . . . . . . . . . \n",
      "\n",
      "Score: 33\n"
     ]
    },
    {
     "name": "stdin",
     "output_type": "stream",
     "text": [
      "ENTER direction(up/down/left/right): right\n"
     ]
    },
    {
     "name": "stdout",
     "output_type": "stream",
     "text": [
      ". . . . . . . . . . \n",
      "S S S S S S . . . . \n",
      "S S S . . S . . . . \n",
      "S S . . . S . . . . \n",
      "S S F . . S . . . . \n",
      "S S . . S S . . . . \n",
      "S S . . S S . . . . \n",
      "S S . . S S . . . . \n",
      ". . . . . . . . . . \n",
      ". . . . . . . . . . \n",
      "\n",
      "Score: 33\n"
     ]
    },
    {
     "name": "stdin",
     "output_type": "stream",
     "text": [
      "ENTER direction(up/down/left/right): down\n"
     ]
    },
    {
     "name": "stdout",
     "output_type": "stream",
     "text": [
      ". . . . . . . . . . \n",
      "S S S S S S . . . . \n",
      "S S S . . S . . . . \n",
      "S S S . . S . . . . \n",
      "S S F . . S . . . . \n",
      "S S . . . S . . . . \n",
      "S S . . S S . . . . \n",
      "S S . . S S . . . . \n",
      ". . . . . . . . . . \n",
      ". . . . . . . . . . \n",
      "\n",
      "Score: 33\n"
     ]
    },
    {
     "name": "stdin",
     "output_type": "stream",
     "text": [
      "ENTER direction(up/down/left/right): down\n"
     ]
    },
    {
     "name": "stdout",
     "output_type": "stream",
     "text": [
      ". . . . . . . . . . \n",
      "S S S S S S . . . . \n",
      "S S S . . S . . . . \n",
      "S S S . . S . . . . \n",
      "S S S . . S . . . . \n",
      "S S . . . S . . . . \n",
      "S S . . S S . . . . \n",
      "S S . . S S . . . . \n",
      ". . . . . . . . F . \n",
      ". . . . . . . . . . \n",
      "\n",
      "Score: 34\n"
     ]
    },
    {
     "name": "stdin",
     "output_type": "stream",
     "text": [
      "ENTER direction(up/down/left/right): down\n"
     ]
    },
    {
     "name": "stdout",
     "output_type": "stream",
     "text": [
      ". . . . . . . . . . \n",
      "S S S S S S . . . . \n",
      "S S S . . S . . . . \n",
      "S S S . . S . . . . \n",
      "S S S . . S . . . . \n",
      "S S S . . S . . . . \n",
      "S S . . . S . . . . \n",
      "S S . . S S . . . . \n",
      ". . . . . . . . F . \n",
      ". . . . . . . . . . \n",
      "\n",
      "Score: 34\n"
     ]
    },
    {
     "name": "stdin",
     "output_type": "stream",
     "text": [
      "ENTER direction(up/down/left/right): down\n"
     ]
    },
    {
     "name": "stdout",
     "output_type": "stream",
     "text": [
      ". . . . . . . . . . \n",
      "S S S S S S . . . . \n",
      "S S S . . S . . . . \n",
      "S S S . . S . . . . \n",
      "S S S . . S . . . . \n",
      "S S S . . S . . . . \n",
      "S S S . . S . . . . \n",
      "S S . . . S . . . . \n",
      ". . . . . . . . F . \n",
      ". . . . . . . . . . \n",
      "\n",
      "Score: 34\n"
     ]
    },
    {
     "name": "stdin",
     "output_type": "stream",
     "text": [
      "ENTER direction(up/down/left/right): down\n"
     ]
    },
    {
     "name": "stdout",
     "output_type": "stream",
     "text": [
      ". . . . . . . . . . \n",
      "S S S S S S . . . . \n",
      "S S S . . S . . . . \n",
      "S S S . . S . . . . \n",
      "S S S . . S . . . . \n",
      "S S S . . S . . . . \n",
      "S S S . . S . . . . \n",
      "S S S . . . . . . . \n",
      ". . . . . . . . F . \n",
      ". . . . . . . . . . \n",
      "\n",
      "Score: 34\n"
     ]
    },
    {
     "name": "stdin",
     "output_type": "stream",
     "text": [
      "ENTER direction(up/down/left/right): down\n"
     ]
    },
    {
     "name": "stdout",
     "output_type": "stream",
     "text": [
      ". . . . . . . . . . \n",
      "S S S S S S . . . . \n",
      "S S S . . S . . . . \n",
      "S S S . . S . . . . \n",
      "S S S . . S . . . . \n",
      "S S S . . S . . . . \n",
      "S S S . . . . . . . \n",
      "S S S . . . . . . . \n",
      ". . S . . . . . F . \n",
      ". . . . . . . . . . \n",
      "\n",
      "Score: 34\n"
     ]
    },
    {
     "name": "stdin",
     "output_type": "stream",
     "text": [
      "ENTER direction(up/down/left/right): right\n"
     ]
    },
    {
     "name": "stdout",
     "output_type": "stream",
     "text": [
      ". . . . . . . . . . \n",
      "S S S S S S . . . . \n",
      "S S S . . S . . . . \n",
      "S S S . . S . . . . \n",
      "S S S . . S . . . . \n",
      "S S S . . . . . . . \n",
      "S S S . . . . . . . \n",
      "S S S . . . . . . . \n",
      ". . S S . . . . F . \n",
      ". . . . . . . . . . \n",
      "\n",
      "Score: 34\n"
     ]
    },
    {
     "name": "stdin",
     "output_type": "stream",
     "text": [
      "ENTER direction(up/down/left/right): right\n"
     ]
    },
    {
     "name": "stdout",
     "output_type": "stream",
     "text": [
      ". . . . . . . . . . \n",
      "S S S S S S . . . . \n",
      "S S S . . S . . . . \n",
      "S S S . . S . . . . \n",
      "S S S . . . . . . . \n",
      "S S S . . . . . . . \n",
      "S S S . . . . . . . \n",
      "S S S . . . . . . . \n",
      ". . S S S . . . F . \n",
      ". . . . . . . . . . \n",
      "\n",
      "Score: 34\n"
     ]
    },
    {
     "name": "stdin",
     "output_type": "stream",
     "text": [
      "ENTER direction(up/down/left/right): right\n"
     ]
    },
    {
     "name": "stdout",
     "output_type": "stream",
     "text": [
      ". . . . . . . . . . \n",
      "S S S S S S . . . . \n",
      "S S S . . S . . . . \n",
      "S S S . . . . . . . \n",
      "S S S . . . . . . . \n",
      "S S S . . . . . . . \n",
      "S S S . . . . . . . \n",
      "S S S . . . . . . . \n",
      ". . S S S S . . F . \n",
      ". . . . . . . . . . \n",
      "\n",
      "Score: 34\n"
     ]
    },
    {
     "name": "stdin",
     "output_type": "stream",
     "text": [
      "ENTER direction(up/down/left/right): right\n"
     ]
    },
    {
     "name": "stdout",
     "output_type": "stream",
     "text": [
      ". . . . . . . . . . \n",
      "S S S S S S . . . . \n",
      "S S S . . . . . . . \n",
      "S S S . . . . . . . \n",
      "S S S . . . . . . . \n",
      "S S S . . . . . . . \n",
      "S S S . . . . . . . \n",
      "S S S . . . . . . . \n",
      ". . S S S S S . F . \n",
      ". . . . . . . . . . \n",
      "\n",
      "Score: 34\n"
     ]
    },
    {
     "name": "stdin",
     "output_type": "stream",
     "text": [
      "ENTER direction(up/down/left/right): right\n"
     ]
    },
    {
     "name": "stdout",
     "output_type": "stream",
     "text": [
      ". . . . . . . . . . \n",
      "S S S S S . . . . . \n",
      "S S S . . . . . . . \n",
      "S S S . . . . . . . \n",
      "S S S . . . . . . . \n",
      "S S S . . . . . . . \n",
      "S S S . . . . . . . \n",
      "S S S . . . . . . . \n",
      ". . S S S S S S F . \n",
      ". . . . . . . . . . \n",
      "\n",
      "Score: 34\n"
     ]
    },
    {
     "name": "stdin",
     "output_type": "stream",
     "text": [
      "ENTER direction(up/down/left/right): right\n"
     ]
    },
    {
     "name": "stdout",
     "output_type": "stream",
     "text": [
      ". . . . . . . . . . \n",
      "S S S S S . . . . . \n",
      "S S S . . . . . . . \n",
      "S S S . . . . . . . \n",
      "S S S . . . . . . . \n",
      "S S S . . . . . . . \n",
      "S S S . . . . . . . \n",
      "S S S . . F . . . . \n",
      ". . S S S S S S S . \n",
      ". . . . . . . . . . \n",
      "\n",
      "Score: 35\n"
     ]
    },
    {
     "name": "stdin",
     "output_type": "stream",
     "text": [
      "ENTER direction(up/down/left/right): up\n"
     ]
    },
    {
     "name": "stdout",
     "output_type": "stream",
     "text": [
      ". . . . . . . . . . \n",
      "S S S S . . . . . . \n",
      "S S S . . . . . . . \n",
      "S S S . . . . . . . \n",
      "S S S . . . . . . . \n",
      "S S S . . . . . . . \n",
      "S S S . . . . . . . \n",
      "S S S . . F . . S . \n",
      ". . S S S S S S S . \n",
      ". . . . . . . . . . \n",
      "\n",
      "Score: 35\n"
     ]
    },
    {
     "name": "stdin",
     "output_type": "stream",
     "text": [
      "ENTER direction(up/down/left/right): left\n"
     ]
    },
    {
     "name": "stdout",
     "output_type": "stream",
     "text": [
      ". . . . . . . . . . \n",
      "S S S . . . . . . . \n",
      "S S S . . . . . . . \n",
      "S S S . . . . . . . \n",
      "S S S . . . . . . . \n",
      "S S S . . . . . . . \n",
      "S S S . . . . . . . \n",
      "S S S . . F . S S . \n",
      ". . S S S S S S S . \n",
      ". . . . . . . . . . \n",
      "\n",
      "Score: 35\n"
     ]
    },
    {
     "name": "stdin",
     "output_type": "stream",
     "text": [
      "ENTER direction(up/down/left/right): left\n"
     ]
    },
    {
     "name": "stdout",
     "output_type": "stream",
     "text": [
      ". . . . . . . . . . \n",
      "S S . . . . . . . . \n",
      "S S S . . . . . . . \n",
      "S S S . . . . . . . \n",
      "S S S . . . . . . . \n",
      "S S S . . . . . . . \n",
      "S S S . . . . . . . \n",
      "S S S . . F S S S . \n",
      ". . S S S S S S S . \n",
      ". . . . . . . . . . \n",
      "\n",
      "Score: 35\n"
     ]
    },
    {
     "name": "stdin",
     "output_type": "stream",
     "text": [
      "ENTER direction(up/down/left/right): left\n"
     ]
    },
    {
     "name": "stdout",
     "output_type": "stream",
     "text": [
      ". . . . . . . . . . \n",
      "S S . . . . . . . . \n",
      "S S S . . . . . . . \n",
      "S S S . . . . . . . \n",
      "S S S . . . . . . . \n",
      "S S S . . . . . F . \n",
      "S S S . . . . . . . \n",
      "S S S . . S S S S . \n",
      ". . S S S S S S S . \n",
      ". . . . . . . . . . \n",
      "\n",
      "Score: 36\n"
     ]
    },
    {
     "name": "stdin",
     "output_type": "stream",
     "text": [
      "ENTER direction(up/down/left/right): left\n"
     ]
    },
    {
     "name": "stdout",
     "output_type": "stream",
     "text": [
      ". . . . . . . . . . \n",
      "S . . . . . . . . . \n",
      "S S S . . . . . . . \n",
      "S S S . . . . . . . \n",
      "S S S . . . . . . . \n",
      "S S S . . . . . F . \n",
      "S S S . . . . . . . \n",
      "S S S . S S S S S . \n",
      ". . S S S S S S S . \n",
      ". . . . . . . . . . \n",
      "\n",
      "Score: 36\n"
     ]
    },
    {
     "name": "stdin",
     "output_type": "stream",
     "text": [
      "ENTER direction(up/down/left/right): left\n"
     ]
    },
    {
     "name": "stdout",
     "output_type": "stream",
     "text": [
      ". . . . . . . . . . \n",
      ". . . . . . . . . . \n",
      "S S S . . . . . . . \n",
      "S S S . . . . . . . \n",
      "S S S . . . . . . . \n",
      "S S S . . . . . F . \n",
      "S S S . . . . . . . \n",
      "S S S S S S S S S . \n",
      ". . S S S S S S S . \n",
      ". . . . . . . . . . \n",
      "\n",
      "Score: 36\n"
     ]
    },
    {
     "name": "stdin",
     "output_type": "stream",
     "text": [
      "ENTER direction(up/down/left/right): up\n"
     ]
    },
    {
     "name": "stdout",
     "output_type": "stream",
     "text": [
      ". . . . . . . . . . \n",
      ". . . . . . . . . . \n",
      ". S S . . . . . . . \n",
      "S S S . . . . . . . \n",
      "S S S . . . . . . . \n",
      "S S S . . . . . F . \n",
      "S S S S . . . . . . \n",
      "S S S S S S S S S . \n",
      ". . S S S S S S S . \n",
      ". . . . . . . . . . \n",
      "\n",
      "Score: 36\n"
     ]
    },
    {
     "name": "stdin",
     "output_type": "stream",
     "text": [
      "ENTER direction(up/down/left/right): up\n"
     ]
    },
    {
     "name": "stdout",
     "output_type": "stream",
     "text": [
      ". . . . . . . . . . \n",
      ". . . . . . . . . . \n",
      ". S S . . . . . . . \n",
      ". S S . . . . . . . \n",
      "S S S . . . . . . . \n",
      "S S S S . . . . F . \n",
      "S S S S . . . . . . \n",
      "S S S S S S S S S . \n",
      ". . S S S S S S S . \n",
      ". . . . . . . . . . \n",
      "\n",
      "Score: 36\n"
     ]
    },
    {
     "name": "stdin",
     "output_type": "stream",
     "text": [
      "ENTER direction(up/down/left/right): right\n"
     ]
    },
    {
     "name": "stdout",
     "output_type": "stream",
     "text": [
      ". . . . . . . . . . \n",
      ". . . . . . . . . . \n",
      ". S S . . . . . . . \n",
      ". S S . . . . . . . \n",
      ". S S . . . . . . . \n",
      "S S S S S . . . F . \n",
      "S S S S . . . . . . \n",
      "S S S S S S S S S . \n",
      ". . S S S S S S S . \n",
      ". . . . . . . . . . \n",
      "\n",
      "Score: 36\n"
     ]
    },
    {
     "name": "stdin",
     "output_type": "stream",
     "text": [
      "ENTER direction(up/down/left/right): right\n"
     ]
    },
    {
     "name": "stdout",
     "output_type": "stream",
     "text": [
      ". . . . . . . . . . \n",
      ". . . . . . . . . . \n",
      ". S S . . . . . . . \n",
      ". S S . . . . . . . \n",
      ". S S . . . . . . . \n",
      ". S S S S S . . F . \n",
      "S S S S . . . . . . \n",
      "S S S S S S S S S . \n",
      ". . S S S S S S S . \n",
      ". . . . . . . . . . \n",
      "\n",
      "Score: 36\n"
     ]
    },
    {
     "name": "stdin",
     "output_type": "stream",
     "text": [
      "ENTER direction(up/down/left/right): right\n"
     ]
    },
    {
     "name": "stdout",
     "output_type": "stream",
     "text": [
      ". . . . . . . . . . \n",
      ". . . . . . . . . . \n",
      ". S S . . . . . . . \n",
      ". S S . . . . . . . \n",
      ". S S . . . . . . . \n",
      ". S S S S S S . F . \n",
      ". S S S . . . . . . \n",
      "S S S S S S S S S . \n",
      ". . S S S S S S S . \n",
      ". . . . . . . . . . \n",
      "\n",
      "Score: 36\n"
     ]
    },
    {
     "name": "stdin",
     "output_type": "stream",
     "text": [
      "ENTER direction(up/down/left/right): right\n"
     ]
    },
    {
     "name": "stdout",
     "output_type": "stream",
     "text": [
      ". . . . . . . . . . \n",
      ". . . . . . . . . . \n",
      ". S S . . . . . . . \n",
      ". S S . . . . . . . \n",
      ". S S . . . . . . . \n",
      ". S S S S S S S F . \n",
      ". S S S . . . . . . \n",
      ". S S S S S S S S . \n",
      ". . S S S S S S S . \n",
      ". . . . . . . . . . \n",
      "\n",
      "Score: 36\n"
     ]
    },
    {
     "name": "stdin",
     "output_type": "stream",
     "text": [
      "ENTER direction(up/down/left/right): right\n"
     ]
    },
    {
     "name": "stdout",
     "output_type": "stream",
     "text": [
      ". . . . . . . . . . \n",
      ". . . . . . . . . . \n",
      ". S S . . . . . . . \n",
      ". S S . . . . . . . \n",
      ". S S . . . F . . . \n",
      ". S S S S S S S S . \n",
      ". S S S . . . . . . \n",
      ". S S S S S S S S . \n",
      ". . S S S S S S S . \n",
      ". . . . . . . . . . \n",
      "\n",
      "Score: 37\n"
     ]
    },
    {
     "name": "stdin",
     "output_type": "stream",
     "text": [
      "ENTER direction(up/down/left/right): up\n"
     ]
    },
    {
     "name": "stdout",
     "output_type": "stream",
     "text": [
      ". . . . . . . . . . \n",
      ". . . . . . . . . . \n",
      ". S S . . . . . . . \n",
      ". S S . . . . . . . \n",
      ". S S . . . F . S . \n",
      ". S S S S S S S S . \n",
      ". S S S . . . . . . \n",
      ". . S S S S S S S . \n",
      ". . S S S S S S S . \n",
      ". . . . . . . . . . \n",
      "\n",
      "Score: 37\n"
     ]
    },
    {
     "name": "stdin",
     "output_type": "stream",
     "text": [
      "ENTER direction(up/down/left/right): left\n"
     ]
    },
    {
     "name": "stdout",
     "output_type": "stream",
     "text": [
      ". . . . . . . . . . \n",
      ". . . . . . . . . . \n",
      ". S S . . . . . . . \n",
      ". S S . . . . . . . \n",
      ". S S . . . F S S . \n",
      ". S S S S S S S S . \n",
      ". . S S . . . . . . \n",
      ". . S S S S S S S . \n",
      ". . S S S S S S S . \n",
      ". . . . . . . . . . \n",
      "\n",
      "Score: 37\n"
     ]
    },
    {
     "name": "stdin",
     "output_type": "stream",
     "text": [
      "ENTER direction(up/down/left/right): left\n"
     ]
    },
    {
     "name": "stdout",
     "output_type": "stream",
     "text": [
      ". . . . . . . . . . \n",
      ". . . . . . . . . . \n",
      ". S S . . . . . . . \n",
      ". S S . . . . F . . \n",
      ". S S . . . S S S . \n",
      ". S S S S S S S S . \n",
      ". . S S . . . . . . \n",
      ". . S S S S S S S . \n",
      ". . S S S S S S S . \n",
      ". . . . . . . . . . \n",
      "\n",
      "Score: 38\n"
     ]
    },
    {
     "name": "stdin",
     "output_type": "stream",
     "text": [
      "ENTER direction(up/down/left/right): left\n"
     ]
    },
    {
     "name": "stdout",
     "output_type": "stream",
     "text": [
      ". . . . . . . . . . \n",
      ". . . . . . . . . . \n",
      ". S S . . . . . . . \n",
      ". S S . . . . F . . \n",
      ". S S . . S S S S . \n",
      ". . S S S S S S S . \n",
      ". . S S . . . . . . \n",
      ". . S S S S S S S . \n",
      ". . S S S S S S S . \n",
      ". . . . . . . . . . \n",
      "\n",
      "Score: 38\n"
     ]
    },
    {
     "name": "stdin",
     "output_type": "stream",
     "text": [
      "ENTER direction(up/down/left/right): left\n"
     ]
    },
    {
     "name": "stdout",
     "output_type": "stream",
     "text": [
      ". . . . . . . . . . \n",
      ". . . . . . . . . . \n",
      ". S S . . . . . . . \n",
      ". S S . . . . F . . \n",
      ". . S . S S S S S . \n",
      ". . S S S S S S S . \n",
      ". . S S . . . . . . \n",
      ". . S S S S S S S . \n",
      ". . S S S S S S S . \n",
      ". . . . . . . . . . \n",
      "\n",
      "Score: 38\n"
     ]
    },
    {
     "name": "stdin",
     "output_type": "stream",
     "text": [
      "ENTER direction(up/down/left/right): left\n"
     ]
    },
    {
     "name": "stdout",
     "output_type": "stream",
     "text": [
      ". . . . . . . . . . \n",
      ". . . . . . . . . . \n",
      ". S S . . . . . . . \n",
      ". . S . . . . F . . \n",
      ". . S S S S S S S . \n",
      ". . S S S S S S S . \n",
      ". . S S . . . . . . \n",
      ". . S S S S S S S . \n",
      ". . S S S S S S S . \n",
      ". . . . . . . . . . \n",
      "\n",
      "Score: 38\n"
     ]
    },
    {
     "name": "stdin",
     "output_type": "stream",
     "text": [
      "ENTER direction(up/down/left/right): up\n"
     ]
    },
    {
     "name": "stdout",
     "output_type": "stream",
     "text": [
      ". . . . . . . . . . \n",
      ". . . . . . . . . . \n",
      ". . S . . . . . . . \n",
      ". . S S . . . F . . \n",
      ". . S S S S S S S . \n",
      ". . S S S S S S S . \n",
      ". . S S . . . . . . \n",
      ". . S S S S S S S . \n",
      ". . S S S S S S S . \n",
      ". . . . . . . . . . \n",
      "\n",
      "Score: 38\n"
     ]
    },
    {
     "name": "stdin",
     "output_type": "stream",
     "text": [
      "ENTER direction(up/down/left/right): right\n"
     ]
    },
    {
     "name": "stdout",
     "output_type": "stream",
     "text": [
      ". . . . . . . . . . \n",
      ". . . . . . . . . . \n",
      ". . . . . . . . . . \n",
      ". . S S S . . F . . \n",
      ". . S S S S S S S . \n",
      ". . S S S S S S S . \n",
      ". . S S . . . . . . \n",
      ". . S S S S S S S . \n",
      ". . S S S S S S S . \n",
      ". . . . . . . . . . \n",
      "\n",
      "Score: 38\n"
     ]
    },
    {
     "name": "stdin",
     "output_type": "stream",
     "text": [
      "ENTER direction(up/down/left/right): right\n"
     ]
    },
    {
     "name": "stdout",
     "output_type": "stream",
     "text": [
      ". . . . . . . . . . \n",
      ". . . . . . . . . . \n",
      ". . . . . . . . . . \n",
      ". . . S S S . F . . \n",
      ". . S S S S S S S . \n",
      ". . S S S S S S S . \n",
      ". . S S . . . . . . \n",
      ". . S S S S S S S . \n",
      ". . S S S S S S S . \n",
      ". . . . . . . . . . \n",
      "\n",
      "Score: 38\n"
     ]
    },
    {
     "name": "stdin",
     "output_type": "stream",
     "text": [
      "ENTER direction(up/down/left/right): right\n"
     ]
    },
    {
     "name": "stdout",
     "output_type": "stream",
     "text": [
      ". . . . . . . . . . \n",
      ". . . . . . . . . . \n",
      ". . . . . . . . . . \n",
      ". . . S S S S F . . \n",
      ". . . S S S S S S . \n",
      ". . S S S S S S S . \n",
      ". . S S . . . . . . \n",
      ". . S S S S S S S . \n",
      ". . S S S S S S S . \n",
      ". . . . . . . . . . \n",
      "\n",
      "Score: 38\n"
     ]
    },
    {
     "name": "stdin",
     "output_type": "stream",
     "text": [
      "ENTER direction(up/down/left/right): right\n"
     ]
    },
    {
     "name": "stdout",
     "output_type": "stream",
     "text": [
      ". . . . . . . . . . \n",
      ". . . . . . . . . . \n",
      ". . . . . F . . . . \n",
      ". . . S S S S S . . \n",
      ". . . S S S S S S . \n",
      ". . S S S S S S S . \n",
      ". . S S . . . . . . \n",
      ". . S S S S S S S . \n",
      ". . S S S S S S S . \n",
      ". . . . . . . . . . \n",
      "\n",
      "Score: 39\n"
     ]
    },
    {
     "name": "stdin",
     "output_type": "stream",
     "text": [
      "ENTER direction(up/down/left/right): right\n"
     ]
    },
    {
     "name": "stdout",
     "output_type": "stream",
     "text": [
      ". . . . . . . . . . \n",
      ". . . . . . . . . . \n",
      ". . . . . F . . . . \n",
      ". . . S S S S S S . \n",
      ". . . S S S S S S . \n",
      ". . . S S S S S S . \n",
      ". . S S . . . . . . \n",
      ". . S S S S S S S . \n",
      ". . S S S S S S S . \n",
      ". . . . . . . . . . \n",
      "\n",
      "Score: 39\n"
     ]
    },
    {
     "name": "stdin",
     "output_type": "stream",
     "text": [
      "ENTER direction(up/down/left/right): up\n"
     ]
    },
    {
     "name": "stdout",
     "output_type": "stream",
     "text": [
      ". . . . . . . . . . \n",
      ". . . . . . . . . . \n",
      ". . . . . F . . S . \n",
      ". . . S S S S S S . \n",
      ". . . S S S S S S . \n",
      ". . . S S S S S S . \n",
      ". . . S . . . . . . \n",
      ". . S S S S S S S . \n",
      ". . S S S S S S S . \n",
      ". . . . . . . . . . \n",
      "\n",
      "Score: 39\n"
     ]
    },
    {
     "name": "stdin",
     "output_type": "stream",
     "text": [
      "ENTER direction(up/down/left/right): left\n"
     ]
    },
    {
     "name": "stdout",
     "output_type": "stream",
     "text": [
      ". . . . . . . . . . \n",
      ". . . . . . . . . . \n",
      ". . . . . F . S S . \n",
      ". . . S S S S S S . \n",
      ". . . S S S S S S . \n",
      ". . . S S S S S S . \n",
      ". . . S . . . . . . \n",
      ". . . S S S S S S . \n",
      ". . S S S S S S S . \n",
      ". . . . . . . . . . \n",
      "\n",
      "Score: 39\n"
     ]
    },
    {
     "name": "stdin",
     "output_type": "stream",
     "text": [
      "ENTER direction(up/down/left/right): left\n"
     ]
    },
    {
     "name": "stdout",
     "output_type": "stream",
     "text": [
      ". . . . . . . . . . \n",
      ". . . . . . . . . . \n",
      ". . . . . F S S S . \n",
      ". . . S S S S S S . \n",
      ". . . S S S S S S . \n",
      ". . . S S S S S S . \n",
      ". . . S . . . . . . \n",
      ". . . S S S S S S . \n",
      ". . . S S S S S S . \n",
      ". . . . . . . . . . \n",
      "\n",
      "Score: 39\n"
     ]
    },
    {
     "name": "stdin",
     "output_type": "stream",
     "text": [
      "ENTER direction(up/down/left/right): left\n"
     ]
    },
    {
     "name": "stdout",
     "output_type": "stream",
     "text": [
      ". . . . . . . . . . \n",
      ". . . . . . . . . . \n",
      ". . . . F S S S S . \n",
      ". . . S S S S S S . \n",
      ". . . S S S S S S . \n",
      ". . . S S S S S S . \n",
      ". . . S . . . . . . \n",
      ". . . S S S S S S . \n",
      ". . . S S S S S S . \n",
      ". . . . . . . . . . \n",
      "\n",
      "Score: 40\n"
     ]
    },
    {
     "name": "stdin",
     "output_type": "stream",
     "text": [
      "ENTER direction(up/down/left/right): left\n"
     ]
    },
    {
     "name": "stdout",
     "output_type": "stream",
     "text": [
      ". . . . F . . . . . \n",
      ". . . . . . . . . . \n",
      ". . . . S S S S S . \n",
      ". . . S S S S S S . \n",
      ". . . S S S S S S . \n",
      ". . . S S S S S S . \n",
      ". . . S . . . . . . \n",
      ". . . S S S S S S . \n",
      ". . . S S S S S S . \n",
      ". . . . . . . . . . \n",
      "\n",
      "Score: 41\n"
     ]
    },
    {
     "name": "stdin",
     "output_type": "stream",
     "text": [
      "ENTER direction(up/down/left/right): up\n"
     ]
    },
    {
     "name": "stdout",
     "output_type": "stream",
     "text": [
      ". . . . F . . . . . \n",
      ". . . . S . . . . . \n",
      ". . . . S S S S S . \n",
      ". . . S S S S S S . \n",
      ". . . S S S S S S . \n",
      ". . . S S S S S S . \n",
      ". . . S . . . . . . \n",
      ". . . S S S S S S . \n",
      ". . . . S S S S S . \n",
      ". . . . . . . . . . \n",
      "\n",
      "Score: 41\n"
     ]
    },
    {
     "name": "stdin",
     "output_type": "stream",
     "text": [
      "ENTER direction(up/down/left/right): up\n"
     ]
    },
    {
     "name": "stdout",
     "output_type": "stream",
     "text": [
      ". . . . S . . . . F \n",
      ". . . . S . . . . . \n",
      ". . . . S S S S S . \n",
      ". . . S S S S S S . \n",
      ". . . S S S S S S . \n",
      ". . . S S S S S S . \n",
      ". . . S . . . . . . \n",
      ". . . S S S S S S . \n",
      ". . . . S S S S S . \n",
      ". . . . . . . . . . \n",
      "\n",
      "Score: 42\n"
     ]
    },
    {
     "name": "stdin",
     "output_type": "stream",
     "text": [
      "ENTER direction(up/down/left/right): right\n"
     ]
    },
    {
     "name": "stdout",
     "output_type": "stream",
     "text": [
      ". . . . S S . . . F \n",
      ". . . . S . . . . . \n",
      ". . . . S S S S S . \n",
      ". . . S S S S S S . \n",
      ". . . S S S S S S . \n",
      ". . . S S S S S S . \n",
      ". . . S . . . . . . \n",
      ". . . S S S S S S . \n",
      ". . . . . S S S S . \n",
      ". . . . . . . . . . \n",
      "\n",
      "Score: 42\n"
     ]
    },
    {
     "name": "stdin",
     "output_type": "stream",
     "text": [
      "ENTER direction(up/down/left/right): right\n"
     ]
    },
    {
     "name": "stdout",
     "output_type": "stream",
     "text": [
      ". . . . S S S . . F \n",
      ". . . . S . . . . . \n",
      ". . . . S S S S S . \n",
      ". . . S S S S S S . \n",
      ". . . S S S S S S . \n",
      ". . . S S S S S S . \n",
      ". . . S . . . . . . \n",
      ". . . S S S S S S . \n",
      ". . . . . . S S S . \n",
      ". . . . . . . . . . \n",
      "\n",
      "Score: 42\n"
     ]
    },
    {
     "name": "stdin",
     "output_type": "stream",
     "text": [
      "ENTER direction(up/down/left/right): right\n"
     ]
    },
    {
     "name": "stdout",
     "output_type": "stream",
     "text": [
      ". . . . S S S S . F \n",
      ". . . . S . . . . . \n",
      ". . . . S S S S S . \n",
      ". . . S S S S S S . \n",
      ". . . S S S S S S . \n",
      ". . . S S S S S S . \n",
      ". . . S . . . . . . \n",
      ". . . S S S S S S . \n",
      ". . . . . . . S S . \n",
      ". . . . . . . . . . \n",
      "\n",
      "Score: 42\n"
     ]
    },
    {
     "name": "stdin",
     "output_type": "stream",
     "text": [
      "ENTER direction(up/down/left/right): right\n"
     ]
    },
    {
     "name": "stdout",
     "output_type": "stream",
     "text": [
      ". . . . S S S S S F \n",
      ". . . . S . . . . . \n",
      ". . . . S S S S S . \n",
      ". . . S S S S S S . \n",
      ". . . S S S S S S . \n",
      ". . . S S S S S S . \n",
      ". . . S . . . . . . \n",
      ". . . S S S S S S . \n",
      ". . . . . . . . S . \n",
      ". . . . . . . . . . \n",
      "\n",
      "Score: 42\n"
     ]
    },
    {
     "name": "stdin",
     "output_type": "stream",
     "text": [
      "ENTER direction(up/down/left/right): right\n"
     ]
    },
    {
     "name": "stdout",
     "output_type": "stream",
     "text": [
      ". . . . S S S S S S \n",
      ". . . . S . . F . . \n",
      ". . . . S S S S S . \n",
      ". . . S S S S S S . \n",
      ". . . S S S S S S . \n",
      ". . . S S S S S S . \n",
      ". . . S . . . . . . \n",
      ". . . S S S S S S . \n",
      ". . . . . . . . S . \n",
      ". . . . . . . . . . \n",
      "\n",
      "Score: 43\n"
     ]
    },
    {
     "name": "stdin",
     "output_type": "stream",
     "text": [
      "ENTER direction(up/down/left/right): down\n"
     ]
    },
    {
     "name": "stdout",
     "output_type": "stream",
     "text": [
      ". . . . S S S S S S \n",
      ". . . . S . . F . S \n",
      ". . . . S S S S S . \n",
      ". . . S S S S S S . \n",
      ". . . S S S S S S . \n",
      ". . . S S S S S S . \n",
      ". . . S . . . . . . \n",
      ". . . S S S S S S . \n",
      ". . . . . . . . . . \n",
      ". . . . . . . . . . \n",
      "\n",
      "Score: 43\n"
     ]
    },
    {
     "name": "stdin",
     "output_type": "stream",
     "text": [
      "ENTER direction(up/down/left/right): down\n"
     ]
    },
    {
     "name": "stdout",
     "output_type": "stream",
     "text": [
      ". . . . S S S S S S \n",
      ". . . . S . . F . S \n",
      ". . . . S S S S S S \n",
      ". . . S S S S S S . \n",
      ". . . S S S S S S . \n",
      ". . . S S S S S S . \n",
      ". . . S . . . . . . \n",
      ". . . S S S S S . . \n",
      ". . . . . . . . . . \n",
      ". . . . . . . . . . \n",
      "\n",
      "Score: 43\n"
     ]
    },
    {
     "name": "stdin",
     "output_type": "stream",
     "text": [
      "ENTER direction(up/down/left/right): down\n"
     ]
    },
    {
     "name": "stdout",
     "output_type": "stream",
     "text": [
      ". . . . S S S S S S \n",
      ". . . . S . . F . S \n",
      ". . . . S S S S S S \n",
      ". . . S S S S S S S \n",
      ". . . S S S S S S . \n",
      ". . . S S S S S S . \n",
      ". . . S . . . . . . \n",
      ". . . S S S S . . . \n",
      ". . . . . . . . . . \n",
      ". . . . . . . . . . \n",
      "\n",
      "Score: 43\n"
     ]
    },
    {
     "name": "stdin",
     "output_type": "stream",
     "text": [
      "ENTER direction(up/down/left/right): down\n"
     ]
    },
    {
     "name": "stdout",
     "output_type": "stream",
     "text": [
      ". . . . S S S S S S \n",
      ". . . . S . . F . S \n",
      ". . . . S S S S S S \n",
      ". . . S S S S S S S \n",
      ". . . S S S S S S S \n",
      ". . . S S S S S S . \n",
      ". . . S . . . . . . \n",
      ". . . S S S . . . . \n",
      ". . . . . . . . . . \n",
      ". . . . . . . . . . \n",
      "\n",
      "Score: 43\n"
     ]
    },
    {
     "name": "stdin",
     "output_type": "stream",
     "text": [
      "ENTER direction(up/down/left/right): down\n"
     ]
    },
    {
     "name": "stdout",
     "output_type": "stream",
     "text": [
      ". . . . S S S S S S \n",
      ". . . . S . . F . S \n",
      ". . . . S S S S S S \n",
      ". . . S S S S S S S \n",
      ". . . S S S S S S S \n",
      ". . . S S S S S S S \n",
      ". . . S . . . . . . \n",
      ". . . S S . . . . . \n",
      ". . . . . . . . . . \n",
      ". . . . . . . . . . \n",
      "\n",
      "Score: 43\n"
     ]
    },
    {
     "name": "stdin",
     "output_type": "stream",
     "text": [
      "ENTER direction(up/down/left/right): down\n"
     ]
    },
    {
     "name": "stdout",
     "output_type": "stream",
     "text": [
      ". . . . S S S S S S \n",
      ". . . . S . . F . S \n",
      ". . . . S S S S S S \n",
      ". . . S S S S S S S \n",
      ". . . S S S S S S S \n",
      ". . . S S S S S S S \n",
      ". . . S . . . . . S \n",
      ". . . S . . . . . . \n",
      ". . . . . . . . . . \n",
      ". . . . . . . . . . \n",
      "\n",
      "Score: 43\n"
     ]
    },
    {
     "name": "stdin",
     "output_type": "stream",
     "text": [
      "ENTER direction(up/down/left/right): down\n"
     ]
    },
    {
     "name": "stdout",
     "output_type": "stream",
     "text": [
      ". . . . S S S S S S \n",
      ". . . . S . . F . S \n",
      ". . . . S S S S S S \n",
      ". . . S S S S S S S \n",
      ". . . S S S S S S S \n",
      ". . . S S S S S S S \n",
      ". . . S . . . . . S \n",
      ". . . . . . . . . S \n",
      ". . . . . . . . . . \n",
      ". . . . . . . . . . \n",
      "\n",
      "Score: 43\n"
     ]
    },
    {
     "name": "stdin",
     "output_type": "stream",
     "text": [
      "ENTER direction(up/down/left/right): down\n"
     ]
    },
    {
     "name": "stdout",
     "output_type": "stream",
     "text": [
      ". . . . S S S S S S \n",
      ". . . . S . . F . S \n",
      ". . . . S S S S S S \n",
      ". . . S S S S S S S \n",
      ". . . S S S S S S S \n",
      ". . . S S S S S S S \n",
      ". . . . . . . . . S \n",
      ". . . . . . . . . S \n",
      ". . . . . . . . . S \n",
      ". . . . . . . . . . \n",
      "\n",
      "Score: 43\n"
     ]
    },
    {
     "name": "stdin",
     "output_type": "stream",
     "text": [
      "ENTER direction(up/down/left/right): down\n"
     ]
    },
    {
     "name": "stdout",
     "output_type": "stream",
     "text": [
      ". . . . S S S S S S \n",
      ". . . . S . . F . S \n",
      ". . . . S S S S S S \n",
      ". . . S S S S S S S \n",
      ". . . S S S S S S S \n",
      ". . . . S S S S S S \n",
      ". . . . . . . . . S \n",
      ". . . . . . . . . S \n",
      ". . . . . . . . . S \n",
      ". . . . . . . . . S \n",
      "\n",
      "Score: 43\n"
     ]
    },
    {
     "name": "stdin",
     "output_type": "stream",
     "text": [
      "ENTER direction(up/down/left/right): left\n"
     ]
    },
    {
     "name": "stdout",
     "output_type": "stream",
     "text": [
      ". . . . S S S S S S \n",
      ". . . . S . . F . S \n",
      ". . . . S S S S S S \n",
      ". . . S S S S S S S \n",
      ". . . S S S S S S S \n",
      ". . . . . S S S S S \n",
      ". . . . . . . . . S \n",
      ". . . . . . . . . S \n",
      ". . . . . . . . . S \n",
      ". . . . . . . . S S \n",
      "\n",
      "Score: 43\n"
     ]
    },
    {
     "name": "stdin",
     "output_type": "stream",
     "text": [
      "ENTER direction(up/down/left/right): left\n"
     ]
    },
    {
     "name": "stdout",
     "output_type": "stream",
     "text": [
      ". . . . S S S S S S \n",
      ". . . . S . . F . S \n",
      ". . . . S S S S S S \n",
      ". . . S S S S S S S \n",
      ". . . S S S S S S S \n",
      ". . . . . . S S S S \n",
      ". . . . . . . . . S \n",
      ". . . . . . . . . S \n",
      ". . . . . . . . . S \n",
      ". . . . . . . S S S \n",
      "\n",
      "Score: 43\n"
     ]
    },
    {
     "name": "stdin",
     "output_type": "stream",
     "text": [
      "ENTER direction(up/down/left/right): left\n"
     ]
    },
    {
     "name": "stdout",
     "output_type": "stream",
     "text": [
      ". . . . S S S S S S \n",
      ". . . . S . . F . S \n",
      ". . . . S S S S S S \n",
      ". . . S S S S S S S \n",
      ". . . S S S S S S S \n",
      ". . . . . . . S S S \n",
      ". . . . . . . . . S \n",
      ". . . . . . . . . S \n",
      ". . . . . . . . . S \n",
      ". . . . . . S S S S \n",
      "\n",
      "Score: 43\n"
     ]
    },
    {
     "name": "stdin",
     "output_type": "stream",
     "text": [
      "ENTER direction(up/down/left/right): left\n"
     ]
    },
    {
     "name": "stdout",
     "output_type": "stream",
     "text": [
      ". . . . S S S S S S \n",
      ". . . . S . . F . S \n",
      ". . . . S S S S S S \n",
      ". . . S S S S S S S \n",
      ". . . S S S S S S S \n",
      ". . . . . . . . S S \n",
      ". . . . . . . . . S \n",
      ". . . . . . . . . S \n",
      ". . . . . . . . . S \n",
      ". . . . . S S S S S \n",
      "\n",
      "Score: 43\n"
     ]
    },
    {
     "name": "stdin",
     "output_type": "stream",
     "text": [
      "ENTER direction(up/down/left/right): left\n"
     ]
    },
    {
     "name": "stdout",
     "output_type": "stream",
     "text": [
      ". . . . S S S S S S \n",
      ". . . . S . . F . S \n",
      ". . . . S S S S S S \n",
      ". . . S S S S S S S \n",
      ". . . S S S S S S S \n",
      ". . . . . . . . . S \n",
      ". . . . . . . . . S \n",
      ". . . . . . . . . S \n",
      ". . . . . . . . . S \n",
      ". . . . S S S S S S \n",
      "\n",
      "Score: 43\n"
     ]
    },
    {
     "name": "stdin",
     "output_type": "stream",
     "text": [
      "ENTER direction(up/down/left/right): left\n"
     ]
    },
    {
     "name": "stdout",
     "output_type": "stream",
     "text": [
      ". . . . S S S S S S \n",
      ". . . . S . . F . S \n",
      ". . . . S S S S S S \n",
      ". . . S S S S S S S \n",
      ". . . S S S S S . S \n",
      ". . . . . . . . . S \n",
      ". . . . . . . . . S \n",
      ". . . . . . . . . S \n",
      ". . . . . . . . . S \n",
      ". . . S S S S S S S \n",
      "\n",
      "Score: 43\n"
     ]
    },
    {
     "name": "stdin",
     "output_type": "stream",
     "text": [
      "ENTER direction(up/down/left/right): left\n"
     ]
    },
    {
     "name": "stdout",
     "output_type": "stream",
     "text": [
      ". . . . S S S S S S \n",
      ". . . . S . . F . S \n",
      ". . . . S S S S S S \n",
      ". . . S S S S S S S \n",
      ". . . S S S S . . S \n",
      ". . . . . . . . . S \n",
      ". . . . . . . . . S \n",
      ". . . . . . . . . S \n",
      ". . . . . . . . . S \n",
      ". . S S S S S S S S \n",
      "\n",
      "Score: 43\n"
     ]
    },
    {
     "name": "stdin",
     "output_type": "stream",
     "text": [
      "ENTER direction(up/down/left/right): left\n"
     ]
    },
    {
     "name": "stdout",
     "output_type": "stream",
     "text": [
      ". . . . S S S S S S \n",
      ". . . . S . . F . S \n",
      ". . . . S S S S S S \n",
      ". . . S S S S S S S \n",
      ". . . S S S . . . S \n",
      ". . . . . . . . . S \n",
      ". . . . . . . . . S \n",
      ". . . . . . . . . S \n",
      ". . . . . . . . . S \n",
      ". S S S S S S S S S \n",
      "\n",
      "Score: 43\n"
     ]
    },
    {
     "name": "stdin",
     "output_type": "stream",
     "text": [
      "ENTER direction(up/down/left/right): left\n"
     ]
    },
    {
     "name": "stdout",
     "output_type": "stream",
     "text": [
      ". . . . S S S S S S \n",
      ". . . . S . . F . S \n",
      ". . . . S S S S S S \n",
      ". . . S S S S S S S \n",
      ". . . S S . . . . S \n",
      ". . . . . . . . . S \n",
      ". . . . . . . . . S \n",
      ". . . . . . . . . S \n",
      ". . . . . . . . . S \n",
      "S S S S S S S S S S \n",
      "\n",
      "Score: 43\n"
     ]
    },
    {
     "name": "stdin",
     "output_type": "stream",
     "text": [
      "ENTER direction(up/down/left/right): up\n"
     ]
    },
    {
     "name": "stdout",
     "output_type": "stream",
     "text": [
      ". . . . S S S S S S \n",
      ". . . . S . . F . S \n",
      ". . . . S S S S S S \n",
      ". . . S S S S S S S \n",
      ". . . S . . . . . S \n",
      ". . . . . . . . . S \n",
      ". . . . . . . . . S \n",
      ". . . . . . . . . S \n",
      "S . . . . . . . . S \n",
      "S S S S S S S S S S \n",
      "\n",
      "Score: 43\n"
     ]
    },
    {
     "name": "stdin",
     "output_type": "stream",
     "text": [
      "ENTER direction(up/down/left/right): up\n"
     ]
    },
    {
     "name": "stdout",
     "output_type": "stream",
     "text": [
      ". . . . S S S S S S \n",
      ". . . . S . . F . S \n",
      ". . . . S S S S S S \n",
      ". . . S S S S S S S \n",
      ". . . . . . . . . S \n",
      ". . . . . . . . . S \n",
      ". . . . . . . . . S \n",
      "S . . . . . . . . S \n",
      "S . . . . . . . . S \n",
      "S S S S S S S S S S \n",
      "\n",
      "Score: 43\n"
     ]
    },
    {
     "name": "stdin",
     "output_type": "stream",
     "text": [
      "ENTER direction(up/down/left/right): up\n"
     ]
    },
    {
     "name": "stdout",
     "output_type": "stream",
     "text": [
      ". . . . S S S S S S \n",
      ". . . . S . . F . S \n",
      ". . . . S S S S S S \n",
      ". . . . S S S S S S \n",
      ". . . . . . . . . S \n",
      ". . . . . . . . . S \n",
      "S . . . . . . . . S \n",
      "S . . . . . . . . S \n",
      "S . . . . . . . . S \n",
      "S S S S S S S S S S \n",
      "\n",
      "Score: 43\n"
     ]
    },
    {
     "name": "stdin",
     "output_type": "stream",
     "text": [
      "ENTER direction(up/down/left/right): up\n"
     ]
    },
    {
     "name": "stdout",
     "output_type": "stream",
     "text": [
      ". . . . S S S S S S \n",
      ". . . . S . . F . S \n",
      ". . . . S S S S S S \n",
      ". . . . . S S S S S \n",
      ". . . . . . . . . S \n",
      "S . . . . . . . . S \n",
      "S . . . . . . . . S \n",
      "S . . . . . . . . S \n",
      "S . . . . . . . . S \n",
      "S S S S S S S S S S \n",
      "\n",
      "Score: 43\n"
     ]
    },
    {
     "name": "stdin",
     "output_type": "stream",
     "text": [
      "ENTER direction(up/down/left/right): up\n"
     ]
    },
    {
     "name": "stdout",
     "output_type": "stream",
     "text": [
      ". . . . S S S S S S \n",
      ". . . . S . . F . S \n",
      ". . . . S S S S S S \n",
      ". . . . . . S S S S \n",
      "S . . . . . . . . S \n",
      "S . . . . . . . . S \n",
      "S . . . . . . . . S \n",
      "S . . . . . . . . S \n",
      "S . . . . . . . . S \n",
      "S S S S S S S S S S \n",
      "\n",
      "Score: 43\n"
     ]
    },
    {
     "name": "stdin",
     "output_type": "stream",
     "text": [
      "ENTER direction(up/down/left/right): up\n"
     ]
    },
    {
     "name": "stdout",
     "output_type": "stream",
     "text": [
      ". . . . S S S S S S \n",
      ". . . . S . . F . S \n",
      ". . . . S S S S S S \n",
      "S . . . . . . S S S \n",
      "S . . . . . . . . S \n",
      "S . . . . . . . . S \n",
      "S . . . . . . . . S \n",
      "S . . . . . . . . S \n",
      "S . . . . . . . . S \n",
      "S S S S S S S S S S \n",
      "\n",
      "Score: 43\n"
     ]
    },
    {
     "name": "stdin",
     "output_type": "stream",
     "text": [
      "ENTER direction(up/down/left/right): up\n"
     ]
    },
    {
     "name": "stdout",
     "output_type": "stream",
     "text": [
      ". . . . S S S S S S \n",
      ". . . . S . . F . S \n",
      "S . . . S S S S S S \n",
      "S . . . . . . . S S \n",
      "S . . . . . . . . S \n",
      "S . . . . . . . . S \n",
      "S . . . . . . . . S \n",
      "S . . . . . . . . S \n",
      "S . . . . . . . . S \n",
      "S S S S S S S S S S \n",
      "\n",
      "Score: 43\n"
     ]
    },
    {
     "name": "stdin",
     "output_type": "stream",
     "text": [
      "ENTER direction(up/down/left/right): up\n"
     ]
    },
    {
     "name": "stdout",
     "output_type": "stream",
     "text": [
      ". . . . S S S S S S \n",
      "S . . . S . . F . S \n",
      "S . . . S S S S S S \n",
      "S . . . . . . . . S \n",
      "S . . . . . . . . S \n",
      "S . . . . . . . . S \n",
      "S . . . . . . . . S \n",
      "S . . . . . . . . S \n",
      "S . . . . . . . . S \n",
      "S S S S S S S S S S \n",
      "\n",
      "Score: 43\n"
     ]
    },
    {
     "name": "stdin",
     "output_type": "stream",
     "text": [
      "ENTER direction(up/down/left/right): up\n"
     ]
    },
    {
     "name": "stdout",
     "output_type": "stream",
     "text": [
      "S . . . S S S S S S \n",
      "S . . . S . . F . S \n",
      "S . . . S S S S . S \n",
      "S . . . . . . . . S \n",
      "S . . . . . . . . S \n",
      "S . . . . . . . . S \n",
      "S . . . . . . . . S \n",
      "S . . . . . . . . S \n",
      "S . . . . . . . . S \n",
      "S S S S S S S S S S \n",
      "\n",
      "Score: 43\n"
     ]
    },
    {
     "name": "stdin",
     "output_type": "stream",
     "text": [
      "ENTER direction(up/down/left/right): right\n"
     ]
    },
    {
     "name": "stdout",
     "output_type": "stream",
     "text": [
      "S S . . S S S S S S \n",
      "S . . . S . . F . S \n",
      "S . . . S S S . . S \n",
      "S . . . . . . . . S \n",
      "S . . . . . . . . S \n",
      "S . . . . . . . . S \n",
      "S . . . . . . . . S \n",
      "S . . . . . . . . S \n",
      "S . . . . . . . . S \n",
      "S S S S S S S S S S \n",
      "\n",
      "Score: 43\n"
     ]
    },
    {
     "name": "stdin",
     "output_type": "stream",
     "text": [
      "ENTER direction(up/down/left/right): down\n"
     ]
    },
    {
     "name": "stdout",
     "output_type": "stream",
     "text": [
      "S S . . S S S S S S \n",
      "S S . . S . . F . S \n",
      "S . . . S S . . . S \n",
      "S . . . . . . . . S \n",
      "S . . . . . . . . S \n",
      "S . . . . . . . . S \n",
      "S . . . . . . . . S \n",
      "S . . . . . . . . S \n",
      "S . . . . . . . . S \n",
      "S S S S S S S S S S \n",
      "\n",
      "Score: 43\n"
     ]
    },
    {
     "name": "stdin",
     "output_type": "stream",
     "text": [
      "ENTER direction(up/down/left/right): down\n"
     ]
    },
    {
     "name": "stdout",
     "output_type": "stream",
     "text": [
      "S S . . S S S S S S \n",
      "S S . . S . . F . S \n",
      "S S . . S . . . . S \n",
      "S . . . . . . . . S \n",
      "S . . . . . . . . S \n",
      "S . . . . . . . . S \n",
      "S . . . . . . . . S \n",
      "S . . . . . . . . S \n",
      "S . . . . . . . . S \n",
      "S S S S S S S S S S \n",
      "\n",
      "Score: 43\n"
     ]
    },
    {
     "name": "stdin",
     "output_type": "stream",
     "text": [
      "ENTER direction(up/down/left/right): down\n"
     ]
    },
    {
     "name": "stdout",
     "output_type": "stream",
     "text": [
      "S S . . S S S S S S \n",
      "S S . . S . . F . S \n",
      "S S . . . . . . . S \n",
      "S S . . . . . . . S \n",
      "S . . . . . . . . S \n",
      "S . . . . . . . . S \n",
      "S . . . . . . . . S \n",
      "S . . . . . . . . S \n",
      "S . . . . . . . . S \n",
      "S S S S S S S S S S \n",
      "\n",
      "Score: 43\n"
     ]
    },
    {
     "name": "stdin",
     "output_type": "stream",
     "text": [
      "ENTER direction(up/down/left/right): down\n"
     ]
    },
    {
     "name": "stdout",
     "output_type": "stream",
     "text": [
      "S S . . S S S S S S \n",
      "S S . . . . . F . S \n",
      "S S . . . . . . . S \n",
      "S S . . . . . . . S \n",
      "S S . . . . . . . S \n",
      "S . . . . . . . . S \n",
      "S . . . . . . . . S \n",
      "S . . . . . . . . S \n",
      "S . . . . . . . . S \n",
      "S S S S S S S S S S \n",
      "\n",
      "Score: 43\n"
     ]
    },
    {
     "name": "stdin",
     "output_type": "stream",
     "text": [
      "ENTER direction(up/down/left/right): down\n"
     ]
    },
    {
     "name": "stdout",
     "output_type": "stream",
     "text": [
      "S S . . . S S S S S \n",
      "S S . . . . . F . S \n",
      "S S . . . . . . . S \n",
      "S S . . . . . . . S \n",
      "S S . . . . . . . S \n",
      "S S . . . . . . . S \n",
      "S . . . . . . . . S \n",
      "S . . . . . . . . S \n",
      "S . . . . . . . . S \n",
      "S S S S S S S S S S \n",
      "\n",
      "Score: 43\n"
     ]
    },
    {
     "name": "stdin",
     "output_type": "stream",
     "text": [
      "ENTER direction(up/down/left/right): down\n"
     ]
    },
    {
     "name": "stdout",
     "output_type": "stream",
     "text": [
      "S S . . . . S S S S \n",
      "S S . . . . . F . S \n",
      "S S . . . . . . . S \n",
      "S S . . . . . . . S \n",
      "S S . . . . . . . S \n",
      "S S . . . . . . . S \n",
      "S S . . . . . . . S \n",
      "S . . . . . . . . S \n",
      "S . . . . . . . . S \n",
      "S S S S S S S S S S \n",
      "\n",
      "Score: 43\n"
     ]
    },
    {
     "name": "stdin",
     "output_type": "stream",
     "text": [
      "ENTER direction(up/down/left/right): down\n"
     ]
    },
    {
     "name": "stdout",
     "output_type": "stream",
     "text": [
      "S S . . . . . S S S \n",
      "S S . . . . . F . S \n",
      "S S . . . . . . . S \n",
      "S S . . . . . . . S \n",
      "S S . . . . . . . S \n",
      "S S . . . . . . . S \n",
      "S S . . . . . . . S \n",
      "S S . . . . . . . S \n",
      "S . . . . . . . . S \n",
      "S S S S S S S S S S \n",
      "\n",
      "Score: 43\n"
     ]
    },
    {
     "name": "stdin",
     "output_type": "stream",
     "text": [
      "ENTER direction(up/down/left/right): down\n"
     ]
    },
    {
     "name": "stdout",
     "output_type": "stream",
     "text": [
      "S S . . . . . . S S \n",
      "S S . . . . . F . S \n",
      "S S . . . . . . . S \n",
      "S S . . . . . . . S \n",
      "S S . . . . . . . S \n",
      "S S . . . . . . . S \n",
      "S S . . . . . . . S \n",
      "S S . . . . . . . S \n",
      "S S . . . . . . . S \n",
      "S S S S S S S S S S \n",
      "\n",
      "Score: 43\n"
     ]
    },
    {
     "name": "stdin",
     "output_type": "stream",
     "text": [
      "ENTER direction(up/down/left/right): right\n"
     ]
    },
    {
     "name": "stdout",
     "output_type": "stream",
     "text": [
      "S S . . . . . . . S \n",
      "S S . . . . . F . S \n",
      "S S . . . . . . . S \n",
      "S S . . . . . . . S \n",
      "S S . . . . . . . S \n",
      "S S . . . . . . . S \n",
      "S S . . . . . . . S \n",
      "S S . . . . . . . S \n",
      "S S S . . . . . . S \n",
      "S S S S S S S S S S \n",
      "\n",
      "Score: 43\n"
     ]
    },
    {
     "name": "stdin",
     "output_type": "stream",
     "text": [
      "ENTER direction(up/down/left/right): right\n"
     ]
    },
    {
     "name": "stdout",
     "output_type": "stream",
     "text": [
      "S S . . . . . . . . \n",
      "S S . . . . . F . S \n",
      "S S . . . . . . . S \n",
      "S S . . . . . . . S \n",
      "S S . . . . . . . S \n",
      "S S . . . . . . . S \n",
      "S S . . . . . . . S \n",
      "S S . . . . . . . S \n",
      "S S S S . . . . . S \n",
      "S S S S S S S S S S \n",
      "\n",
      "Score: 43\n"
     ]
    },
    {
     "name": "stdin",
     "output_type": "stream",
     "text": [
      "ENTER direction(up/down/left/right): right\n"
     ]
    },
    {
     "name": "stdout",
     "output_type": "stream",
     "text": [
      "S S . . . . . . . . \n",
      "S S . . . . . F . . \n",
      "S S . . . . . . . S \n",
      "S S . . . . . . . S \n",
      "S S . . . . . . . S \n",
      "S S . . . . . . . S \n",
      "S S . . . . . . . S \n",
      "S S . . . . . . . S \n",
      "S S S S S . . . . S \n",
      "S S S S S S S S S S \n",
      "\n",
      "Score: 43\n"
     ]
    },
    {
     "name": "stdin",
     "output_type": "stream",
     "text": [
      "ENTER direction(up/down/left/right): right\n"
     ]
    },
    {
     "name": "stdout",
     "output_type": "stream",
     "text": [
      "S S . . . . . . . . \n",
      "S S . . . . . F . . \n",
      "S S . . . . . . . . \n",
      "S S . . . . . . . S \n",
      "S S . . . . . . . S \n",
      "S S . . . . . . . S \n",
      "S S . . . . . . . S \n",
      "S S . . . . . . . S \n",
      "S S S S S S . . . S \n",
      "S S S S S S S S S S \n",
      "\n",
      "Score: 43\n"
     ]
    },
    {
     "name": "stdin",
     "output_type": "stream",
     "text": [
      "ENTER direction(up/down/left/right): right\n"
     ]
    },
    {
     "name": "stdout",
     "output_type": "stream",
     "text": [
      "S S . . . . . . . . \n",
      "S S . . . . . F . . \n",
      "S S . . . . . . . . \n",
      "S S . . . . . . . . \n",
      "S S . . . . . . . S \n",
      "S S . . . . . . . S \n",
      "S S . . . . . . . S \n",
      "S S . . . . . . . S \n",
      "S S S S S S S . . S \n",
      "S S S S S S S S S S \n",
      "\n",
      "Score: 43\n"
     ]
    },
    {
     "name": "stdin",
     "output_type": "stream",
     "text": [
      "ENTER direction(up/down/left/right): right\n"
     ]
    },
    {
     "name": "stdout",
     "output_type": "stream",
     "text": [
      "S S . . . . . . . . \n",
      "S S . . . . . F . . \n",
      "S S . . . . . . . . \n",
      "S S . . . . . . . . \n",
      "S S . . . . . . . . \n",
      "S S . . . . . . . S \n",
      "S S . . . . . . . S \n",
      "S S . . . . . . . S \n",
      "S S S S S S S S . S \n",
      "S S S S S S S S S S \n",
      "\n",
      "Score: 43\n"
     ]
    },
    {
     "name": "stdin",
     "output_type": "stream",
     "text": [
      "ENTER direction(up/down/left/right): up\n"
     ]
    },
    {
     "name": "stdout",
     "output_type": "stream",
     "text": [
      "S S . . . . . . . . \n",
      "S S . . . . . F . . \n",
      "S S . . . . . . . . \n",
      "S S . . . . . . . . \n",
      "S S . . . . . . . . \n",
      "S S . . . . . . . . \n",
      "S S . . . . . . . S \n",
      "S S . . . . . S . S \n",
      "S S S S S S S S . S \n",
      "S S S S S S S S S S \n",
      "\n",
      "Score: 43\n"
     ]
    },
    {
     "name": "stdin",
     "output_type": "stream",
     "text": [
      "ENTER direction(up/down/left/right): up\n"
     ]
    },
    {
     "name": "stdout",
     "output_type": "stream",
     "text": [
      "S S . . . . . . . . \n",
      "S S . . . . . F . . \n",
      "S S . . . . . . . . \n",
      "S S . . . . . . . . \n",
      "S S . . . . . . . . \n",
      "S S . . . . . . . . \n",
      "S S . . . . . S . . \n",
      "S S . . . . . S . S \n",
      "S S S S S S S S . S \n",
      "S S S S S S S S S S \n",
      "\n",
      "Score: 43\n"
     ]
    },
    {
     "name": "stdin",
     "output_type": "stream",
     "text": [
      "ENTER direction(up/down/left/right): up\n"
     ]
    },
    {
     "name": "stdout",
     "output_type": "stream",
     "text": [
      "S S . . . . . . . . \n",
      "S S . . . . . F . . \n",
      "S S . . . . . . . . \n",
      "S S . . . . . . . . \n",
      "S S . . . . . . . . \n",
      "S S . . . . . S . . \n",
      "S S . . . . . S . . \n",
      "S S . . . . . S . . \n",
      "S S S S S S S S . S \n",
      "S S S S S S S S S S \n",
      "\n",
      "Score: 43\n"
     ]
    },
    {
     "name": "stdin",
     "output_type": "stream",
     "text": [
      "ENTER direction(up/down/left/right): up\n"
     ]
    },
    {
     "name": "stdout",
     "output_type": "stream",
     "text": [
      "S S . . . . . . . . \n",
      "S S . . . . . F . . \n",
      "S S . . . . . . . . \n",
      "S S . . . . . . . . \n",
      "S S . . . . . S . . \n",
      "S S . . . . . S . . \n",
      "S S . . . . . S . . \n",
      "S S . . . . . S . . \n",
      "S S S S S S S S . . \n",
      "S S S S S S S S S S \n",
      "\n",
      "Score: 43\n"
     ]
    },
    {
     "name": "stdin",
     "output_type": "stream",
     "text": [
      "ENTER direction(up/down/left/right): up\n"
     ]
    },
    {
     "name": "stdout",
     "output_type": "stream",
     "text": [
      "S S . . . . . . . . \n",
      "S S . . . . . F . . \n",
      "S S . . . . . . . . \n",
      "S S . . . . . S . . \n",
      "S S . . . . . S . . \n",
      "S S . . . . . S . . \n",
      "S S . . . . . S . . \n",
      "S S . . . . . S . . \n",
      "S S S S S S S S . . \n",
      "S S S S S S S S S . \n",
      "\n",
      "Score: 43\n"
     ]
    },
    {
     "name": "stdin",
     "output_type": "stream",
     "text": [
      "ENTER direction(up/down/left/right): up\n"
     ]
    },
    {
     "name": "stdout",
     "output_type": "stream",
     "text": [
      "S S . . . . . . . . \n",
      "S S . . . . . F . . \n",
      "S S . . . . . S . . \n",
      "S S . . . . . S . . \n",
      "S S . . . . . S . . \n",
      "S S . . . . . S . . \n",
      "S S . . . . . S . . \n",
      "S S . . . . . S . . \n",
      "S S S S S S S S . . \n",
      "S S S S S S S S . . \n",
      "\n",
      "Score: 43\n"
     ]
    },
    {
     "name": "stdin",
     "output_type": "stream",
     "text": [
      "ENTER direction(up/down/left/right): up\n"
     ]
    },
    {
     "name": "stdout",
     "output_type": "stream",
     "text": [
      "S S . . . . F . . . \n",
      "S S . . . . . S . . \n",
      "S S . . . . . S . . \n",
      "S S . . . . . S . . \n",
      "S S . . . . . S . . \n",
      "S S . . . . . S . . \n",
      "S S . . . . . S . . \n",
      "S S . . . . . S . . \n",
      "S S S S S S S S . . \n",
      "S S S S S S S S . . \n",
      "\n",
      "Score: 44\n"
     ]
    },
    {
     "name": "stdin",
     "output_type": "stream",
     "text": [
      "ENTER direction(up/down/left/right): up\n"
     ]
    },
    {
     "name": "stdout",
     "output_type": "stream",
     "text": [
      "S S . . . . F S . . \n",
      "S S . . . . . S . . \n",
      "S S . . . . . S . . \n",
      "S S . . . . . S . . \n",
      "S S . . . . . S . . \n",
      "S S . . . . . S . . \n",
      "S S . . . . . S . . \n",
      "S S . . . . . S . . \n",
      "S S S S S S S S . . \n",
      "S S S S S S S . . . \n",
      "\n",
      "Score: 44\n"
     ]
    },
    {
     "name": "stdin",
     "output_type": "stream",
     "text": [
      "ENTER direction(up/down/left/right): left\n"
     ]
    },
    {
     "name": "stdout",
     "output_type": "stream",
     "text": [
      "S S . . . . S S . . \n",
      "S S . . . . . S . . \n",
      "S S . . . . . S . . \n",
      "S S . . . . . S . . \n",
      "S S . . . . . S F . \n",
      "S S . . . . . S . . \n",
      "S S . . . . . S . . \n",
      "S S . . . . . S . . \n",
      "S S S S S S S S . . \n",
      "S S S S S S S . . . \n",
      "\n",
      "Score: 45\n"
     ]
    },
    {
     "name": "stdin",
     "output_type": "stream",
     "text": [
      "ENTER direction(up/down/left/right): down\n"
     ]
    },
    {
     "name": "stdout",
     "output_type": "stream",
     "text": [
      "S S . . . . S S . . \n",
      "S S . . . . S S . . \n",
      "S S . . . . . S . . \n",
      "S S . . . . . S . . \n",
      "S S . . . . . S F . \n",
      "S S . . . . . S . . \n",
      "S S . . . . . S . . \n",
      "S S . . . . . S . . \n",
      "S S S S S S S S . . \n",
      "S S S S S S . . . . \n",
      "\n",
      "Score: 45\n"
     ]
    },
    {
     "name": "stdin",
     "output_type": "stream",
     "text": [
      "ENTER direction(up/down/left/right): down\n"
     ]
    },
    {
     "name": "stdout",
     "output_type": "stream",
     "text": [
      "S S . . . . S S . . \n",
      "S S . . . . S S . . \n",
      "S S . . . . S S . . \n",
      "S S . . . . . S . . \n",
      "S S . . . . . S F . \n",
      "S S . . . . . S . . \n",
      "S S . . . . . S . . \n",
      "S S . . . . . S . . \n",
      "S S S S S S S S . . \n",
      "S S S S S . . . . . \n",
      "\n",
      "Score: 45\n"
     ]
    },
    {
     "name": "stdin",
     "output_type": "stream",
     "text": [
      "ENTER direction(up/down/left/right): down\n"
     ]
    },
    {
     "name": "stdout",
     "output_type": "stream",
     "text": [
      "S S . . . . S S . . \n",
      "S S . . . . S S . . \n",
      "S S . . . . S S . . \n",
      "S S . . . . S S . . \n",
      "S S . . . . . S F . \n",
      "S S . . . . . S . . \n",
      "S S . . . . . S . . \n",
      "S S . . . . . S . . \n",
      "S S S S S S S S . . \n",
      "S S S S . . . . . . \n",
      "\n",
      "Score: 45\n"
     ]
    },
    {
     "name": "stdin",
     "output_type": "stream",
     "text": [
      "ENTER direction(up/down/left/right): down\n"
     ]
    },
    {
     "name": "stdout",
     "output_type": "stream",
     "text": [
      "S S . . . . S S . . \n",
      "S S . . . . S S . . \n",
      "S S . . . . S S . . \n",
      "S S . . . . S S . . \n",
      "S S . . . . S S F . \n",
      "S S . . . . . S . . \n",
      "S S . . . . . S . . \n",
      "S S . . . . . S . . \n",
      "S S S S S S S S . . \n",
      "S S S . . . . . . . \n",
      "\n",
      "Score: 45\n"
     ]
    },
    {
     "name": "stdin",
     "output_type": "stream",
     "text": [
      "ENTER direction(up/down/left/right): down\n"
     ]
    },
    {
     "name": "stdout",
     "output_type": "stream",
     "text": [
      "S S . . . . S S . . \n",
      "S S . . . . S S . . \n",
      "S S . . . . S S . . \n",
      "S S . . . . S S . . \n",
      "S S . . . . S S F . \n",
      "S S . . . . S S . . \n",
      "S S . . . . . S . . \n",
      "S S . . . . . S . . \n",
      "S S S S S S S S . . \n",
      "S S . . . . . . . . \n",
      "\n",
      "Score: 45\n"
     ]
    },
    {
     "name": "stdin",
     "output_type": "stream",
     "text": [
      "ENTER direction(up/down/left/right): down\n"
     ]
    },
    {
     "name": "stdout",
     "output_type": "stream",
     "text": [
      "S S . . . . S S . . \n",
      "S S . . . . S S . . \n",
      "S S . . . . S S . . \n",
      "S S . . . . S S . . \n",
      "S S . . . . S S F . \n",
      "S S . . . . S S . . \n",
      "S S . . . . S S . . \n",
      "S S . . . . . S . . \n",
      "S S S S S S S S . . \n",
      "S . . . . . . . . . \n",
      "\n",
      "Score: 45\n"
     ]
    },
    {
     "name": "stdin",
     "output_type": "stream",
     "text": [
      "ENTER direction(up/down/left/right): down\n"
     ]
    },
    {
     "name": "stdout",
     "output_type": "stream",
     "text": [
      "S S . . . . S S . . \n",
      "S S . . . . S S . . \n",
      "S S . . . . S S . . \n",
      "S S . . . . S S . . \n",
      "S S . . . . S S F . \n",
      "S S . . . . S S . . \n",
      "S S . . . . S S . . \n",
      "S S . . . . S S . . \n",
      "S S S S S S S S . . \n",
      ". . . . . . . . . . \n",
      "\n",
      "Score: 45\n"
     ]
    },
    {
     "name": "stdin",
     "output_type": "stream",
     "text": [
      "ENTER direction(up/down/left/right): left\n"
     ]
    },
    {
     "name": "stdout",
     "output_type": "stream",
     "text": [
      "S S . . . . S S . . \n",
      "S S . . . . S S . . \n",
      "S S . . . . S S . . \n",
      "S S . . . . S S . . \n",
      "S S . . . . S S F . \n",
      "S S . . . . S S . . \n",
      "S S . . . . S S . . \n",
      "S S . . . S S S . . \n",
      ". S S S S S S S . . \n",
      ". . . . . . . . . . \n",
      "\n",
      "Score: 45\n"
     ]
    },
    {
     "name": "stdin",
     "output_type": "stream",
     "text": [
      "ENTER direction(up/down/left/right): left\n"
     ]
    },
    {
     "name": "stdout",
     "output_type": "stream",
     "text": [
      "S S . . . . S S . . \n",
      "S S . . . . S S . . \n",
      "S S . . . . S S . . \n",
      "S S . . . . S S . . \n",
      "S S . . . . S S F . \n",
      "S S . . . . S S . . \n",
      "S S . . . . S S . . \n",
      ". S . . S S S S . . \n",
      ". S S S S S S S . . \n",
      ". . . . . . . . . . \n",
      "\n",
      "Score: 45\n"
     ]
    },
    {
     "name": "stdin",
     "output_type": "stream",
     "text": [
      "ENTER direction(up/down/left/right): up\n"
     ]
    },
    {
     "name": "stdout",
     "output_type": "stream",
     "text": [
      "S S . . . . S S . . \n",
      "S S . . . . S S . . \n",
      "S S . . . . S S . . \n",
      "S S . . . . S S . . \n",
      "S S . . . . S S F . \n",
      "S S . . . . S S . . \n",
      ". S . . S . S S . . \n",
      ". S . . S S S S . . \n",
      ". S S S S S S S . . \n",
      ". . . . . . . . . . \n",
      "\n",
      "Score: 45\n"
     ]
    },
    {
     "name": "stdin",
     "output_type": "stream",
     "text": [
      "ENTER direction(up/down/left/right): right\n"
     ]
    },
    {
     "name": "stdout",
     "output_type": "stream",
     "text": [
      "S S . . . . S S . . \n",
      "S S . . . . S S . . \n",
      "S S . . . . S S . . \n",
      "S S . . . . S S . . \n",
      "S S . . . . S S F . \n",
      ". S . . . . S S . . \n",
      ". S . . S S S S . . \n",
      ". S . . S S S S . . \n",
      ". S S S S S S S . . \n",
      ". . . . . . . . . . \n",
      "\n",
      "Score: 45\n"
     ]
    },
    {
     "name": "stdin",
     "output_type": "stream",
     "text": [
      "ENTER direction(up/down/left/right): up\n"
     ]
    },
    {
     "name": "stdout",
     "output_type": "stream",
     "text": [
      "S S . . . . S S . . \n",
      "S S . . . . S S . . \n",
      "S S . . . . S S . . \n",
      "S S . . . . S S . . \n",
      ". S . . . . S S F . \n",
      ". S . . . S S S . . \n",
      ". S . . S S S S . . \n",
      ". S . . S S S S . . \n",
      ". S S S S S S S . . \n",
      ". . . . . . . . . . \n",
      "\n",
      "Score: 45\n"
     ]
    },
    {
     "name": "stdin",
     "output_type": "stream",
     "text": [
      "ENTER direction(up/down/left/right): up\n"
     ]
    },
    {
     "name": "stdout",
     "output_type": "stream",
     "text": [
      "S S . . . . S S . . \n",
      "S S . . . . S S . . \n",
      "S S . . . . S S . . \n",
      ". S . . . . S S . . \n",
      ". S . . . S S S F . \n",
      ". S . . . S S S . . \n",
      ". S . . S S S S . . \n",
      ". S . . S S S S . . \n",
      ". S S S S S S S . . \n",
      ". . . . . . . . . . \n",
      "\n",
      "Score: 45\n"
     ]
    },
    {
     "name": "stdin",
     "output_type": "stream",
     "text": [
      "ENTER direction(up/down/left/right): \n"
     ]
    },
    {
     "name": "stdout",
     "output_type": "stream",
     "text": [
      "Invalid direction,use up/down/right/left.\n",
      "S S . . . . S S . . \n",
      "S S . . . . S S . . \n",
      ". S . . . . S S . . \n",
      ". S . . . . S S . . \n",
      ". S . . . S S S F . \n",
      ". S . . . S S S . . \n",
      ". S . . S S S S . . \n",
      ". S . . S S S S . . \n",
      ". S S S S S S S . . \n",
      ". . . . . . . . . . \n",
      "\n",
      "Score: 45\n"
     ]
    },
    {
     "name": "stdin",
     "output_type": "stream",
     "text": [
      "ENTER direction(up/down/left/right): \n"
     ]
    },
    {
     "name": "stdout",
     "output_type": "stream",
     "text": [
      "Invalid direction,use up/down/right/left.\n",
      "S S . . . . S S . . \n",
      ". S . . . . S S . . \n",
      ". S . . . . S S . . \n",
      ". S . . . . S S . . \n",
      ". S . . . S S S F . \n",
      ". S . . . S S S . . \n",
      ". S . . S S S S . . \n",
      ". S . . S S S S . . \n",
      ". S S S S S S S . . \n",
      ". . . . . . . . . . \n",
      "\n",
      "Score: 45\n"
     ]
    },
    {
     "name": "stdin",
     "output_type": "stream",
     "text": [
      "ENTER direction(up/down/left/right): up\n"
     ]
    },
    {
     "name": "stdout",
     "output_type": "stream",
     "text": [
      ". S . . . . S S . . \n",
      ". S . . . . S S . . \n",
      ". S . . . . S S . . \n",
      ". S . . . S S S . . \n",
      ". S . . . S S S F . \n",
      ". S . . . S S S . . \n",
      ". S . . S S S S . . \n",
      ". S . . S S S S . . \n",
      ". S S S S S S S . . \n",
      ". . . . . . . . . . \n",
      "\n",
      "Score: 45\n"
     ]
    },
    {
     "name": "stdin",
     "output_type": "stream",
     "text": [
      "ENTER direction(up/down/left/right): up\n"
     ]
    },
    {
     "name": "stdout",
     "output_type": "stream",
     "text": [
      ". . . . . . S S . . \n",
      ". S . . . . S S . . \n",
      ". S . . . S S S . . \n",
      ". S . . . S S S . . \n",
      ". S . . . S S S F . \n",
      ". S . . . S S S . . \n",
      ". S . . S S S S . . \n",
      ". S . . S S S S . . \n",
      ". S S S S S S S . . \n",
      ". . . . . . . . . . \n",
      "\n",
      "Score: 45\n"
     ]
    },
    {
     "name": "stdin",
     "output_type": "stream",
     "text": [
      "ENTER direction(up/down/left/right): up\n"
     ]
    },
    {
     "name": "stdout",
     "output_type": "stream",
     "text": [
      ". . . . . . S S . . \n",
      ". . . . . S S S . . \n",
      ". S . . . S S S . . \n",
      ". S . . . S S S . . \n",
      ". S . . . S S S F . \n",
      ". S . . . S S S . . \n",
      ". S . . S S S S . . \n",
      ". S . . S S S S . . \n",
      ". S S S S S S S . . \n",
      ". . . . . . . . . . \n",
      "\n",
      "Score: 45\n"
     ]
    },
    {
     "name": "stdin",
     "output_type": "stream",
     "text": [
      "ENTER direction(up/down/left/right): up\n"
     ]
    },
    {
     "name": "stdout",
     "output_type": "stream",
     "text": [
      ". . . . . S S S . . \n",
      ". . . . . S S S . . \n",
      ". . . . . S S S . . \n",
      ". S . . . S S S . . \n",
      ". S . . . S S S F . \n",
      ". S . . . S S S . . \n",
      ". S . . S S S S . . \n",
      ". S . . S S S S . . \n",
      ". S S S S S S S . . \n",
      ". . . . . . . . . . \n",
      "\n",
      "Score: 45\n"
     ]
    },
    {
     "name": "stdin",
     "output_type": "stream",
     "text": [
      "ENTER direction(up/down/left/right): left\n"
     ]
    },
    {
     "name": "stdout",
     "output_type": "stream",
     "text": [
      ". . . . S S S S . . \n",
      ". . . . . S S S . . \n",
      ". . . . . S S S . . \n",
      ". . . . . S S S . . \n",
      ". S . . . S S S F . \n",
      ". S . . . S S S . . \n",
      ". S . . S S S S . . \n",
      ". S . . S S S S . . \n",
      ". S S S S S S S . . \n",
      ". . . . . . . . . . \n",
      "\n",
      "Score: 45\n"
     ]
    },
    {
     "name": "stdin",
     "output_type": "stream",
     "text": [
      "ENTER direction(up/down/left/right): left\n"
     ]
    },
    {
     "name": "stdout",
     "output_type": "stream",
     "text": [
      ". . . S S S S S . . \n",
      ". . . . . S S S . . \n",
      ". . . . . S S S . . \n",
      ". . . . . S S S . . \n",
      ". . . . . S S S F . \n",
      ". S . . . S S S . . \n",
      ". S . . S S S S . . \n",
      ". S . . S S S S . . \n",
      ". S S S S S S S . . \n",
      ". . . . . . . . . . \n",
      "\n",
      "Score: 45\n"
     ]
    },
    {
     "name": "stdin",
     "output_type": "stream",
     "text": [
      "ENTER direction(up/down/left/right): down\n"
     ]
    },
    {
     "name": "stdout",
     "output_type": "stream",
     "text": [
      ". . . S S S S S . . \n",
      ". . . S . S S S . . \n",
      ". . . . . S S S . . \n",
      ". . . . . S S S . . \n",
      ". . . . . S S S F . \n",
      ". . . . . S S S . . \n",
      ". S . . S S S S . . \n",
      ". S . . S S S S . . \n",
      ". S S S S S S S . . \n",
      ". . . . . . . . . . \n",
      "\n",
      "Score: 45\n"
     ]
    },
    {
     "name": "stdin",
     "output_type": "stream",
     "text": [
      "ENTER direction(up/down/left/right): right\n"
     ]
    },
    {
     "name": "stdout",
     "output_type": "stream",
     "text": [
      ". . . S S S S S . . \n",
      ". . . S S S S S . . \n",
      ". . . . . S S S . . \n",
      ". . . . . S S S . . \n",
      ". . . . . S S S F . \n",
      ". . . . . S S S . . \n",
      ". . . . S S S S . . \n",
      ". S . . S S S S . . \n",
      ". S S S S S S S . . \n",
      ". . . . . . . . . . \n",
      "\n",
      "Score: 45\n"
     ]
    },
    {
     "name": "stdin",
     "output_type": "stream",
     "text": [
      "ENTER direction(up/down/left/right): down\n"
     ]
    },
    {
     "name": "stdout",
     "output_type": "stream",
     "text": [
      ". . . S S S S S . . \n",
      ". . . S S S S S . . \n",
      ". . . . S S S S . . \n",
      ". . . . . S S S . . \n",
      ". . . . . S S S F . \n",
      ". . . . . S S S . . \n",
      ". . . . S S S S . . \n",
      ". . . . S S S S . . \n",
      ". S S S S S S S . . \n",
      ". . . . . . . . . . \n",
      "\n",
      "Score: 45\n"
     ]
    },
    {
     "name": "stdin",
     "output_type": "stream",
     "text": [
      "ENTER direction(up/down/left/right): down\n"
     ]
    },
    {
     "name": "stdout",
     "output_type": "stream",
     "text": [
      ". . . S S S S S . . \n",
      ". . . S S S S S . . \n",
      ". . . . S S S S . . \n",
      ". . . . S S S S . . \n",
      ". . . . . S S S F . \n",
      ". . . . . S S S . . \n",
      ". . . . S S S S . . \n",
      ". . . . S S S S . . \n",
      ". . S S S S S S . . \n",
      ". . . . . . . . . . \n",
      "\n",
      "Score: 45\n"
     ]
    },
    {
     "name": "stdin",
     "output_type": "stream",
     "text": [
      "ENTER direction(up/down/left/right): down\n"
     ]
    },
    {
     "name": "stdout",
     "output_type": "stream",
     "text": [
      ". . . S S S S S . . \n",
      ". . . S S S S S . . \n",
      ". . . . S S S S . . \n",
      ". . . . S S S S . . \n",
      ". . . . S S S S F . \n",
      ". . . . . S S S . . \n",
      ". . . . S S S S . . \n",
      ". . . . S S S S . . \n",
      ". . . S S S S S . . \n",
      ". . . . . . . . . . \n",
      "\n",
      "Score: 45\n"
     ]
    },
    {
     "name": "stdin",
     "output_type": "stream",
     "text": [
      "ENTER direction(up/down/left/right): down\n"
     ]
    },
    {
     "name": "stdout",
     "output_type": "stream",
     "text": [
      ". . . S S S S S . . \n",
      ". . . S S S S S . . \n",
      ". . . . S S S S . . \n",
      ". . . . S S S S . . \n",
      ". . . . S S S S F . \n",
      ". . . . S S S S . . \n",
      ". . . . S S S S . . \n",
      ". . . . S S S S . . \n",
      ". . . . S S S S . . \n",
      ". . . . . . . . . . \n",
      "\n",
      "Score: 45\n"
     ]
    },
    {
     "name": "stdin",
     "output_type": "stream",
     "text": [
      "ENTER direction(up/down/left/right): left\n"
     ]
    },
    {
     "name": "stdout",
     "output_type": "stream",
     "text": [
      ". . . S S S S S . . \n",
      ". . . S S S S S . . \n",
      ". . . . S S S S . . \n",
      ". . . . S S S S . . \n",
      ". . . . S S S S F . \n",
      ". . . S S S S S . . \n",
      ". . . . S S S S . . \n",
      ". . . . S S S S . . \n",
      ". . . . . S S S . . \n",
      ". . . . . . . . . . \n",
      "\n",
      "Score: 45\n"
     ]
    },
    {
     "name": "stdin",
     "output_type": "stream",
     "text": [
      "ENTER direction(up/down/left/right): down\n"
     ]
    },
    {
     "name": "stdout",
     "output_type": "stream",
     "text": [
      ". . . S S S S S . . \n",
      ". . . S S S S S . . \n",
      ". . . . S S S S . . \n",
      ". . . . S S S S . . \n",
      ". . . . S S S S F . \n",
      ". . . S S S S S . . \n",
      ". . . S S S S S . . \n",
      ". . . . S S S S . . \n",
      ". . . . . . S S . . \n",
      ". . . . . . . . . . \n",
      "\n",
      "Score: 45\n"
     ]
    },
    {
     "name": "stdin",
     "output_type": "stream",
     "text": [
      "ENTER direction(up/down/left/right): down\n"
     ]
    },
    {
     "name": "stdout",
     "output_type": "stream",
     "text": [
      ". . . S S S S S . . \n",
      ". . . S S S S S . . \n",
      ". . . . S S S S . . \n",
      ". . . . S S S S . . \n",
      ". . . . S S S S F . \n",
      ". . . S S S S S . . \n",
      ". . . S S S S S . . \n",
      ". . . S S S S S . . \n",
      ". . . . . . . S . . \n",
      ". . . . . . . . . . \n",
      "\n",
      "Score: 45\n"
     ]
    },
    {
     "name": "stdin",
     "output_type": "stream",
     "text": [
      "ENTER direction(up/down/left/right): down\n"
     ]
    },
    {
     "name": "stdout",
     "output_type": "stream",
     "text": [
      ". . . S S S S S . . \n",
      ". . . S S S S S . . \n",
      ". . . . S S S S . . \n",
      ". . . . S S S S . . \n",
      ". . . . S S S S F . \n",
      ". . . S S S S S . . \n",
      ". . . S S S S S . . \n",
      ". . . S S S S S . . \n",
      ". . . S . . . . . . \n",
      ". . . . . . . . . . \n",
      "\n",
      "Score: 45\n"
     ]
    },
    {
     "name": "stdin",
     "output_type": "stream",
     "text": [
      "ENTER direction(up/down/left/right): down\n"
     ]
    },
    {
     "name": "stdout",
     "output_type": "stream",
     "text": [
      ". . . S S S S S . . \n",
      ". . . S S S S S . . \n",
      ". . . . S S S S . . \n",
      ". . . . S S S S . . \n",
      ". . . . S S S S F . \n",
      ". . . S S S S S . . \n",
      ". . . S S S S S . . \n",
      ". . . S S S S . . . \n",
      ". . . S . . . . . . \n",
      ". . . S . . . . . . \n",
      "\n",
      "Score: 45\n"
     ]
    },
    {
     "name": "stdin",
     "output_type": "stream",
     "text": [
      "ENTER direction(up/down/left/right): right\n"
     ]
    },
    {
     "name": "stdout",
     "output_type": "stream",
     "text": [
      ". . . S S S S S . . \n",
      ". . . S S S S S . . \n",
      ". . . . S S S S . . \n",
      ". . . . S S S S . . \n",
      ". . . . S S S S F . \n",
      ". . . S S S S S . . \n",
      ". . . S S S S . . . \n",
      ". . . S S S S . . . \n",
      ". . . S . . . . . . \n",
      ". . . S S . . . . . \n",
      "\n",
      "Score: 45\n"
     ]
    },
    {
     "name": "stdin",
     "output_type": "stream",
     "text": [
      "ENTER direction(up/down/left/right): right\n"
     ]
    },
    {
     "name": "stdout",
     "output_type": "stream",
     "text": [
      ". . . S S S S S . . \n",
      ". . . S S S S S . . \n",
      ". . . . S S S S . . \n",
      ". . . . S S S S . . \n",
      ". . . . S S S S F . \n",
      ". . . S S S S . . . \n",
      ". . . S S S S . . . \n",
      ". . . S S S S . . . \n",
      ". . . S . . . . . . \n",
      ". . . S S S . . . . \n",
      "\n",
      "Score: 45\n"
     ]
    },
    {
     "name": "stdin",
     "output_type": "stream",
     "text": [
      "ENTER direction(up/down/left/right): right\n"
     ]
    },
    {
     "name": "stdout",
     "output_type": "stream",
     "text": [
      ". . . S S S S S . . \n",
      ". . . S S S S S . . \n",
      ". . . . S S S S . . \n",
      ". . . . S S S S . . \n",
      ". . . . S S S . F . \n",
      ". . . S S S S . . . \n",
      ". . . S S S S . . . \n",
      ". . . S S S S . . . \n",
      ". . . S . . . . . . \n",
      ". . . S S S S . . . \n",
      "\n",
      "Score: 45\n"
     ]
    },
    {
     "name": "stdin",
     "output_type": "stream",
     "text": [
      "ENTER direction(up/down/left/right): right\n"
     ]
    },
    {
     "name": "stdout",
     "output_type": "stream",
     "text": [
      ". . . S S S S S . . \n",
      ". . . S S S S S . . \n",
      ". . . . S S S S . . \n",
      ". . . . S S S . . . \n",
      ". . . . S S S . F . \n",
      ". . . S S S S . . . \n",
      ". . . S S S S . . . \n",
      ". . . S S S S . . . \n",
      ". . . S . . . . . . \n",
      ". . . S S S S S . . \n",
      "\n",
      "Score: 45\n"
     ]
    },
    {
     "name": "stdin",
     "output_type": "stream",
     "text": [
      "ENTER direction(up/down/left/right): right\n"
     ]
    },
    {
     "name": "stdout",
     "output_type": "stream",
     "text": [
      ". . . S S S S S . . \n",
      ". . . S S S S S . . \n",
      ". . . . S S S . . . \n",
      ". . . . S S S . . . \n",
      ". . . . S S S . F . \n",
      ". . . S S S S . . . \n",
      ". . . S S S S . . . \n",
      ". . . S S S S . . . \n",
      ". . . S . . . . . . \n",
      ". . . S S S S S S . \n",
      "\n",
      "Score: 45\n"
     ]
    },
    {
     "name": "stdin",
     "output_type": "stream",
     "text": [
      "ENTER direction(up/down/left/right): up\n"
     ]
    },
    {
     "name": "stdout",
     "output_type": "stream",
     "text": [
      ". . . S S S S S . . \n",
      ". . . S S S S . . . \n",
      ". . . . S S S . . . \n",
      ". . . . S S S . . . \n",
      ". . . . S S S . F . \n",
      ". . . S S S S . . . \n",
      ". . . S S S S . . . \n",
      ". . . S S S S . . . \n",
      ". . . S . . . . S . \n",
      ". . . S S S S S S . \n",
      "\n",
      "Score: 45\n"
     ]
    },
    {
     "name": "stdin",
     "output_type": "stream",
     "text": [
      "ENTER direction(up/down/left/right): up\n"
     ]
    },
    {
     "name": "stdout",
     "output_type": "stream",
     "text": [
      ". . . S S S S . . . \n",
      ". . . S S S S . . . \n",
      ". . . . S S S . . . \n",
      ". . . . S S S . . . \n",
      ". . . . S S S . F . \n",
      ". . . S S S S . . . \n",
      ". . . S S S S . . . \n",
      ". . . S S S S . S . \n",
      ". . . S . . . . S . \n",
      ". . . S S S S S S . \n",
      "\n",
      "Score: 45\n"
     ]
    },
    {
     "name": "stdin",
     "output_type": "stream",
     "text": [
      "ENTER direction(up/down/left/right): up\n"
     ]
    },
    {
     "name": "stdout",
     "output_type": "stream",
     "text": [
      ". . . S S S . . . . \n",
      ". . . S S S S . . . \n",
      ". . . . S S S . . . \n",
      ". . . . S S S . . . \n",
      ". . . . S S S . F . \n",
      ". . . S S S S . . . \n",
      ". . . S S S S . S . \n",
      ". . . S S S S . S . \n",
      ". . . S . . . . S . \n",
      ". . . S S S S S S . \n",
      "\n",
      "Score: 45\n"
     ]
    },
    {
     "name": "stdin",
     "output_type": "stream",
     "text": [
      "ENTER direction(up/down/left/right): up\n"
     ]
    },
    {
     "name": "stdout",
     "output_type": "stream",
     "text": [
      ". . . S S S . . . . \n",
      ". . . S S S . . . . \n",
      ". . . . S S S . . . \n",
      ". . . . S S S . . . \n",
      ". . . . S S S . F . \n",
      ". . . S S S S . S . \n",
      ". . . S S S S . S . \n",
      ". . . S S S S . S . \n",
      ". . . S . . . . S . \n",
      ". . . S S S S S S . \n",
      "\n",
      "Score: 45\n"
     ]
    },
    {
     "name": "stdin",
     "output_type": "stream",
     "text": [
      "ENTER direction(up/down/left/right): up\n"
     ]
    },
    {
     "name": "stdout",
     "output_type": "stream",
     "text": [
      ". . . S S S . . . . \n",
      ". . . S S S . . . . \n",
      ". F . . S S S . . . \n",
      ". . . . S S S . . . \n",
      ". . . . S S S . S . \n",
      ". . . S S S S . S . \n",
      ". . . S S S S . S . \n",
      ". . . S S S S . S . \n",
      ". . . S . . . . S . \n",
      ". . . S S S S S S . \n",
      "\n",
      "Score: 46\n"
     ]
    },
    {
     "name": "stdin",
     "output_type": "stream",
     "text": [
      "ENTER direction(up/down/left/right): left\n"
     ]
    },
    {
     "name": "stdout",
     "output_type": "stream",
     "text": [
      ". . . S S S . . . . \n",
      ". . . S S S . . . . \n",
      ". F . . S S . . . . \n",
      ". . . . S S S . . . \n",
      ". . . . S S S S S . \n",
      ". . . S S S S . S . \n",
      ". . . S S S S . S . \n",
      ". . . S S S S . S . \n",
      ". . . S . . . . S . \n",
      ". . . S S S S S S . \n",
      "\n",
      "Score: 46\n"
     ]
    },
    {
     "name": "stdin",
     "output_type": "stream",
     "text": [
      "ENTER direction(up/down/left/right): up\n"
     ]
    },
    {
     "name": "stdout",
     "output_type": "stream",
     "text": [
      ". . . S S S . . . . \n",
      ". . . S S S . . . . \n",
      ". F . . S S . . . . \n",
      ". . . . S S . S . . \n",
      ". . . . S S S S S . \n",
      ". . . S S S S . S . \n",
      ". . . S S S S . S . \n",
      ". . . S S S S . S . \n",
      ". . . S . . . . S . \n",
      ". . . S S S S S S . \n",
      "\n",
      "Score: 46\n"
     ]
    },
    {
     "name": "stdin",
     "output_type": "stream",
     "text": [
      "ENTER direction(up/down/left/right): up\n"
     ]
    },
    {
     "name": "stdout",
     "output_type": "stream",
     "text": [
      ". . . S S S . . . . \n",
      ". . . S S S . . . . \n",
      ". F . . S S . S . . \n",
      ". . . . S S . S . . \n",
      ". . . . S S . S S . \n",
      ". . . S S S S . S . \n",
      ". . . S S S S . S . \n",
      ". . . S S S S . S . \n",
      ". . . S . . . . S . \n",
      ". . . S S S S S S . \n",
      "\n",
      "Score: 46\n"
     ]
    },
    {
     "name": "stdin",
     "output_type": "stream",
     "text": [
      "ENTER direction(up/down/left/right): up\n"
     ]
    },
    {
     "name": "stdout",
     "output_type": "stream",
     "text": [
      ". . . S S S . . . . \n",
      ". . . S S S . S . . \n",
      ". F . . S S . S . . \n",
      ". . . . S S . S . . \n",
      ". . . . S S . S S . \n",
      ". . . S S S . . S . \n",
      ". . . S S S S . S . \n",
      ". . . S S S S . S . \n",
      ". . . S . . . . S . \n",
      ". . . S S S S S S . \n",
      "\n",
      "Score: 46\n"
     ]
    },
    {
     "name": "stdin",
     "output_type": "stream",
     "text": [
      "ENTER direction(up/down/left/right): up\n"
     ]
    },
    {
     "name": "stdout",
     "output_type": "stream",
     "text": [
      ". . . S S S . S . . \n",
      ". . . S S S . S . . \n",
      ". F . . S S . S . . \n",
      ". . . . S S . S . . \n",
      ". . . . S S . S S . \n",
      ". . . S S S . . S . \n",
      ". . . S S S . . S . \n",
      ". . . S S S S . S . \n",
      ". . . S . . . . S . \n",
      ". . . S S S S S S . \n",
      "\n",
      "Score: 46\n"
     ]
    },
    {
     "name": "stdin",
     "output_type": "stream",
     "text": [
      "ENTER direction(up/down/left/right): right\n"
     ]
    },
    {
     "name": "stdout",
     "output_type": "stream",
     "text": [
      ". . . S S S . S S . \n",
      ". . . S S S . S . . \n",
      ". F . . S S . S . . \n",
      ". . . . S S . S . . \n",
      ". . . . S S . S S . \n",
      ". . . S S S . . S . \n",
      ". . . S S S . . S . \n",
      ". . . S S S . . S . \n",
      ". . . S . . . . S . \n",
      ". . . S S S S S S . \n",
      "\n",
      "Score: 46\n"
     ]
    },
    {
     "name": "stdin",
     "output_type": "stream",
     "text": [
      "ENTER direction(up/down/left/right): down\n"
     ]
    },
    {
     "name": "stdout",
     "output_type": "stream",
     "text": [
      ". . . S S S . S S . \n",
      ". . . S S S . S S . \n",
      ". F . . S S . S . . \n",
      ". . . . S S . S . . \n",
      ". . . . S S . S S . \n",
      ". . . S S S . . S . \n",
      ". . . S S S . . S . \n",
      ". . . S S . . . S . \n",
      ". . . S . . . . S . \n",
      ". . . S S S S S S . \n",
      "\n",
      "Score: 46\n"
     ]
    },
    {
     "name": "stdin",
     "output_type": "stream",
     "text": [
      "ENTER direction(up/down/left/right): down\n"
     ]
    },
    {
     "name": "stdout",
     "output_type": "stream",
     "text": [
      ". . . S S S . S S . \n",
      ". . . S S S . S S . \n",
      ". F . . S S . S S . \n",
      ". . . . S S . S . . \n",
      ". . . . S S . S S . \n",
      ". . . S S S . . S . \n",
      ". . . S S S . . S . \n",
      ". . . S . . . . S . \n",
      ". . . S . . . . S . \n",
      ". . . S S S S S S . \n",
      "\n",
      "Score: 46\n"
     ]
    },
    {
     "name": "stdin",
     "output_type": "stream",
     "text": [
      "ENTER direction(up/down/left/right): down\n"
     ]
    },
    {
     "name": "stdout",
     "output_type": "stream",
     "text": [
      ". . . S S S . S S . \n",
      ". . . S S S . S S . \n",
      ". F . . S S . S S . \n",
      ". . . . S S . S S . \n",
      ". . . . S S . S S . \n",
      ". . . S S S . . S . \n",
      ". . . S . S . . S . \n",
      ". . . S . . . . S . \n",
      ". . . S . . . . S . \n",
      ". . . S S S S S S . \n",
      "\n",
      "Score: 46\n"
     ]
    },
    {
     "name": "stdin",
     "output_type": "stream",
     "text": [
      "ENTER direction(up/down/left/right): right\n"
     ]
    },
    {
     "name": "stdout",
     "output_type": "stream",
     "text": [
      ". . . S S S . S S . \n",
      ". . . S S S . S S . \n",
      ". F . . S S . S S . \n",
      ". . . . S S . S S S \n",
      ". . . . S S . S S . \n",
      ". . . S S S . . S . \n",
      ". . . S . . . . S . \n",
      ". . . S . . . . S . \n",
      ". . . S . . . . S . \n",
      ". . . S S S S S S . \n",
      "\n",
      "Score: 46\n"
     ]
    },
    {
     "name": "stdin",
     "output_type": "stream",
     "text": [
      "ENTER direction(up/down/left/right): down\n"
     ]
    },
    {
     "name": "stdout",
     "output_type": "stream",
     "text": [
      ". . . S S S . S S . \n",
      ". . . S S S . S S . \n",
      ". F . . S S . S S . \n",
      ". . . . S S . S S S \n",
      ". . . . S S . S S S \n",
      ". . . S S . . . S . \n",
      ". . . S . . . . S . \n",
      ". . . S . . . . S . \n",
      ". . . S . . . . S . \n",
      ". . . S S S S S S . \n",
      "\n",
      "Score: 46\n"
     ]
    },
    {
     "name": "stdin",
     "output_type": "stream",
     "text": [
      "ENTER direction(up/down/left/right): down\n"
     ]
    },
    {
     "name": "stdout",
     "output_type": "stream",
     "text": [
      ". . . S S S . S S . \n",
      ". . . S S S . S S . \n",
      ". F . . S S . S S . \n",
      ". . . . S S . S S S \n",
      ". . . . S . . S S S \n",
      ". . . S S . . . S S \n",
      ". . . S . . . . S . \n",
      ". . . S . . . . S . \n",
      ". . . S . . . . S . \n",
      ". . . S S S S S S . \n",
      "\n",
      "Score: 46\n"
     ]
    },
    {
     "name": "stdin",
     "output_type": "stream",
     "text": [
      "ENTER direction(up/down/left/right): down\n"
     ]
    },
    {
     "name": "stdout",
     "output_type": "stream",
     "text": [
      ". . . S S S . S S . \n",
      ". . . S S S . S S . \n",
      ". F . . S S . S S . \n",
      ". . . . S . . S S S \n",
      ". . . . S . . S S S \n",
      ". . . S S . . . S S \n",
      ". . . S . . . . S S \n",
      ". . . S . . . . S . \n",
      ". . . S . . . . S . \n",
      ". . . S S S S S S . \n",
      "\n",
      "Score: 46\n"
     ]
    },
    {
     "name": "stdin",
     "output_type": "stream",
     "text": [
      "ENTER direction(up/down/left/right): down\n"
     ]
    },
    {
     "name": "stdout",
     "output_type": "stream",
     "text": [
      ". . . S S S . S S . \n",
      ". . . S S S . S S . \n",
      ". F . . S . . S S . \n",
      ". . . . S . . S S S \n",
      ". . . . S . . S S S \n",
      ". . . S S . . . S S \n",
      ". . . S . . . . S S \n",
      ". . . S . . . . S S \n",
      ". . . S . . . . S . \n",
      ". . . S S S S S S . \n",
      "\n",
      "Score: 46\n"
     ]
    },
    {
     "name": "stdin",
     "output_type": "stream",
     "text": [
      "ENTER direction(up/down/left/right): down\n"
     ]
    },
    {
     "name": "stdout",
     "output_type": "stream",
     "text": [
      ". . . S S S . S S . \n",
      ". . . S S . . S S . \n",
      ". F . . S . . S S . \n",
      ". . . . S . . S S S \n",
      ". . . . S . . S S S \n",
      ". . . S S . . . S S \n",
      ". . . S . . . . S S \n",
      ". . . S . . . . S S \n",
      ". . . S . . . . S S \n",
      ". . . S S S S S S . \n",
      "\n",
      "Score: 46\n"
     ]
    },
    {
     "name": "stdin",
     "output_type": "stream",
     "text": [
      "ENTER direction(up/down/left/right): down\n"
     ]
    },
    {
     "name": "stdout",
     "output_type": "stream",
     "text": [
      ". . . S S . . S S . \n",
      ". . . S S . . S S . \n",
      ". F . . S . . S S . \n",
      ". . . . S . . S S S \n",
      ". . . . S . . S S S \n",
      ". . . S S . . . S S \n",
      ". . . S . . . . S S \n",
      ". . . S . . . . S S \n",
      ". . . S . . . . S S \n",
      ". . . S S S S S S S \n",
      "\n",
      "Score: 46\n"
     ]
    },
    {
     "name": "stdin",
     "output_type": "stream",
     "text": [
      "ENTER direction(up/down/left/right): left\n"
     ]
    },
    {
     "name": "stdout",
     "output_type": "stream",
     "text": [
      "You hit yourself....Game over!!!\n",
      "Final score: 46\n"
     ]
    }
   ],
   "source": [
    "# snake-game\n",
    "import random\n",
    "\n",
    "width=10\n",
    "height=10\n",
    "\n",
    "def print_board(snake,food):\n",
    "    for y in range(height):\n",
    "        for x in range(width):\n",
    "            if [x,y]==food:\n",
    "                print('F',end=' ')\n",
    "            elif[x,y] in snake:\n",
    "                print('S',end=' ')\n",
    "            else:\n",
    "                print('.',end=' ')\n",
    "        print()\n",
    "    print()  \n",
    "def move_snake(snake,direction):\n",
    "    head=snake[-1]\n",
    "    if direction=='up':\n",
    "        new_head=[head[0],head[1]-1]\n",
    "    elif direction=='down':\n",
    "        new_head=[head[0],head[1]+1]\n",
    "    elif direction=='left':\n",
    "        new_head=[head[0]-1,head[1]]\n",
    "    elif direction=='right':\n",
    "        new_head=[head[0]+1,head[1]]\n",
    "    else:\n",
    "        print(\"Invalid direction,use up/down/right/left.\")\n",
    "        return snake,False\n",
    "        \n",
    "#wall colide conditions\n",
    "    if new_head[0]<0 or new_head[0]>=width or new_head[1]<0 or new_head[1]>=height:\n",
    "        return snake,'wall'\n",
    "#self colide conditions\n",
    "    if new_head in snake:\n",
    "        return snake,'self'\n",
    "        \n",
    "    snake.append(new_head)\n",
    "    return snake,new_head\n",
    "def place_food(snake):\n",
    "    while True:\n",
    "        x=random.randint(0,width-1)\n",
    "        y=random.randint(0,height-1)\n",
    "        if [x,y] not in snake:\n",
    "            return[x,y]\n",
    "            \n",
    "def snake_game():\n",
    "    snake=[[5,5]]\n",
    "    food=place_food(snake)\n",
    "    score=0\n",
    "    while True:\n",
    "        print_board(snake,food)\n",
    "        print(\"Score:\",score)\n",
    "        direction=input(\"ENTER direction(up/down/left/right):\")\n",
    "        snake,result=move_snake(snake,direction)\n",
    "        if result=='wall':\n",
    "            print(\"You hit the wall,Game over!!!\")\n",
    "            break\n",
    "        elif result=='self':\n",
    "            print(\"You hit yourself....Game over!!!\")\n",
    "            break\n",
    "        elif result==food:\n",
    "            score+=1\n",
    "            food=place_food(snake)\n",
    "        else:\n",
    "            snake.pop(0)\n",
    "    print(\"Final score:\",score)\n",
    "snake_game()               \n"
   ]
  },
  {
   "cell_type": "code",
   "execution_count": null,
   "id": "469d6096-725b-4612-8c6d-840ca0602140",
   "metadata": {},
   "outputs": [],
   "source": []
  }
 ],
 "metadata": {
  "kernelspec": {
   "display_name": "Python 3 (ipykernel)",
   "language": "python",
   "name": "python3"
  },
  "language_info": {
   "codemirror_mode": {
    "name": "ipython",
    "version": 3
   },
   "file_extension": ".py",
   "mimetype": "text/x-python",
   "name": "python",
   "nbconvert_exporter": "python",
   "pygments_lexer": "ipython3",
   "version": "3.12.7"
  }
 },
 "nbformat": 4,
 "nbformat_minor": 5
}
