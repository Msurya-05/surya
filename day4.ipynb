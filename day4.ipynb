{
 "cells": [
  {
   "cell_type": "code",
   "execution_count": 3,
   "id": "c20fdf9b-12ac-464f-9996-53f51740a8ef",
   "metadata": {},
   "outputs": [
    {
     "name": "stdout",
     "output_type": "stream",
     "text": [
      "hi students\n",
      "india\n"
     ]
    }
   ],
   "source": [
    "num=99\n",
    "if(num>0):\n",
    "    print(\"hi students\")\n",
    "print(\"india\")    \n",
    "    "
   ]
  },
  {
   "cell_type": "code",
   "execution_count": 5,
   "id": "9a1c8630-ec7a-4d2d-9e71-e11551dc4eec",
   "metadata": {},
   "outputs": [
    {
     "name": "stdout",
     "output_type": "stream",
     "text": [
      "india\n"
     ]
    }
   ],
   "source": [
    "num=-99\n",
    "if(num>0):\n",
    "    print(\"hi students\")\n",
    "print(\"india\")    \n",
    "    "
   ]
  },
  {
   "cell_type": "code",
   "execution_count": 7,
   "id": "7d2de640-493d-4505-9aea-0881e007c72e",
   "metadata": {},
   "outputs": [
    {
     "name": "stdin",
     "output_type": "stream",
     "text": [
      "enter your age: 22\n"
     ]
    },
    {
     "name": "stdout",
     "output_type": "stream",
     "text": [
      "eligible\n"
     ]
    }
   ],
   "source": [
    "'''write a programm to check whether the person is eligible to votw by using if condition.\n",
    "test case:\n",
    "input:23\n",
    "output:eligible'''\n",
    "person=int(input(\"enter your age:\"))\n",
    "limit=21\n",
    "if person>=limit:\n",
    "    print(\"eligible\")\n",
    "else:\n",
    "    print(\"Not eligible\")"
   ]
  },
  {
   "cell_type": "code",
   "execution_count": 9,
   "id": "c7c80442-69cb-45bf-9ae2-881661bbff3a",
   "metadata": {},
   "outputs": [
    {
     "name": "stdin",
     "output_type": "stream",
     "text": [
      "enter your age: 17\n"
     ]
    },
    {
     "name": "stdout",
     "output_type": "stream",
     "text": [
      "Not eligible\n"
     ]
    }
   ],
   "source": [
    "person=int(input(\"enter your age:\"))\n",
    "limit=21\n",
    "if person>=limit:\n",
    "    print(\"eligible\")\n",
    "else:\n",
    "    print(\"Not eligible\")"
   ]
  },
  {
   "cell_type": "code",
   "execution_count": 11,
   "id": "ac7ea6b6-0089-4cff-8aeb-c1d2846537cf",
   "metadata": {
    "collapsed": true,
    "jupyter": {
     "outputs_hidden": true
    }
   },
   "outputs": [
    {
     "name": "stdin",
     "output_type": "stream",
     "text": [
      "enter your age: 23\n"
     ]
    },
    {
     "name": "stdout",
     "output_type": "stream",
     "text": [
      "eligible\n",
      "yes\n"
     ]
    }
   ],
   "source": [
    "# shortif\n",
    "person=int(input(\"enter your age:\"))\n",
    "limit=21\n",
    "if person>=limit:\n",
    "    print(\"eligible\")\n",
    "    print(\"yes\")"
   ]
  },
  {
   "cell_type": "code",
   "execution_count": 15,
   "id": "414e2fbe-11b8-4321-b233-cea4c06da038",
   "metadata": {},
   "outputs": [
    {
     "name": "stdin",
     "output_type": "stream",
     "text": [
      "enter a number: 98\n"
     ]
    },
    {
     "name": "stdout",
     "output_type": "stream",
     "text": [
      "98 is a even number\n",
      "after condition exit!!!\n"
     ]
    }
   ],
   "source": [
    "'''print whether the number is even and skip the condition if not'''\n",
    "num=int(input(\"enter a number:\"))\n",
    "if num%2==0: print(num,\"is a even number\")\n",
    "print(\"after condition exit!!!\")\n"
   ]
  },
  {
   "cell_type": "code",
   "execution_count": 27,
   "id": "84067cb2-2187-46f2-90bd-c4544c345609",
   "metadata": {},
   "outputs": [
    {
     "name": "stdin",
     "output_type": "stream",
     "text": [
      "press any key: 9\n"
     ]
    },
    {
     "name": "stdout",
     "output_type": "stream",
     "text": [
      "the user has entered digit\n"
     ]
    }
   ],
   "source": [
    "'''programm to determine the character entered by a user,whether it is an alphabet,digit or spacce by using seperate if condition and predefined string functions'''\n",
    "char=input(\"press any key:\")\n",
    "if char.isalpha():\n",
    "    print(\"the user has entered character\")\n",
    "if char.isdigit():\n",
    "    print(\"the user has entered digit\")\n",
    "if char.isspace():\n",
    "    print(\"the user has entered space\")\n",
    "if char.islower():\n",
    "    print(\"the user has entered lower char\")\n",
    "if char.isupper():\n",
    "    print(\"the user has entered upper char\")\n"
   ]
  },
  {
   "cell_type": "code",
   "execution_count": 33,
   "id": "b4cd429d-e11f-4dcf-b2e8-e10d244f5929",
   "metadata": {},
   "outputs": [
    {
     "name": "stdin",
     "output_type": "stream",
     "text": [
      "enter the value of a: -4\n",
      "enter the value of b: -99\n"
     ]
    },
    {
     "name": "stdout",
     "output_type": "stream",
     "text": [
      "smaller value is -99\n"
     ]
    }
   ],
   "source": [
    "'''write a programm to find the smallest of two numbers by using if-else condition\n",
    "where take a manual input from the user\n",
    "a=-4\n",
    "b=-99'''\n",
    "a=int(input(\"enter the value of a:\"))\n",
    "b=int(input(\"enter the value of b:\"))\n",
    "if a<b:\n",
    "    smaller=a\n",
    "else:\n",
    "    smaller=b\n",
    "print(\"smaller value is\",smaller)"
   ]
  },
  {
   "cell_type": "code",
   "execution_count": 46,
   "id": "0c575ccd-e18a-456b-b95f-84acf9fd3570",
   "metadata": {},
   "outputs": [
    {
     "name": "stdin",
     "output_type": "stream",
     "text": [
      "enter any character from a-z: g\n"
     ]
    },
    {
     "name": "stdout",
     "output_type": "stream",
     "text": [
      "converted case of input char: G\n"
     ]
    }
   ],
   "source": [
    "'''write a programm to enter a character (a to z),if the entered character is in lower convert it into upper and viceversa\n",
    "input:a\n",
    "output:A\n",
    "input:Y\n",
    "output:y'''\n",
    "ch=input(\"enter any character from a-z:\")\n",
    "if ch>='A' and ch<='Z':\n",
    "    ch=ch.lower()\n",
    "    print(\"converted case of input char:\",ch)\n",
    "else:\n",
    "     ch=ch.upper()\n",
    "     print(\"converted case of input char:\",ch)"
   ]
  },
  {
   "cell_type": "code",
   "execution_count": 107,
   "id": "cd325e20-9e0a-4d2a-9295-972f9366de06",
   "metadata": {},
   "outputs": [
    {
     "name": "stdin",
     "output_type": "stream",
     "text": [
      "enter a number: 2004\n"
     ]
    },
    {
     "name": "stdout",
     "output_type": "stream",
     "text": [
      "It is leap year\n"
     ]
    }
   ],
   "source": [
    "'''check whether the given input is a leap year for 4 years and centurians by if-else'''\n",
    "num=int(input(\"enter a number:\"))\n",
    "if num%4==0 or num %100 ==0 or num%400==0:\n",
    "    print(\"It is leap year\")\n",
    "else:\n",
    "    print(\"It is not a leap year\")"
   ]
  },
  {
   "cell_type": "code",
   "execution_count": 121,
   "id": "9c0fc953-dfa2-4755-bf86-369c6644b850",
   "metadata": {},
   "outputs": [
    {
     "name": "stdin",
     "output_type": "stream",
     "text": [
      "enter the number 5\n"
     ]
    },
    {
     "name": "stdout",
     "output_type": "stream",
     "text": [
      "positive\n"
     ]
    }
   ],
   "source": [
    "'''write a programm to check whether the given number is a positive,negetive or a zero'''\n",
    "num=int(input(\"enter the number\"))\n",
    "if num==0:\n",
    "    print(\"zero entered\")\n",
    "elif num>0:\n",
    "    print(\"positive\")\n",
    "else:\n",
    "    print(\"negetive\")"
   ]
  },
  {
   "cell_type": "code",
   "execution_count": 134,
   "id": "f4ea8554-f95a-4e3c-8910-b4d09d4b2218",
   "metadata": {},
   "outputs": [
    {
     "name": "stdin",
     "output_type": "stream",
     "text": [
      "enter the num between 1-7: 6\n"
     ]
    },
    {
     "name": "stdout",
     "output_type": "stream",
     "text": [
      "Friday\n"
     ]
    }
   ],
   "source": [
    "num=int(input(\"enter the num between 1-7:\"))\n",
    "if num==1:print(\"Sunday\")\n",
    "elif num==2:print(\"Monday\")\n",
    "elif num==3:print(\"Tuesday\")\n",
    "elif num==4:print(\"Wednesday\")\n",
    "elif num==5:print(\"Thursday\")\n",
    "elif num==6:print(\"Friday\")\n",
    "elif num==7:print(\"Saturday\")\n",
    "else:print(\"wrong\")\n",
    "\n",
    "\n"
   ]
  },
  {
   "cell_type": "code",
   "execution_count": 164,
   "id": "249820c5-300e-44fb-9e99-59b5d4210e08",
   "metadata": {},
   "outputs": [
    {
     "name": "stdin",
     "output_type": "stream",
     "text": [
      "enter a character: u\n"
     ]
    },
    {
     "name": "stdout",
     "output_type": "stream",
     "text": [
      "it is vowel\n"
     ]
    }
   ],
   "source": [
    "'''write a program to find the entered character is a vowel or a consonent, while user input could be eiether upper or lower using if-elif-else'''\n",
    "ch=input(\"enter a character:\")\n",
    "if ch==\"a\" or ch==\"e\" or ch==\"i\" or ch==\"o\" or ch==\"u\":\n",
    "    print(\"it is vowel\")\n",
    "elif ch==\"A\" or ch==\"E\" or ch==\"I\" or ch==\"O\" or ch==\"U\":\n",
    "    print(\"it is vowel\")\n",
    "else:\n",
    "    print(\"it is consonent\")"
   ]
  },
  {
   "cell_type": "code",
   "execution_count": 174,
   "id": "aae695b0-3738-4500-ba57-0df400267905",
   "metadata": {},
   "outputs": [
    {
     "name": "stdin",
     "output_type": "stream",
     "text": [
      "enter the num 5\n",
      "enter the num 6\n",
      "enter the opearator: *\n"
     ]
    },
    {
     "name": "stdout",
     "output_type": "stream",
     "text": [
      "result 30.0\n"
     ]
    }
   ],
   "source": [
    "'''create a simple calc by using if-elif to perform airthmetic operations +-/* by choice of user input'''\n",
    "a=float(input(\"enter the num\"))\n",
    "b=float(input(\"enter the num\"))\n",
    "op=input(\"enter the opearator:\")\n",
    "if op=='+':\n",
    "    print(\"result\",a+b)\n",
    "elif op=='-':\n",
    "    print(\"result\",a-b)\n",
    "elif op=='*':\n",
    "    print(\"result\",a*b)\n",
    "elif op=='/':\n",
    "    if b!=0:\n",
    "        print(\"result\",a/b)\n",
    "else:\n",
    "    print(\"invalid operator\")\n"
   ]
  },
  {
   "cell_type": "code",
   "execution_count": null,
   "id": "b782b4a3-a0f8-4a03-8b34-b5fd37a1accf",
   "metadata": {},
   "outputs": [],
   "source": []
  }
 ],
 "metadata": {
  "kernelspec": {
   "display_name": "Python 3 (ipykernel)",
   "language": "python",
   "name": "python3"
  },
  "language_info": {
   "codemirror_mode": {
    "name": "ipython",
    "version": 3
   },
   "file_extension": ".py",
   "mimetype": "text/x-python",
   "name": "python",
   "nbconvert_exporter": "python",
   "pygments_lexer": "ipython3",
   "version": "3.12.7"
  }
 },
 "nbformat": 4,
 "nbformat_minor": 5
}
