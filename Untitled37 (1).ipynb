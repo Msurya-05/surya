{
 "cells": [
  {
   "cell_type": "code",
   "execution_count": 8,
   "id": "a4ff40b0-7213-4de4-b3ef-2ff796a0e82f",
   "metadata": {},
   "outputs": [
    {
     "name": "stdout",
     "output_type": "stream",
     "text": [
      "hello students\n",
      "suryasuryasuryasuryasurya\n"
     ]
    }
   ],
   "source": [
    "def hi():\n",
    "    print(\"hello students\")\n",
    "    print(\"surya\"*5)\n",
    "hi()"
   ]
  },
  {
   "cell_type": "code",
   "execution_count": 16,
   "id": "f36d365c-5ddd-4e27-9ab9-9ef4d8d339dc",
   "metadata": {},
   "outputs": [
    {
     "name": "stdin",
     "output_type": "stream",
     "text": [
      "enter the money: 40\n",
      "enter the money: 50\n"
     ]
    },
    {
     "name": "stdout",
     "output_type": "stream",
     "text": [
      "total amount: 90\n"
     ]
    }
   ],
   "source": [
    "#function with parameters return value\n",
    "def add(a,b):\n",
    "    return a+b\n",
    "student1=int(input(\"enter the money:\"))\n",
    "student2=int(input(\"enter the money:\"))\n",
    "total=add(student1,student2)\n",
    "print(\"total amount:\",total)"
   ]
  },
  {
   "cell_type": "code",
   "execution_count": 18,
   "id": "a0f17e9d-cfe5-4985-8dc0-7e26bbe400e6",
   "metadata": {},
   "outputs": [
    {
     "name": "stdin",
     "output_type": "stream",
     "text": [
      "enter the money: 50\n",
      "enter the money: 50\n"
     ]
    },
    {
     "name": "stdout",
     "output_type": "stream",
     "text": [
      "total: 100\n"
     ]
    }
   ],
   "source": [
    "#function with parameters no return value\n",
    "def add(student1,student2):\n",
    "    print(\"total:\",student1+student2)\n",
    "student1=int(input(\"enter the money:\"))\n",
    "student2=int(input(\"enter the money:\"))\n",
    "add(student1,student2)"
   ]
  },
  {
   "cell_type": "code",
   "execution_count": 20,
   "id": "8ac02b09-b098-4c43-a359-06720b2fc3ed",
   "metadata": {},
   "outputs": [
    {
     "name": "stdout",
     "output_type": "stream",
     "text": [
      "value in the function is 3.14159\n"
     ]
    }
   ],
   "source": [
    "def value():\n",
    "    return 3.14159\n",
    "result=value()\n",
    "print(\"value in the function is\",result)"
   ]
  },
  {
   "cell_type": "code",
   "execution_count": 22,
   "id": "357685fd-19a5-45a7-9222-90f478551d9d",
   "metadata": {},
   "outputs": [
    {
     "name": "stdin",
     "output_type": "stream",
     "text": [
      "enter your name: surya\n"
     ]
    },
    {
     "name": "stdout",
     "output_type": "stream",
     "text": [
      "welcome surya\n"
     ]
    }
   ],
   "source": [
    "def get_name():\n",
    "    name=input(\"enter your name:\")\n",
    "    return name\n",
    "username=get_name()\n",
    "print(\"welcome\",username)"
   ]
  },
  {
   "cell_type": "code",
   "execution_count": 24,
   "id": "e1293366-51b2-479b-8bec-4e5456fec847",
   "metadata": {},
   "outputs": [
    {
     "name": "stdout",
     "output_type": "stream",
     "text": [
      "120\n"
     ]
    }
   ],
   "source": [
    "a=100\n",
    "def value(a):\n",
    "    return a+20\n",
    "op=value(a)\n",
    "print(op)"
   ]
  },
  {
   "cell_type": "code",
   "execution_count": 26,
   "id": "b19347f6-4676-4f1a-a84e-d7f32a98aea1",
   "metadata": {},
   "outputs": [
    {
     "name": "stdout",
     "output_type": "stream",
     "text": [
      "Name: vijay\n",
      "Age: 32\n",
      "Name: surya\n",
      "Age: 0\n",
      "Name: unknown\n",
      "Age: 21\n",
      "Name: unknown\n",
      "Age: 0\n"
     ]
    }
   ],
   "source": [
    "def info(name='unknown',age=0):\n",
    "    print(\"Name:\",name)\n",
    "    print(\"Age:\",age)\n",
    "info(\"vijay\",32)\n",
    "info(\"surya\")\n",
    "info(age=21)\n",
    "info()"
   ]
  },
  {
   "cell_type": "code",
   "execution_count": 30,
   "id": "78540c2c-3a0d-4b50-951b-cc60752a12ab",
   "metadata": {},
   "outputs": [
    {
     "name": "stdin",
     "output_type": "stream",
     "text": [
      "enter a: 10\n",
      "enter b: 20\n"
     ]
    },
    {
     "name": "stdout",
     "output_type": "stream",
     "text": [
      "sum= (30, -10, 200, 0.5)\n"
     ]
    }
   ],
   "source": [
    "def cal(a,b):\n",
    "    return a+b,a-b,a*b,a/b\n",
    "a=int(input(\"enter a:\"))\n",
    "b=int(input(\"enter b:\"))\n",
    "sum=cal(a,b)\n",
    "print(\"sum=\",sum)"
   ]
  },
  {
   "cell_type": "code",
   "execution_count": 34,
   "id": "4c70c3a1-b5f1-4603-a90c-8ca3dbde9804",
   "metadata": {},
   "outputs": [
    {
     "name": "stdin",
     "output_type": "stream",
     "text": [
      "enter a: 10\n",
      "enter b: 20\n"
     ]
    },
    {
     "name": "stdout",
     "output_type": "stream",
     "text": [
      "sum= 30\n",
      "subract= -10\n",
      "multiply= 200\n",
      "division= 0.5\n"
     ]
    }
   ],
   "source": [
    "def cal(a,b):\n",
    "    return a+b,a-b,a*b,a/b\n",
    "a=int(input(\"enter a:\"))\n",
    "b=int(input(\"enter b:\"))\n",
    "sum,diff,pro,div=cal(a,b)\n",
    "print(\"sum=\",sum)\n",
    "print(\"subract=\",diff)\n",
    "print(\"multiply=\",pro)\n",
    "print(\"division=\",div)"
   ]
  },
  {
   "cell_type": "code",
   "execution_count": 82,
   "id": "3877f4a6-47eb-4b25-85b4-b36e1af76e8b",
   "metadata": {},
   "outputs": [
    {
     "name": "stdin",
     "output_type": "stream",
     "text": [
      " 3\n",
      " 5\n",
      " 7\n"
     ]
    },
    {
     "ename": "TypeError",
     "evalue": "'int' object is not callable",
     "output_type": "error",
     "traceback": [
      "\u001b[1;31m---------------------------------------------------------------------------\u001b[0m",
      "\u001b[1;31mTypeError\u001b[0m                                 Traceback (most recent call last)",
      "Cell \u001b[1;32mIn[82], line 6\u001b[0m\n\u001b[0;32m      4\u001b[0m b\u001b[38;5;241m=\u001b[39m\u001b[38;5;28mint\u001b[39m(\u001b[38;5;28minput\u001b[39m(\u001b[38;5;124m\"\u001b[39m\u001b[38;5;124m\"\u001b[39m))\n\u001b[0;32m      5\u001b[0m c\u001b[38;5;241m=\u001b[39m\u001b[38;5;28mint\u001b[39m(\u001b[38;5;28minput\u001b[39m(\u001b[38;5;124m\"\u001b[39m\u001b[38;5;124m\"\u001b[39m))\n\u001b[1;32m----> 6\u001b[0m maxi,mini\u001b[38;5;241m=\u001b[39mmax_min(a,b,c)\n\u001b[0;32m      7\u001b[0m \u001b[38;5;28mprint\u001b[39m(\u001b[38;5;124m\"\u001b[39m\u001b[38;5;124mmaximum:\u001b[39m\u001b[38;5;124m\"\u001b[39m,maxi)\n\u001b[0;32m      8\u001b[0m \u001b[38;5;28mprint\u001b[39m(\u001b[38;5;124m\"\u001b[39m\u001b[38;5;124mminimum:\u001b[39m\u001b[38;5;124m\"\u001b[39m,mini)\n",
      "Cell \u001b[1;32mIn[82], line 2\u001b[0m, in \u001b[0;36mmax_min\u001b[1;34m(a, b, c)\u001b[0m\n\u001b[0;32m      1\u001b[0m \u001b[38;5;28;01mdef\u001b[39;00m \u001b[38;5;21mmax_min\u001b[39m(a,b,c):\n\u001b[1;32m----> 2\u001b[0m     \u001b[38;5;28;01mreturn\u001b[39;00m \u001b[38;5;28mmax\u001b[39m(a,b,c),\u001b[38;5;28mmin\u001b[39m(a,b,c)\n",
      "\u001b[1;31mTypeError\u001b[0m: 'int' object is not callable"
     ]
    }
   ],
   "source": [
    "def max_min(a,b,c):\n",
    "    return max(a,b,c),min(a,b,c)\n",
    "a=int(input(\"\"))\n",
    "b=int(input(\"\"))\n",
    "c=int(input(\"\"))\n",
    "maxi,mini=max_min(a,b,c)\n",
    "print(\"maximum:\",maxi)\n",
    "print(\"minimum:\",mini)"
   ]
  },
  {
   "cell_type": "code",
   "execution_count": 88,
   "id": "1f067d58-7771-43ed-a4f0-749d778e6de9",
   "metadata": {},
   "outputs": [
    {
     "name": "stdin",
     "output_type": "stream",
     "text": [
      "enter the numbers: 34 567 8 90 3\n"
     ]
    },
    {
     "name": "stdout",
     "output_type": "stream",
     "text": [
      "even count: 3\n",
      "odd count: 2\n"
     ]
    }
   ],
   "source": [
    "def eo(numbers):\n",
    "    e=0\n",
    "    o=0\n",
    "    for n in numbers:\n",
    "        if n%2==0:\n",
    "            e+=1\n",
    "        else:\n",
    "            o+=1\n",
    "    return e,o\n",
    "num=input(\"enter the numbers:\")\n",
    "num_list=list(map(int,num.split()))\n",
    "e,o=eo(num_list)\n",
    "print(\"even count:\",e)\n",
    "print(\"odd count:\",o)"
   ]
  },
  {
   "cell_type": "code",
   "execution_count": 92,
   "id": "6bad9db6-8021-43c2-b061-8f7f84d3d889",
   "metadata": {},
   "outputs": [
    {
     "name": "stdout",
     "output_type": "stream",
     "text": [
      "27\n"
     ]
    }
   ],
   "source": [
    "expo=lambda a:a**a\n",
    "print(expo(3))"
   ]
  },
  {
   "cell_type": "code",
   "execution_count": 98,
   "id": "cb7a0349-a583-4b75-a756-0442a6436592",
   "metadata": {},
   "outputs": [
    {
     "name": "stdout",
     "output_type": "stream",
     "text": [
      "sum: 15\n"
     ]
    }
   ],
   "source": [
    "add=lambda a,b: a+b\n",
    "print(\"sum:\",add(7,8))"
   ]
  },
  {
   "cell_type": "code",
   "execution_count": 100,
   "id": "6190fd0e-897f-427f-b7c1-119325ae9a16",
   "metadata": {},
   "outputs": [
    {
     "name": "stdout",
     "output_type": "stream",
     "text": [
      "Is 6 even? True\n"
     ]
    }
   ],
   "source": [
    "is_even=lambda n:n%2==0\n",
    "print(\"Is 6 even?\",is_even(6))"
   ]
  },
  {
   "cell_type": "code",
   "execution_count": null,
   "id": "053ab054-2ed0-488f-9402-346608e07f86",
   "metadata": {},
   "outputs": [],
   "source": [
    "nums=[1,2,3,4,5,6,7,8,9,10]\n",
    "sq=list(map(lambda n))"
   ]
  }
 ],
 "metadata": {
  "kernelspec": {
   "display_name": "Python 3 (ipykernel)",
   "language": "python",
   "name": "python3"
  },
  "language_info": {
   "codemirror_mode": {
    "name": "ipython",
    "version": 3
   },
   "file_extension": ".py",
   "mimetype": "text/x-python",
   "name": "python",
   "nbconvert_exporter": "python",
   "pygments_lexer": "ipython3",
   "version": "3.12.7"
  }
 },
 "nbformat": 4,
 "nbformat_minor": 5
}
