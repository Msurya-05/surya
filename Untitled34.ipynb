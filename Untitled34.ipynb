{
 "cells": [
  {
   "cell_type": "code",
   "execution_count": 9,
   "id": "cc6e644b-d00f-480e-a884-3814a13730f8",
   "metadata": {},
   "outputs": [
    {
     "name": "stdout",
     "output_type": "stream",
     "text": [
      "this is outer function...\n",
      "this is inner function...\n"
     ]
    }
   ],
   "source": [
    "def outer():\n",
    "    print(\"this is outer function...\")\n",
    "    def inner():\n",
    "        print(\"this is inner function...\")\n",
    "    inner()\n",
    "outer()"
   ]
  },
  {
   "cell_type": "code",
   "execution_count": 15,
   "id": "7a76b5a3-27be-46b0-bdf0-913bb51ba655",
   "metadata": {},
   "outputs": [
    {
     "name": "stdin",
     "output_type": "stream",
     "text": [
      "enter a number: 4\n",
      "enter a number: 2\n"
     ]
    },
    {
     "name": "stdout",
     "output_type": "stream",
     "text": [
      "addition 6\n",
      "subraction 2\n",
      "multiply 8\n",
      "division 2.0\n"
     ]
    }
   ],
   "source": [
    "def cal(a,b):\n",
    "    def add():\n",
    "        return a+b\n",
    "    def sub():\n",
    "        return a-b\n",
    "    def mul():\n",
    "        return a*b\n",
    "    def div():\n",
    "        return a/b\n",
    "    print(\"addition\",add())\n",
    "    print(\"subraction\",sub())\n",
    "    print(\"multiply\",mul())\n",
    "    print(\"division\",div())\n",
    "a=int(input(\"enter a number:\"))\n",
    "b=int(input(\"enter a number:\"))\n",
    "cal(a,b)"
   ]
  },
  {
   "cell_type": "code",
   "execution_count": 17,
   "id": "03ec6bb6-3ccf-4fbb-a461-6ec4b02fd81a",
   "metadata": {},
   "outputs": [
    {
     "name": "stdout",
     "output_type": "stream",
     "text": [
      "10\n",
      "30\n"
     ]
    }
   ],
   "source": [
    "def mul_by(n):\n",
    "    def inner(x):\n",
    "        return x*n\n",
    "    return inner\n",
    "times_2=mul_by(2)\n",
    "times_3=mul_by(3)\n",
    "print(times_2(5))\n",
    "print(times_3(10))"
   ]
  },
  {
   "cell_type": "code",
   "execution_count": 19,
   "id": "74a06237-aa37-41ff-ba44-339eddef0be8",
   "metadata": {},
   "outputs": [
    {
     "name": "stdout",
     "output_type": "stream",
     "text": [
      "Hello,vijay!!!!!\n"
     ]
    }
   ],
   "source": [
    "def greet(text):\n",
    "    def inner(name):\n",
    "        return f\"{text},{name}!!!!!\"\n",
    "    return inner\n",
    "hi=greet('Hello')\n",
    "print(hi('vijay'))"
   ]
  },
  {
   "cell_type": "code",
   "execution_count": 23,
   "id": "6587e98f-183c-45c3-acb9-265dcf52a567",
   "metadata": {},
   "outputs": [
    {
     "name": "stdout",
     "output_type": "stream",
     "text": [
      "Hello,Mr.Vijay\n",
      "Hello,Dr.Jason\n"
     ]
    }
   ],
   "source": [
    "def titled(title):\n",
    "    def greet(name):\n",
    "        return f\"Hello,{title}{name}\"\n",
    "    return greet\n",
    "mr_greet=titled(\"Mr.\")\n",
    "dr_greet=titled(\"Dr.\")\n",
    "print(mr_greet(\"Vijay\"))\n",
    "print(dr_greet(\"Jason\"))"
   ]
  },
  {
   "cell_type": "code",
   "execution_count": 29,
   "id": "6ab1f665-4a96-400f-9de2-4097b179aed8",
   "metadata": {},
   "outputs": [
    {
     "name": "stdout",
     "output_type": "stream",
     "text": [
      "x=  22\n",
      "locally 32\n",
      "x= 100\n",
      "latest value of y gloabally: 25\n",
      "globally 125\n"
     ]
    }
   ],
   "source": [
    "x=100\n",
    "y=10\n",
    "def display():\n",
    "    x=22\n",
    "    print(\"x= \",x)\n",
    "    print(\"locally\",x+y)\n",
    "display()\n",
    "print(\"x=\",x)\n",
    "y=10\n",
    "y=25\n",
    "print(\"latest value of y gloabally:\",y)\n",
    "print(\"globally\",x+y)"
   ]
  },
  {
   "cell_type": "code",
   "execution_count": 33,
   "id": "52c4f24f-5f1c-443d-915a-f4ecf48a8a35",
   "metadata": {},
   "outputs": [
    {
     "name": "stdin",
     "output_type": "stream",
     "text": [
      "enter marks of a subject: 80\n"
     ]
    },
    {
     "name": "stdout",
     "output_type": "stream",
     "text": [
      "subject1 marks: 80\n"
     ]
    },
    {
     "name": "stdin",
     "output_type": "stream",
     "text": [
      "enter marks of a subject: 96\n"
     ]
    },
    {
     "name": "stdout",
     "output_type": "stream",
     "text": [
      "subject2 marks: 96\n"
     ]
    },
    {
     "name": "stdin",
     "output_type": "stream",
     "text": [
      "enter marks of a subject: 92\n"
     ]
    },
    {
     "name": "stdout",
     "output_type": "stream",
     "text": [
      "subject3 marks: 92\n",
      "total marks stored in global: 268\n"
     ]
    }
   ],
   "source": [
    "total=0\n",
    "def add_subject_marks():\n",
    "    global total\n",
    "    marks=int(input(\"enter marks of a subject:\"))\n",
    "    total+=marks\n",
    "    return marks\n",
    "print(\"subject1 marks:\",add_subject_marks())\n",
    "print(\"subject2 marks:\",add_subject_marks())\n",
    "print(\"subject3 marks:\",add_subject_marks())\n",
    "print(\"total marks stored in global:\",total)"
   ]
  },
  {
   "cell_type": "code",
   "execution_count": 39,
   "id": "48832b15-fc53-4930-958c-50d90aadf9c2",
   "metadata": {},
   "outputs": [
    {
     "name": "stdin",
     "output_type": "stream",
     "text": [
      "Enter marks for a subject:  80\n"
     ]
    },
    {
     "name": "stdout",
     "output_type": "stream",
     "text": [
      "Subject 1 marks: 80\n"
     ]
    },
    {
     "name": "stdin",
     "output_type": "stream",
     "text": [
      "Enter marks for a subject:  90\n"
     ]
    },
    {
     "name": "stdout",
     "output_type": "stream",
     "text": [
      "Subject 2 marks: 90\n"
     ]
    },
    {
     "name": "stdin",
     "output_type": "stream",
     "text": [
      "Enter marks for a subject:  90\n"
     ]
    },
    {
     "name": "stdout",
     "output_type": "stream",
     "text": [
      "Subject 3 marks: 90\n",
      "\n",
      "Total marks stored in global: 260\n",
      "Average marks: 86.66666666666667\n"
     ]
    }
   ],
   "source": [
    "total = 0\n",
    "num_subjects = 0 \n",
    "\n",
    "def add_subject_marks():\n",
    "    global total\n",
    "    global num_subjects  \n",
    "\n",
    "    marks = int(input(\"Enter marks for a subject: \"))\n",
    "    total += marks\n",
    "    num_subjects += 1 \n",
    "    return marks\n",
    "print(\"Subject 1 marks:\", add_subject_marks())\n",
    "print(\"Subject 2 marks:\", add_subject_marks())\n",
    "print(\"Subject 3 marks:\", add_subject_marks())\n",
    "print(\"\\nTotal marks stored in global:\", total)\n",
    "num_subjects()\n",
    "average = total / num_subjects\n",
    "print(\"Average marks:\", average)\n"
   ]
  },
  {
   "cell_type": "code",
   "execution_count": null,
   "id": "9d139651-7ed0-4566-9ff3-03f21edd42c5",
   "metadata": {},
   "outputs": [],
   "source": [
    "subject_marks=[]\n",
    "def add_subject_marks():\n",
    "    mark=int(input(\"Enter marks for a subject\"))\n",
    "    subject_marks.append(mark)\n",
    "    return mark\n",
    "print(\"subject1 marks:\",add_subject_marks())\n",
    "print(\"subject2 marks:\",add_subject_marks())\n",
    "print(\"subject3 marks:\",add-subject_marks())\n",
    "print(\"Allsubject marks\",subject_marks)\n",
    "total=sum(subject_marks)\n",
    "l=len(subject_marks)\n",
    "avg=total/l\n",
    "print(\"total marks\",total)\n",
    "print()"
   ]
  }
 ],
 "metadata": {
  "kernelspec": {
   "display_name": "Python 3 (ipykernel)",
   "language": "python",
   "name": "python3"
  },
  "language_info": {
   "codemirror_mode": {
    "name": "ipython",
    "version": 3
   },
   "file_extension": ".py",
   "mimetype": "text/x-python",
   "name": "python",
   "nbconvert_exporter": "python",
   "pygments_lexer": "ipython3",
   "version": "3.12.7"
  }
 },
 "nbformat": 4,
 "nbformat_minor": 5
}
